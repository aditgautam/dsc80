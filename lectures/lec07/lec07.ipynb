{
 "cells": [
  {
   "cell_type": "code",
   "execution_count": 5,
   "id": "8c8a44b8",
   "metadata": {
    "slideshow": {
     "slide_type": "skip"
    }
   },
   "outputs": [],
   "source": [
    "from dsc80_utils import *"
   ]
  },
  {
   "cell_type": "markdown",
   "id": "ce9e66d9",
   "metadata": {
    "slideshow": {
     "slide_type": "slide"
    }
   },
   "source": [
    "# Lecture 7 – Missingness Mechanisms\n",
    "\n",
    "## DSC 80, Summer 2025"
   ]
  },
  {
   "cell_type": "markdown",
   "id": "22824200",
   "metadata": {
    "slideshow": {
     "slide_type": "slide"
    }
   },
   "source": [
    "### Announcements 📣\n",
    "\n",
    "- Lab 4 will be released today and is due on **Thursday, August 14**.\n",
    "- Project 1 is due **Saturday, August 16**.\n",
    "- Keep up the solid work! :)"
   ]
  },
  {
   "cell_type": "markdown",
   "id": "94b4d64c",
   "metadata": {
    "slideshow": {
     "slide_type": "slide"
    }
   },
   "source": [
    "### Come help us interview teaching professor candidates!\n",
    "\n",
    "HDSI is interviewing candidates for the teaching professor role, and we want students to attend their job talks (which are mock lectures)! Your feedback will be valued in the evaluation process.\n",
    "\n",
    "Here are the talk times next week:\n",
    "\n",
    "- Monday 2/5, 2-3:30PM.\n",
    "- Thursday 2/8, 1-2:30PM.\n",
    "\n",
    "If you're interested in attending any of these, **please send me an email ASAP** or stay after class to tell me!"
   ]
  },
  {
   "cell_type": "markdown",
   "id": "bd851d5b",
   "metadata": {
    "slideshow": {
     "slide_type": "slide"
    }
   },
   "source": [
    "### Agenda 📆\n",
    "\n",
    "- Missingness mechanisms.\n",
    "    - Why do data go missing?\n",
    "    - Missing by Design.\n",
    "    - Not Missing at Random.\n",
    "    - Missing Completely at Random.\n",
    "    - Missing at Random.\n",
    "- Formal definitions.\n",
    "- Identifying missingness mechanisms in data."
   ]
  },
  {
   "cell_type": "markdown",
   "id": "fc72c50c",
   "metadata": {
    "slideshow": {
     "slide_type": "slide"
    }
   },
   "source": [
    "### Additional resources\n",
    "\n",
    "These recent lectures have been quite conceptual! Here are a few other places to look for readings; many of these are linked on the course homepage and on the [Resources](https://dsc80.com/resources) tab of the course website.\n",
    "\n",
    "- Permutation testing:\n",
    "    - Extra lecture notebook: [Fast Permutation Tests](https://dsc80.com/resources/lectures/lec07/lec07-fast-permutation-tests.html).\n",
    "    - [Great visualization](https://www.jwilber.me/permutationtest/).\n",
    "- Missingness mechanisms:\n",
    "    - [(Old) Course notes](https://notes.dsc80.com/content/06/defining-missing.html).\n",
    "    - [Wikipedia](https://en.wikipedia.org/wiki/Missing_data).\n",
    "    - [This textbook page](https://stefvanbuuren.name/fimd/sec-MCAR.html).\n",
    "    - [This journal article](https://www.ncbi.nlm.nih.gov/pmc/articles/PMC4121561/)."
   ]
  },
  {
   "cell_type": "markdown",
   "id": "88a44ad0",
   "metadata": {
    "slideshow": {
     "slide_type": "slide"
    }
   },
   "source": [
    "<div class=\"alert alert-warning\">\n",
    "    <h3>Breakout 🤔 </h3>\n",
    "</div>\n",
    "\n",
    "_Taken from the Summer 2022 DSC 10 Final Exam._\n",
    "    \n",
    "Every year, the American Kennel Club holds a Photo Contest for dogs. Eric wants to know whether **toy dogs win disproportionately more often than other kinds of dogs**. He has collected a sample of 500 dogs that have won the Photo Contest. In his sample, 200 dogs were toy dogs.\n",
    "\n",
    "Eric also knows the distribution of dog kinds in the population:\n",
    "\n",
    "<center><img src=\"imgs/q6_df.png\" width=\"50%\"></center>\n",
    "\n",
    "Suppose he has the following null and alternative hypotheses:\n",
    "- **Null Hypothesis**: The proportion of toy dogs that win is 0.3.\n",
    "- **Alternative Hypothesis**: The proportion of toy dogs that win is greater than 0.3.\n",
    "\n",
    "**Select all the test statistics that Eric can use to conduct his hypothesis.**\n",
    "\n",
    "- A. The proportion of toy dogs in his sample.\n",
    "- B. The number of toy dogs in his sample.\n",
    "- C. The absolute difference of the sample proportion of toy dogs and 0.3.\n",
    "- D. The absolute difference of the sample proportion of toy dogs and 0.5.\n",
    "- E. The TVD between his sample and the population."
   ]
  },
  {
   "cell_type": "markdown",
   "id": "89ba610b",
   "metadata": {
    "slideshow": {
     "slide_type": "slide"
    }
   },
   "source": [
    "## Missingness mechanisms"
   ]
  },
  {
   "cell_type": "markdown",
   "id": "b9680965",
   "metadata": {
    "slideshow": {
     "slide_type": "slide"
    }
   },
   "source": [
    "### Imperfect data\n",
    "\n",
    "<center><img src=\"imgs/image_0.png\" width=40%></center>\n",
    "\n",
    "- When studying a problem, we are interested in understanding the **true model** in nature.\n",
    "- The data generating process is the \"real-world\" version of the model, that generates the data that we observe.\n",
    "- The recorded data is **supposed** to \"well-represent\" the data generating process, and subsequently the true model.\n",
    "\n",
    "- Example: Consider the upcoming Midterm Exam (on August 18th, in lecture).\n",
    "    - The exam is meant to be a **model** of your **true** knowledge of DSC 80 concepts.\n",
    "    - The data generating process should give us a sense of your true knowledge, but is influenced by the specific questions on the exam, your preparation for the exam, whether or not you are sick on the day of the exam, etc.\n",
    "    - The recorded data consists of the final answers you write on the exam page."
   ]
  },
  {
   "cell_type": "markdown",
   "id": "f8cd9f8f",
   "metadata": {
    "slideshow": {
     "slide_type": "slide"
    }
   },
   "source": [
    "### Imperfect data\n",
    "\n",
    "<center><img src=\"imgs/image_0.png\" width=40%></center>"
   ]
  },
  {
   "cell_type": "markdown",
   "id": "bf9192a4",
   "metadata": {
    "slideshow": {
     "slide_type": "fragment"
    }
   },
   "source": [
    "* **Problem 1**: Your data is not representative, i.e. you have a poor access frame and/or collected a poor sample.\n",
    "    - If the exam only asked questions about `pivot_table`, that would not give us an accurate picture of your understanding of DSC 80!"
   ]
  },
  {
   "cell_type": "markdown",
   "id": "2dca23b4",
   "metadata": {
    "slideshow": {
     "slide_type": "fragment"
    }
   },
   "source": [
    "* **Problem 2**: Some of the entries are missing.\n",
    "    - If you left some questions blank, why?"
   ]
  },
  {
   "cell_type": "markdown",
   "id": "207f796e",
   "metadata": {
    "slideshow": {
     "slide_type": "fragment"
    }
   },
   "source": [
    "We will focus on the second problem."
   ]
  },
  {
   "cell_type": "markdown",
   "id": "3b420d91",
   "metadata": {
    "slideshow": {
     "slide_type": "slide"
    }
   },
   "source": [
    "### Types of missingness\n",
    "\n",
    "There are four key ways in which values can be missing. It is important to distinguish between these types since in some cases, we can **impute** (fill in) the missing data.\n",
    "\n",
    "* **Missing by design (MD)**.\n",
    "* **Not missing at random (NMAR)**.\n",
    "    - Also called \"non-ignorable\" (NI).\n",
    "* **Missing at random (MAR)**.\n",
    "* **Missing completely at random (MCAR)**."
   ]
  },
  {
   "cell_type": "markdown",
   "id": "cd6628c8",
   "metadata": {
    "slideshow": {
     "slide_type": "slide"
    }
   },
   "source": [
    "### Missing by design (MD)\n",
    "\n",
    "- Values in a column are missing by design if:\n",
    "    - the designers of the data collection process **intentionally decided to not collect data in that column**,\n",
    "    - because it can be recovered from other columns. \n",
    "\n",
    "- If you can determine whether a value is missing solely using other columns, then the data is missing by design.\n",
    "    - For example: `'Age4'` is missing if and only if `'Number of People'` is less than 4.\n",
    "<center><img src=imgs/households.png width=50%></center>\n",
    "\n",
    "- Refer to [this StackExchange link](https://stats.stackexchange.com/questions/201782/meaning-of-missing-by-design-in-longitudinal-studies) for more examples."
   ]
  },
  {
   "cell_type": "markdown",
   "id": "078a200a",
   "metadata": {
    "slideshow": {
     "slide_type": "slide"
    }
   },
   "source": [
    "### Missing by design\n",
    "\n",
    "\n",
    "<center><img src=\"./imgs/Skiplogic.png\"/ width=60%></center>\n",
    "\n",
    "**Example**: `'Car Type?'` and `'Car Colour?'` are missing if and only if `'Own a car?'` is `'No'`.\n"
   ]
  },
  {
   "cell_type": "markdown",
   "id": "7b13d218",
   "metadata": {
    "slideshow": {
     "slide_type": "slide"
    }
   },
   "source": [
    "### Other types of missingness\n",
    "\n",
    "- Not missing at random (NMAR).\n",
    "    - The chance that a value is missing **depends on the actual missing value**!\n",
    "\n",
    "- Missing completely at random (MCAR).\n",
    "    - The chance that a value is missing is **completely independent** of\n",
    "        - other columns, and\n",
    "        - the actual missing value.\n",
    "\n",
    "- Missing at random (MAR).\n",
    "    - The chance that a value is missing **depends on other columns**, but **not** the actual missing value itself.\n",
    "    - If a column is MAR, then it is MCAR **when conditioned on some set of other columns**."
   ]
  },
  {
   "cell_type": "markdown",
   "id": "fcd261fb",
   "metadata": {
    "slideshow": {
     "slide_type": "slide"
    }
   },
   "source": [
    "### Mom... the dog ate my data! 🐶\n",
    "\n",
    "Consider the following (contrived) example:\n",
    "\n",
    "- We survey 100 people for their favorite color and birth month.\n",
    "- We write their answers on index cards.\n",
    "    - On the left side, we write <span style='color:red'>c</span><span style='color:orange'>o</span><span style='color:yellow'>l</span><span style='color:green'>o</span><span style='color:blue'>r</span><span style='color:purple'>s</span>.\n",
    "    - On the right side, we write birth months 📆.\n",
    "- A bad dog takes the top 10 cards from the stack and chews off the right side (birth months).\n",
    "- Now ten people are missing birth months!"
   ]
  },
  {
   "attachments": {},
   "cell_type": "markdown",
   "id": "8a0a3d43",
   "metadata": {
    "slideshow": {
     "slide_type": "slide"
    }
   },
   "source": [
    "<center><img src=\"imgs/dog.png\" width=50%></center>"
   ]
  },
  {
   "cell_type": "markdown",
   "id": "bc7b9cb7",
   "metadata": {
    "slideshow": {
     "slide_type": "slide"
    }
   },
   "source": [
    "<div class=\"alert alert-success\" markdown=\"1\">\n",
    "    <h3>Exercise</h3>\n",
    "    \n",
    "We are now missing birth months for the first 10 people we surveyed. What is the missingness mechanism for birth months if:\n",
    "\n",
    "1. Cards were sorted by favorite color?\n",
    "2. Cards were sorted by birth month?\n",
    "3. Cards were shuffled?\n",
    "\n",
    "Remember:\n",
    "\n",
    "- **Not missing at random (NMAR)**: The chance that a value is missing **depends on the actual missing value**!\n",
    "- **Missing at random (MAR)**: The chance that a value is missing **depends on other columns**, but **not** the actual missing value itself.\n",
    "- **Missing completely at random (MCAR)**: The chance that a value is missing is **completely independent** of other columns and the actual missing value.\n",
    "\n",
    "</div>"
   ]
  },
  {
   "cell_type": "markdown",
   "id": "99a68630",
   "metadata": {
    "slideshow": {
     "slide_type": "slide"
    }
   },
   "source": [
    "### Exercised, solved"
   ]
  },
  {
   "cell_type": "markdown",
   "id": "58cb9f8d",
   "metadata": {
    "slideshow": {
     "slide_type": "fragment"
    }
   },
   "source": [
    "- If cards were sorted by favorite color, then:\n",
    "    - The fact that a card is missing a month is **related to the favorite color**.\n",
    "    - Since the missingness depends on another column, we say values are **missing at random (MAR)**.\n",
    "        - The missingness doesn't depend on the actual missing values – if we fix a particular color, early months are no more likely to be missing than later months."
   ]
  },
  {
   "cell_type": "markdown",
   "id": "87e3f8c1",
   "metadata": {
    "slideshow": {
     "slide_type": "fragment"
    }
   },
   "source": [
    "- If cards were sorted by birth month, then:\n",
    "    - The fact that a card is missing a month is **related to the missing month**.\n",
    "    - Since the missingness depends on the actual missing values – early months are more likely to be missing than later months – we say values are **not missing at random (NMAR)**."
   ]
  },
  {
   "cell_type": "markdown",
   "id": "3f715e45",
   "metadata": {
    "slideshow": {
     "slide_type": "fragment"
    }
   },
   "source": [
    "- If cards were shuffled, then:\n",
    "    - The fact that a card is missing a month is **related to nothing**.\n",
    "    - Since the missingness depends on nothing, we say values are **missing completely at random (MCAR)**."
   ]
  },
  {
   "cell_type": "markdown",
   "id": "67e362ef",
   "metadata": {
    "slideshow": {
     "slide_type": "slide"
    }
   },
   "source": [
    "### The real world is messy! 🌎\n",
    "\n",
    "- In our contrived example, the distinction between NMAR, MAR, and MCAR was relatively clear.\n",
    "- However, in more practical examples, it can be hard to distinguish between types of missingness.\n",
    "- Domain knowledge is often needed to understand **why** values might be missing."
   ]
  },
  {
   "cell_type": "markdown",
   "id": "3b605861",
   "metadata": {
    "slideshow": {
     "slide_type": "slide"
    }
   },
   "source": [
    "### Not missing at random (NMAR)"
   ]
  },
  {
   "cell_type": "markdown",
   "id": "96ea73a7",
   "metadata": {
    "slideshow": {
     "slide_type": "fragment"
    }
   },
   "source": [
    "- Data is NMAR if the chance that a value is missing **depends on the actual missing value**!\n",
    "    - It could _also_ depend on other columns."
   ]
  },
  {
   "cell_type": "markdown",
   "id": "4e1e34e1",
   "metadata": {
    "slideshow": {
     "slide_type": "fragment"
    }
   },
   "source": [
    "- Another term for NMAR is \"non-ignorable\" – the fact that data is missing is data in and of itself that we cannot ignore."
   ]
  },
  {
   "cell_type": "markdown",
   "id": "fcfc08d4",
   "metadata": {
    "slideshow": {
     "slide_type": "fragment"
    }
   },
   "source": [
    "- **Example**: A person doesn't take a drug test because they took drugs the day before."
   ]
  },
  {
   "cell_type": "markdown",
   "id": "6d3719f1",
   "metadata": {
    "slideshow": {
     "slide_type": "fragment"
    }
   },
   "source": [
    "- **Example**: On an employment survey, people with really high incomes may be less likely to report their income.\n",
    "    - If we **ignore** missingness and compute the mean salary, our result will be **biased** low!"
   ]
  },
  {
   "cell_type": "markdown",
   "id": "27012755",
   "metadata": {
    "slideshow": {
     "slide_type": "fragment"
    }
   },
   "source": [
    "- When data is NMAR, we must reason about why the data is missing using domain expertise on the data generating process – the other columns in our data won't help. "
   ]
  },
  {
   "cell_type": "markdown",
   "id": "b9d43d7e",
   "metadata": {
    "slideshow": {
     "slide_type": "slide"
    }
   },
   "source": [
    "### Missing completely at random (MCAR)"
   ]
  },
  {
   "cell_type": "markdown",
   "id": "2b69e368",
   "metadata": {
    "slideshow": {
     "slide_type": "fragment"
    }
   },
   "source": [
    "- Data is MCAR if the chance that a value is missing is **completely independent** of other columns and the actual missing value."
   ]
  },
  {
   "cell_type": "markdown",
   "id": "76970f04",
   "metadata": {
    "slideshow": {
     "slide_type": "fragment"
    }
   },
   "source": [
    "- **Example**: After the Midterm Exam, I accidentally spill boba on the top of the stack. Assuming that the exams are in a random order, the exam scores that are lost due to this still will be MCAR. (Hopefully this doesn't happen!)\n",
    "\n",
    "<center><img src=\"imgs/tea.jpg\" width=\"20%\"></center>"
   ]
  },
  {
   "cell_type": "markdown",
   "id": "c1746432",
   "metadata": {
    "slideshow": {
     "slide_type": "slide"
    }
   },
   "source": [
    "### Missing at random (MAR)"
   ]
  },
  {
   "cell_type": "markdown",
   "id": "9d146b33",
   "metadata": {
    "slideshow": {
     "slide_type": "fragment"
    }
   },
   "source": [
    "- Data is MAR if the chance that a value is missing **depends on other columns**, but **not** the actual missing value itself."
   ]
  },
  {
   "cell_type": "markdown",
   "id": "cefce9e6",
   "metadata": {
    "slideshow": {
     "slide_type": "fragment"
    }
   },
   "source": [
    "- **Example**: People who work in the service industry may be less likely to report their income.\n",
    "    - If you look at service industry workers only, there is no pattern to the missingness of income (MCAR).\n",
    "    - If you look at corporate workers only, there is no pattern to the missingness of income (MCAR).\n",
    "    - Within each industry, missingness is MCAR, but overall, it is MAR, since the **missingness of income depends on industry**."
   ]
  },
  {
   "cell_type": "markdown",
   "id": "dd3650df",
   "metadata": {
    "slideshow": {
     "slide_type": "fragment"
    }
   },
   "source": [
    "\n",
    "* **Example**: An elementary school teacher keeps track of the health conditions of each student in their class. One day, a student doesn't show up for a test because they are at the hospital.\n",
    "    - The fact that their test score is missing has nothing to do with the test score itself.\n",
    "    - But the teacher could have predicted that the score would have been missing given the other information they had about the student."
   ]
  },
  {
   "cell_type": "markdown",
   "id": "f2f65f11",
   "metadata": {
    "slideshow": {
     "slide_type": "slide"
    }
   },
   "source": [
    "### Isn't everything NMAR? 🤔"
   ]
  },
  {
   "cell_type": "markdown",
   "id": "9b4db5bf",
   "metadata": {
    "slideshow": {
     "slide_type": "fragment"
    }
   },
   "source": [
    "- You can argue that many of these examples are NMAR, by arguing that the missingness depends on the value of the data that is missing.\n",
    "    - For example, if a student is hospitalized, they may have lots of health problems and may not have spent much time on school, leading to their test scores being worse."
   ]
  },
  {
   "cell_type": "markdown",
   "id": "6cdf82a9",
   "metadata": {
    "slideshow": {
     "slide_type": "fragment"
    }
   },
   "source": [
    "- Fair point, but with that logic _almost everything is NMAR_. What we really care about is **the main reason data is missing**."
   ]
  },
  {
   "cell_type": "markdown",
   "id": "cf780b14",
   "metadata": {
    "slideshow": {
     "slide_type": "fragment"
    }
   },
   "source": [
    "- If the other columns **mostly** explain the missing value and missingness, treat it as MAR."
   ]
  },
  {
   "cell_type": "markdown",
   "id": "d1881710",
   "metadata": {
    "slideshow": {
     "slide_type": "fragment"
    }
   },
   "source": [
    "- **In other words, accounting for potential confounding variables makes NMAR data more like MAR.**\n",
    "    - This is a big part of experimental design."
   ]
  },
  {
   "cell_type": "markdown",
   "id": "7d636748",
   "metadata": {
    "slideshow": {
     "slide_type": "slide"
    }
   },
   "source": [
    "### Flowchart\n",
    "\n",
    "A good strategy is to assess missingness in the following order."
   ]
  },
  {
   "cell_type": "markdown",
   "id": "3ca60316",
   "metadata": {
    "slideshow": {
     "slide_type": "fragment"
    }
   },
   "source": [
    "<center><b>Missing by design (MD)</b></center>\n",
    "<center><i>Can I determine the missing value exactly by looking at the other columns?</i> 🤔</center>\n",
    "<center> ⬇️ </center>"
   ]
  },
  {
   "cell_type": "markdown",
   "id": "60d1b2bf",
   "metadata": {
    "slideshow": {
     "slide_type": "fragment"
    }
   },
   "source": [
    "<center><b>Not missing at random (NMAR)</b></center>\n",
    "<center><i>Is there a good reason why the missingness depends on the values themselves?</i> 🤔</center>\n",
    "<center> ⬇️ </center>"
   ]
  },
  {
   "cell_type": "markdown",
   "id": "dd1007fb",
   "metadata": {
    "slideshow": {
     "slide_type": "fragment"
    }
   },
   "source": [
    "<center><b>Missing at random (MAR)</b></center>\n",
    "<center><i>Do other columns tell me anything about the likelihood that a value is missing? </i>🤔</center>\n",
    "<center> ⬇️ </center>"
   ]
  },
  {
   "cell_type": "markdown",
   "id": "4abae3ea",
   "metadata": {
    "slideshow": {
     "slide_type": "fragment"
    }
   },
   "source": [
    "<center><b>Missing completely at random (MCAR)</b></center>\n",
    "<center><i>The missingness must not depend on other columns or the values themselves. </i>😄</center>"
   ]
  },
  {
   "cell_type": "markdown",
   "id": "81c83846",
   "metadata": {
    "slideshow": {
     "slide_type": "slide"
    }
   },
   "source": [
    "<div class=\"alert alert-success\" markdown=\"1\">\n",
    "    <h3>Exercise</h3>\n",
    "\n",
    "In each of the following examples, decide whether the missing data are likely to be MD, NMAR, MAR, or MCAR:\n",
    "\n",
    "* A table for a medical study has columns for `'gender'` and `'age'`. **`'age'` has missing values**.\n",
    "* Measurements from the Hubble Space Telescope are **dropped during transmission**.\n",
    "* A table has a single column, `'self-reported education level'`, **which contains missing values**.\n",
    "* A table of grades contains three columns, `'Version 1'`, `'Version 2'`, and `'Version 3'`. **$\\frac{2}{3}$ of the entries in the table are `NaN`.**\n",
    "\n",
    "</div>"
   ]
  },
  {
   "cell_type": "markdown",
   "id": "878293f6",
   "metadata": {
    "slideshow": {
     "slide_type": "slide"
    }
   },
   "source": [
    "### Why do we care again?\n",
    "\n",
    "- If a dataset contains missing values, it is likely not an accurate picture of the data generating process.\n",
    "- By identifying missingness mechanisms, we can best **fill in** missing values, to gain a better understanding of the DGP."
   ]
  },
  {
   "cell_type": "markdown",
   "id": "d448af69",
   "metadata": {
    "slideshow": {
     "slide_type": "slide"
    }
   },
   "source": [
    "<div class=\"alert alert-warning\">\n",
    "    <h3>Question 🤔 (Answer at <a href=\"https://docs.google.com/forms/d/e/1FAIpQLScWbVZv9hBv-wX-ItKHUVRnkPMMtfJZVfErKE9GS7_8dFcRBQ/viewform\">q.dsc80.com)</h3>\n",
    "</div>\n",
    "    \n",
    "What questions do you have?"
   ]
  },
  {
   "cell_type": "markdown",
   "id": "1fd64c14",
   "metadata": {
    "slideshow": {
     "slide_type": "slide"
    }
   },
   "source": [
    "## Formal definitions\n",
    "\n",
    "We won't spend much time on these in lecture, but you may find them helpful."
   ]
  },
  {
   "cell_type": "markdown",
   "id": "b6809620",
   "metadata": {
    "slideshow": {
     "slide_type": "slide"
    }
   },
   "source": [
    "### Formal definition: MCAR\n",
    "\n",
    "Suppose we have:\n",
    "- A dataset $Y$ with observed values $Y_{obs}$ and missing values $Y_{mis}$.\n",
    "- A parameter $\\psi$ that represents all relevant information that is not part of the dataset.\n",
    "\n",
    "Data is **missing completely at random** (MCAR) if \n",
    "\n",
    "$$\\text{P}(\\text{data is present} \\: | \\: Y_{obs}, Y_{mis}, \\psi) = \\text{P}(\\text{data is present} \\: | \\: \\psi)$$\n",
    "\n",
    "That is, adding information about the dataset doesn't change the likelihood data is missing!"
   ]
  },
  {
   "cell_type": "markdown",
   "id": "01cf2151",
   "metadata": {
    "slideshow": {
     "slide_type": "slide"
    }
   },
   "source": [
    "### Formal definition: MAR\n",
    "\n",
    "Suppose we have:\n",
    "- A dataset $Y$ with observed values $Y_{obs}$ and missing values $Y_{mis}$.\n",
    "- A parameter $\\psi$ that represents all relevant information that is not part of the dataset.\n",
    "\n",
    "Data is **missing at random** (MCAR) if \n",
    "\n",
    "$$\\text{P}(\\text{data is present} \\: | \\: Y_{obs}, Y_{mis}, \\psi) = \\text{P}(\\text{data is present} \\: | \\: Y_{obs},  \\psi)$$\n",
    "\n",
    "That is, MAR data is **actually MCAR**, **conditional** on $Y_{obs}$."
   ]
  },
  {
   "cell_type": "markdown",
   "id": "d1f2646f",
   "metadata": {
    "slideshow": {
     "slide_type": "slide"
    }
   },
   "source": [
    "### Formal definition: NMAR\n",
    "\n",
    "Suppose we have:\n",
    "- A dataset $Y$ with observed values $Y_{obs}$ and missing values $Y_{mis}$.\n",
    "- A parameter $\\psi$ that represents all relevant information that is not part of the dataset.\n",
    "\n",
    "\n",
    "Data is **not missing at random** (NMAR) if  \n",
    "\n",
    "$$\\text{P}(\\text{data is present} \\: | \\: Y_{obs}, Y_{mis}, \\psi)$$\n",
    "\n",
    "cannot be simplified. That is, in NMAR data, **missingness is dependent on the missing value** itself."
   ]
  },
  {
   "cell_type": "markdown",
   "id": "01815d59",
   "metadata": {
    "slideshow": {
     "slide_type": "slide"
    }
   },
   "source": [
    "## Identifying missingness mechanisms in data"
   ]
  },
  {
   "cell_type": "markdown",
   "id": "a6c90aaf",
   "metadata": {
    "slideshow": {
     "slide_type": "slide"
    }
   },
   "source": [
    "### Identifying missingness mechanisms in data\n",
    "\n",
    "- Suppose I believe that the missingness mechanism of a column is NMAR, MAR, or MCAR.\n",
    "    - I've ruled out missing by design (a good first step).\n",
    "- Can I check whether this is true, by looking at the data?"
   ]
  },
  {
   "cell_type": "markdown",
   "id": "af03bc07",
   "metadata": {
    "slideshow": {
     "slide_type": "slide"
    }
   },
   "source": [
    "### Assessing NMAR"
   ]
  },
  {
   "cell_type": "markdown",
   "id": "40e55d48",
   "metadata": {
    "slideshow": {
     "slide_type": "fragment"
    }
   },
   "source": [
    "- We can't determine if data is NMAR just by looking at the data, as whether or not data is NMAR depends on the **unobserved data**."
   ]
  },
  {
   "cell_type": "markdown",
   "id": "c5f0f670",
   "metadata": {
    "slideshow": {
     "slide_type": "fragment"
    }
   },
   "source": [
    "- To establish if data is NMAR, we must:\n",
    "    - **reason about the data generating process**, or\n",
    "    - collect more data."
   ]
  },
  {
   "cell_type": "markdown",
   "id": "534f07b9",
   "metadata": {
    "slideshow": {
     "slide_type": "fragment"
    }
   },
   "source": [
    "- **Example**: Consider a dataset of survey data of students' self-reported happiness. The data contains PIDs and happiness scores; nothing else. Some happiness scores are missing. **Are happiness scores likely NMAR?**"
   ]
  },
  {
   "cell_type": "markdown",
   "id": "2dd2560c",
   "metadata": {
    "slideshow": {
     "slide_type": "slide"
    }
   },
   "source": [
    "### Assessing MAR"
   ]
  },
  {
   "cell_type": "markdown",
   "id": "59ba918c",
   "metadata": {
    "slideshow": {
     "slide_type": "fragment"
    }
   },
   "source": [
    "- Data are MAR if the missingness only depends on **observed** data."
   ]
  },
  {
   "cell_type": "markdown",
   "id": "dc55bad2",
   "metadata": {
    "slideshow": {
     "slide_type": "fragment"
    }
   },
   "source": [
    "- After reasoning about the data generating process, if you establish that data is not NMAR, then it must be either MAR or MCAR."
   ]
  },
  {
   "cell_type": "markdown",
   "id": "2df323be",
   "metadata": {
    "slideshow": {
     "slide_type": "fragment"
    }
   },
   "source": [
    "- The more columns we have in our dataset, the \"weaker the NMAR effect\" is.\n",
    "    - Adding more columns -> controlling for more variables -> moving from NMAR to MAR.\n",
    "    - **Example**: With no other columns, income in a census is NMAR. But once we look at location, education, and occupation, incomes are closer to being MAR."
   ]
  },
  {
   "cell_type": "markdown",
   "id": "5cd364b3",
   "metadata": {
    "slideshow": {
     "slide_type": "slide"
    }
   },
   "source": [
    "### Deciding between MCAR and MAR"
   ]
  },
  {
   "cell_type": "markdown",
   "id": "b820560e",
   "metadata": {
    "slideshow": {
     "slide_type": "fragment"
    }
   },
   "source": [
    "- For data to be MCAR, the chance that values are missing should not depend on any other column or the values themselves."
   ]
  },
  {
   "cell_type": "markdown",
   "id": "80c1be20",
   "metadata": {
    "slideshow": {
     "slide_type": "fragment"
    }
   },
   "source": [
    "- **Example**: Consider a dataset of phones, in which we store the screen size and price of each phone. **Some prices are missing.**\n",
    "\n",
    "| Phone | Screen Size | Price |\n",
    "| --- | --- | --- |\n",
    "| iPhone 15 | 6.06 | 999 |\n",
    "| Galaxy Z Fold5 | 7.6 | NaN |\n",
    "| OnePlus 12R | 6.7 | 499 |\n",
    "| iPhone 14 Pro Max | 6.68 | NaN |"
   ]
  },
  {
   "cell_type": "markdown",
   "id": "d421f691",
   "metadata": {
    "slideshow": {
     "slide_type": "fragment"
    }
   },
   "source": [
    "- If prices are MCAR, then **the distribution of screen size should be the same** for:\n",
    "    - phones whose prices are missing, and \n",
    "    - phones whose prices aren't missing."
   ]
  },
  {
   "cell_type": "markdown",
   "id": "7edf6be8",
   "metadata": {
    "slideshow": {
     "slide_type": "fragment"
    }
   },
   "source": [
    "- **We can use a permutation test to decide between MAR and MCAR!** We are asking the question, did these two samples come from the same underlying distribution?"
   ]
  },
  {
   "cell_type": "markdown",
   "id": "6fb93a09",
   "metadata": {
    "slideshow": {
     "slide_type": "slide"
    }
   },
   "source": [
    "### Deciding between MCAR and MAR"
   ]
  },
  {
   "cell_type": "markdown",
   "id": "a0d043c5",
   "metadata": {
    "slideshow": {
     "slide_type": "fragment"
    }
   },
   "source": [
    "Suppose you have a DataFrame with columns named $\\text{col}_1$, $\\text{col}_2$, ..., $\\text{col}_k$, and want to test whether values in $\\text{col}_X$ are MCAR. To test whether $\\text{col}_X$'s missingness is independent of all other columns in the DataFrame:\n",
    "\n",
    "For $i = 1, 2, ..., k$, where $i \\neq X$:"
   ]
  },
  {
   "cell_type": "markdown",
   "id": "e27ea746",
   "metadata": {
    "slideshow": {
     "slide_type": "fragment"
    }
   },
   "source": [
    "- Look at the distribution of $\\text{col}_i$ when $\\text{col}_X$ is missing."
   ]
  },
  {
   "cell_type": "markdown",
   "id": "06e52266",
   "metadata": {
    "slideshow": {
     "slide_type": "fragment"
    }
   },
   "source": [
    "- Look at the distribution of $\\text{col}_i$ when $\\text{col}_X$ is not missing."
   ]
  },
  {
   "cell_type": "markdown",
   "id": "c014f9fd",
   "metadata": {
    "slideshow": {
     "slide_type": "fragment"
    }
   },
   "source": [
    "- Check if these two distributions are the same. (What do we mean by \"the same\"?)"
   ]
  },
  {
   "cell_type": "markdown",
   "id": "c71584d2",
   "metadata": {
    "slideshow": {
     "slide_type": "fragment"
    }
   },
   "source": [
    "- If so, then $\\text{col}_X$'s missingness doesn't depend on $\\text{col}_i$."
   ]
  },
  {
   "cell_type": "markdown",
   "id": "68bc1dc6",
   "metadata": {
    "slideshow": {
     "slide_type": "fragment"
    }
   },
   "source": [
    "- If not, then $\\text{col}_X$ is MAR dependent on $\\text{col}_i$."
   ]
  },
  {
   "cell_type": "markdown",
   "id": "6a41c2a7",
   "metadata": {
    "slideshow": {
     "slide_type": "fragment"
    }
   },
   "source": [
    "If all pairs of distributions were the same, then $\\text{col}_X$ is MCAR."
   ]
  },
  {
   "cell_type": "markdown",
   "id": "8d20bd5c",
   "metadata": {
    "slideshow": {
     "slide_type": "slide"
    }
   },
   "source": [
    "### Example: Heights\n",
    "\n",
    "- Let's load in Galton's dataset containing the heights of adult children and their parents (which you may have seen in DSC 10).\n",
    "- The dataset does not contain any missing values – we will **artifically introduce missing values** such that the values are MCAR, for illustration."
   ]
  },
  {
   "cell_type": "code",
   "execution_count": 2,
   "id": "b02a2bd7",
   "metadata": {},
   "outputs": [
    {
     "data": {
      "text/html": [
       "<div>\n",
       "<style scoped>\n",
       "    .dataframe tbody tr th:only-of-type {\n",
       "        vertical-align: middle;\n",
       "    }\n",
       "\n",
       "    .dataframe tbody tr th {\n",
       "        vertical-align: top;\n",
       "    }\n",
       "\n",
       "    .dataframe thead th {\n",
       "        text-align: right;\n",
       "    }\n",
       "</style>\n",
       "<table border=\"1\" class=\"dataframe\">\n",
       "  <thead>\n",
       "    <tr style=\"text-align: right;\">\n",
       "      <th></th>\n",
       "      <th>father</th>\n",
       "      <th>mother</th>\n",
       "      <th>gender</th>\n",
       "      <th>child</th>\n",
       "    </tr>\n",
       "  </thead>\n",
       "  <tbody>\n",
       "    <tr>\n",
       "      <th>0</th>\n",
       "      <td>78.5</td>\n",
       "      <td>67.0</td>\n",
       "      <td>male</td>\n",
       "      <td>73.2</td>\n",
       "    </tr>\n",
       "    <tr>\n",
       "      <th>1</th>\n",
       "      <td>78.5</td>\n",
       "      <td>67.0</td>\n",
       "      <td>female</td>\n",
       "      <td>69.2</td>\n",
       "    </tr>\n",
       "    <tr>\n",
       "      <th>2</th>\n",
       "      <td>78.5</td>\n",
       "      <td>67.0</td>\n",
       "      <td>female</td>\n",
       "      <td>69.0</td>\n",
       "    </tr>\n",
       "    <tr>\n",
       "      <th>3</th>\n",
       "      <td>78.5</td>\n",
       "      <td>67.0</td>\n",
       "      <td>female</td>\n",
       "      <td>69.0</td>\n",
       "    </tr>\n",
       "    <tr>\n",
       "      <th>4</th>\n",
       "      <td>75.5</td>\n",
       "      <td>66.5</td>\n",
       "      <td>male</td>\n",
       "      <td>73.5</td>\n",
       "    </tr>\n",
       "  </tbody>\n",
       "</table>\n",
       "</div>"
      ],
      "text/plain": [
       "   father  mother  gender  child\n",
       "0    78.5    67.0    male   73.2\n",
       "1    78.5    67.0  female   69.2\n",
       "2    78.5    67.0  female   69.0\n",
       "3    78.5    67.0  female   69.0\n",
       "4    75.5    66.5    male   73.5"
      ]
     },
     "execution_count": 2,
     "metadata": {},
     "output_type": "execute_result"
    }
   ],
   "source": [
    "heights_path = Path('data') / 'midparent.csv'\n",
    "heights = pd.read_csv(heights_path).rename(columns={'childHeight': 'child'})[['father', 'mother', 'gender', 'child']]\n",
    "heights.head()"
   ]
  },
  {
   "cell_type": "markdown",
   "id": "e73d3802",
   "metadata": {},
   "source": [
    "Proof that there aren't currently any missing values in `heights`:"
   ]
  },
  {
   "cell_type": "code",
   "execution_count": 3,
   "id": "ffb94046",
   "metadata": {},
   "outputs": [
    {
     "data": {
      "text/plain": [
       "father    0\n",
       "mother    0\n",
       "gender    0\n",
       "child     0\n",
       "dtype: int64"
      ]
     },
     "execution_count": 3,
     "metadata": {},
     "output_type": "execute_result"
    }
   ],
   "source": [
    "heights.isna().sum()"
   ]
  },
  {
   "cell_type": "markdown",
   "id": "16f470d2",
   "metadata": {
    "slideshow": {
     "slide_type": "slide"
    }
   },
   "source": [
    "We have three numerical columns – `'father'`, `'mother'`, and `'child'`. Let's visualize them simultaneously."
   ]
  },
  {
   "cell_type": "code",
   "execution_count": 6,
   "id": "a4e6fb2b-c357-4d35-bdbf-38064d3ce54a",
   "metadata": {},
   "outputs": [],
   "source": [
    "# Needed to add renderer\n",
    "import plotly.io as pio\n",
    "\n",
    "# Notebook 7 (new Jupyter) – best bet:\n",
    "pio.renderers.default = \"plotly_mimetype\"\n"
   ]
  },
  {
   "cell_type": "code",
   "execution_count": 7,
   "id": "7fba7ff3",
   "metadata": {},
   "outputs": [
    {
     "data": {
      "application/vnd.plotly.v1+json": {
       "config": {
        "plotlyServerURL": "https://plot.ly"
       },
       "data": [
        {
         "dimensions": [
          {
           "axis": {
            "matches": true
           },
           "label": "father",
           "values": [
            78.5,
            78.5,
            78.5,
            78.5,
            75.5,
            75.5,
            75.5,
            75.5,
            75,
            75,
            75,
            75,
            75,
            75,
            75,
            75,
            75,
            75,
            75,
            75,
            75,
            74,
            74,
            74,
            74,
            74,
            74,
            74,
            74,
            74,
            74,
            74.5,
            74,
            74,
            74,
            74,
            74,
            74,
            74,
            74,
            74,
            74,
            73,
            73,
            73,
            73,
            73,
            73,
            73,
            73,
            73,
            73,
            73,
            73,
            73,
            73,
            73,
            73,
            73,
            73,
            73,
            73,
            73,
            73,
            73,
            73,
            73,
            73.2,
            72.7,
            72.7,
            72.7,
            72.7,
            72.7,
            72.7,
            72.7,
            72.7,
            72,
            72,
            72,
            72,
            72,
            72,
            72,
            72,
            72,
            72,
            72,
            72,
            72,
            72,
            72,
            72,
            72,
            72,
            72,
            72,
            72,
            72,
            72,
            72,
            72,
            72,
            72,
            72,
            72,
            72,
            72.5,
            72.5,
            72.5,
            72,
            72.5,
            72.5,
            72.5,
            72.5,
            72.5,
            72.5,
            72,
            72,
            72,
            72,
            72,
            72,
            72,
            72,
            72,
            72,
            72,
            71,
            71,
            71,
            71,
            71,
            71,
            71,
            71,
            71,
            71,
            71,
            71,
            71,
            71,
            71,
            71,
            71,
            71,
            71,
            71,
            71,
            71,
            71,
            71,
            71,
            71,
            71.7,
            71,
            71,
            71,
            71,
            71,
            71,
            71.5,
            71.5,
            71.5,
            71.5,
            71,
            71,
            71,
            71,
            71,
            71,
            71,
            71,
            71,
            71,
            71,
            71.7,
            71.7,
            71.7,
            71.7,
            71,
            71,
            71,
            71.5,
            71.5,
            71.5,
            71.5,
            71.5,
            71.5,
            71.5,
            71,
            71,
            71.2,
            71.2,
            71,
            71,
            71,
            71,
            71,
            71,
            71,
            71,
            71,
            71,
            71,
            71,
            71,
            71,
            71,
            71,
            71,
            71,
            71,
            71,
            71,
            71,
            71,
            71,
            71,
            71,
            71,
            71,
            71,
            71,
            71,
            71,
            71,
            71,
            71,
            71,
            71,
            71,
            71,
            71,
            71,
            71,
            71,
            70,
            70,
            70,
            70,
            70,
            70,
            70,
            70,
            70,
            70,
            70,
            70,
            70,
            70,
            70,
            70,
            70,
            70,
            70,
            70,
            70,
            70,
            70,
            70,
            70,
            70,
            70,
            70,
            70.5,
            70.5,
            70.5,
            70.5,
            70.5,
            70.5,
            70.5,
            70.5,
            70.5,
            70,
            70,
            70,
            70,
            70,
            70,
            70,
            70,
            70,
            70,
            70,
            70,
            70,
            70,
            70,
            70,
            70,
            70,
            70,
            70,
            70,
            70,
            70,
            70,
            70,
            70,
            70,
            70,
            70,
            70,
            70,
            70,
            70,
            70,
            70,
            70,
            70,
            70,
            70,
            70,
            70,
            70,
            70,
            70,
            70,
            70,
            70,
            70,
            70,
            70,
            70,
            70,
            70,
            70,
            70.5,
            70.5,
            70.5,
            70.5,
            70.5,
            70.5,
            70.5,
            70.5,
            70.5,
            70,
            70,
            70,
            70,
            70,
            70,
            70,
            70,
            70,
            70,
            70,
            70,
            70,
            70,
            70,
            70,
            70,
            70,
            70,
            70,
            70,
            70.5,
            70.5,
            70.5,
            70.5,
            70.5,
            70.5,
            70.5,
            70.5,
            70.5,
            70,
            70,
            70,
            70,
            70,
            70,
            70,
            70,
            70,
            70,
            70,
            70,
            70.5,
            70.5,
            70.5,
            70.5,
            70.5,
            70.5,
            70.5,
            70.5,
            70.3,
            70.3,
            70.3,
            70.3,
            70.3,
            70.3,
            70.3,
            70.5,
            70.5,
            70.5,
            70,
            70,
            70,
            70,
            70,
            70,
            70,
            70,
            70,
            70,
            70,
            70,
            70,
            70,
            70,
            70,
            69,
            69,
            69,
            69,
            69,
            69,
            69,
            69,
            69,
            69,
            69,
            69,
            69,
            69,
            69,
            69,
            69,
            69,
            69,
            69,
            69,
            69,
            69,
            69,
            69,
            69,
            69,
            69,
            69,
            69,
            69,
            69,
            69,
            69,
            69,
            69,
            69,
            69,
            69,
            69.5,
            69.5,
            69.5,
            69.5,
            69,
            69,
            69,
            69,
            69,
            69,
            69.5,
            69.5,
            69.5,
            69.5,
            69.5,
            69.5,
            69.5,
            69,
            69,
            69,
            69,
            69,
            69,
            69,
            69,
            69,
            69,
            69,
            69,
            69,
            69,
            69,
            69,
            69.5,
            69.5,
            69.5,
            69.5,
            69.5,
            69.5,
            69.5,
            69.2,
            69.2,
            69.2,
            69.2,
            69,
            69,
            69,
            69,
            69,
            69,
            69,
            69,
            69,
            69,
            69,
            69,
            69,
            69,
            69,
            69,
            69,
            69,
            69,
            69,
            69,
            69.7,
            69.5,
            69.5,
            69.5,
            69,
            69,
            69,
            69,
            69,
            69.5,
            69.5,
            69.5,
            69.5,
            69.5,
            69.5,
            69.5,
            69.5,
            69.5,
            69.5,
            69.5,
            69,
            69,
            69,
            69,
            69,
            69,
            69,
            69,
            69,
            69,
            69,
            69,
            69.5,
            69.5,
            69.5,
            69.5,
            69.5,
            69,
            69,
            69,
            69,
            69,
            69,
            69,
            69,
            69,
            69,
            69,
            69,
            69,
            69,
            69,
            69,
            69,
            68.7,
            68.7,
            68.5,
            68.5,
            68.5,
            68.5,
            68.5,
            68.5,
            68.5,
            68.5,
            68.5,
            68.5,
            68.5,
            68.5,
            68.5,
            68.5,
            68,
            68,
            68,
            68,
            68,
            68,
            68,
            68,
            68,
            68,
            68,
            68,
            68,
            68,
            68,
            68.5,
            68.5,
            68.5,
            68.5,
            68.5,
            68.5,
            68.5,
            68.5,
            68.5,
            68.5,
            68.5,
            68.5,
            68.5,
            68.5,
            68.5,
            68.5,
            68,
            68,
            68,
            68,
            68,
            68,
            68,
            68,
            68,
            68,
            68,
            68,
            68,
            68,
            68,
            68,
            68,
            68,
            68,
            68,
            68,
            68,
            68,
            68,
            68,
            68,
            68,
            68,
            68,
            68,
            68,
            68,
            68,
            68,
            68,
            68,
            68,
            68,
            68.5,
            68.5,
            68.5,
            68.5,
            68,
            68,
            68,
            68,
            68,
            68,
            68,
            68,
            68,
            68,
            68,
            68,
            68,
            68,
            68,
            68,
            68,
            68,
            68,
            68.5,
            68,
            68.2,
            68.2,
            68.2,
            68.2,
            68.2,
            68,
            68.7,
            68.7,
            68,
            68,
            68,
            68,
            68,
            68,
            68,
            68,
            68,
            68,
            68,
            68,
            68,
            68,
            68,
            68,
            68,
            68,
            68.5,
            68,
            68,
            68,
            68,
            68,
            68,
            68,
            68,
            68,
            68,
            67,
            67,
            67,
            67,
            67,
            67,
            67,
            67,
            67,
            67,
            67,
            67,
            67,
            67,
            67,
            67,
            67,
            67,
            67,
            67,
            67,
            67,
            67,
            67,
            67,
            67,
            67,
            67,
            67,
            67,
            67,
            67,
            67.5,
            67.5,
            67.5,
            67.5,
            67.5,
            67.5,
            67.5,
            67.5,
            67.5,
            67.5,
            67.5,
            67,
            67,
            67,
            67,
            67,
            67,
            67,
            67,
            67,
            67,
            67,
            67,
            67,
            67,
            67,
            67.5,
            67.5,
            67.5,
            67.5,
            67.5,
            67,
            66,
            66,
            66,
            66,
            66,
            66,
            66,
            66,
            66,
            66,
            66,
            66,
            66,
            66,
            66,
            66,
            66,
            66,
            66,
            66,
            66,
            66,
            66,
            66,
            66,
            66,
            66,
            66,
            66.5,
            66.5,
            66.5,
            66.5,
            66.5,
            66.5,
            66.5,
            66.5,
            66,
            66,
            66,
            66,
            66,
            66,
            66,
            66,
            66.5,
            66.5,
            66.5,
            66.5,
            66.5,
            66.5,
            66.5,
            66.5,
            66.5,
            66.5,
            66.5,
            66.5,
            66.5,
            66,
            66,
            66,
            66,
            66,
            66,
            66,
            66,
            66,
            66,
            66,
            66,
            66,
            66,
            66,
            66,
            66,
            66,
            66,
            66,
            66,
            65,
            65,
            65,
            65,
            65,
            65,
            65,
            65,
            65,
            65,
            65,
            65,
            65,
            65,
            65,
            65,
            65,
            65,
            65,
            65,
            65,
            65,
            65,
            65,
            65,
            65,
            65,
            65,
            65,
            65,
            65,
            65,
            65,
            65,
            65,
            65,
            65,
            65,
            65,
            65,
            65,
            65,
            65.5,
            65.5,
            65.5,
            65.5,
            65.5,
            65.5,
            65.5,
            65.5,
            65.5,
            64,
            64,
            64,
            64,
            64,
            64,
            64,
            64,
            64,
            64,
            64,
            64,
            64,
            64,
            64,
            64,
            64,
            63,
            63,
            62,
            62,
            62,
            62.5,
            62.5
           ]
          },
          {
           "axis": {
            "matches": true
           },
           "label": "mother",
           "values": [
            67,
            67,
            67,
            67,
            66.5,
            66.5,
            66.5,
            66.5,
            64,
            64,
            64,
            64,
            64,
            64,
            64,
            58.5,
            58.5,
            58.5,
            58.5,
            58.5,
            58.5,
            68,
            68,
            68,
            68,
            68,
            68,
            68,
            66.5,
            66.5,
            66.5,
            66,
            65.5,
            62,
            62,
            62,
            62,
            62,
            62,
            62,
            62,
            61,
            67,
            67,
            67,
            67,
            66.5,
            66.5,
            66.5,
            65,
            65,
            65,
            65,
            65,
            65,
            65,
            65,
            65,
            64.5,
            64.5,
            64.5,
            64.5,
            64.5,
            64.5,
            64,
            64,
            64,
            63,
            69,
            69,
            69,
            69,
            69,
            69,
            69,
            69,
            68,
            68,
            68,
            67,
            67,
            67,
            65,
            65,
            65,
            65,
            65,
            65,
            65,
            65.5,
            64,
            64,
            63,
            63,
            63,
            63,
            63,
            63,
            63,
            63,
            63,
            63,
            63,
            63,
            63,
            63,
            63.5,
            63.5,
            63.5,
            62,
            62,
            62,
            62,
            62,
            62,
            62,
            62,
            62,
            62,
            62,
            62,
            62,
            62,
            62,
            62,
            62,
            61,
            69,
            69,
            69,
            69,
            69,
            67,
            67,
            67,
            67,
            66,
            66,
            66,
            66,
            66,
            66,
            66,
            66,
            66,
            66,
            66,
            66,
            66,
            66,
            66,
            66,
            66,
            65.5,
            65.5,
            65.5,
            65.5,
            65.5,
            65.5,
            65.5,
            65.5,
            65.5,
            65,
            65,
            65,
            65,
            65,
            64,
            64,
            64,
            64,
            64,
            64,
            64,
            64,
            64.5,
            64.5,
            64.5,
            64.5,
            64,
            64,
            64,
            64.5,
            64.5,
            64.5,
            64.5,
            64.5,
            64.5,
            64.5,
            64.5,
            64.5,
            63,
            63,
            63.5,
            63.5,
            63.5,
            63.5,
            63.5,
            63,
            63,
            63,
            63,
            63,
            63,
            63,
            63,
            63,
            63,
            63,
            63,
            63,
            62,
            62,
            62,
            62,
            62,
            62,
            62,
            62,
            62,
            62,
            62.5,
            62.5,
            62.5,
            62.5,
            62.5,
            62,
            62,
            62,
            62,
            62,
            62,
            62,
            61,
            58,
            58,
            69,
            69,
            69,
            69,
            69,
            69,
            69,
            69,
            69,
            69,
            68,
            67,
            67,
            67,
            67,
            67,
            67,
            66.5,
            66.5,
            66.5,
            66.5,
            66.5,
            66.5,
            66.5,
            66.5,
            66.5,
            66.5,
            66.5,
            65,
            65,
            65,
            65,
            65,
            65,
            65,
            65,
            65,
            65,
            65,
            65,
            65,
            65,
            65,
            65,
            65,
            65,
            65,
            65,
            65,
            65,
            65,
            65,
            65,
            65,
            65,
            65,
            65,
            65,
            65,
            65,
            65,
            65,
            65,
            65,
            65,
            65,
            65,
            65,
            64.7,
            64.7,
            64.7,
            64.7,
            64.7,
            64.7,
            64.7,
            64,
            64,
            64,
            64,
            64,
            64,
            64,
            64,
            64,
            64,
            64,
            64.2,
            64.2,
            64.2,
            64.2,
            64.2,
            64,
            64,
            64,
            64,
            64,
            64,
            64,
            64,
            64.5,
            64,
            64,
            64,
            64,
            64,
            64,
            64,
            64,
            64,
            64,
            64,
            64,
            64,
            63.7,
            63.7,
            63.7,
            63.7,
            63.7,
            63.7,
            63.7,
            63.7,
            63,
            63,
            63,
            63,
            63,
            63,
            63,
            63,
            63,
            63.5,
            63.5,
            63.5,
            63.5,
            63,
            63,
            63,
            63,
            63,
            63,
            63,
            63,
            62,
            62,
            62,
            62,
            62,
            62,
            62,
            62,
            62.7,
            62.7,
            62.7,
            62.7,
            62.7,
            62.7,
            62.7,
            62,
            62,
            62,
            61,
            61,
            60,
            60,
            60,
            60,
            60,
            60,
            58.5,
            58.5,
            58.5,
            58,
            58,
            58,
            58,
            58,
            68.5,
            68.5,
            68.5,
            68.5,
            68.5,
            68.5,
            68.5,
            68.5,
            68.5,
            68.5,
            67,
            66,
            66,
            66,
            66,
            66,
            66,
            66,
            66,
            66,
            66,
            66,
            66.7,
            66.7,
            66.7,
            66.7,
            66,
            66,
            66,
            66,
            66,
            66,
            66.5,
            66.5,
            66.5,
            66.5,
            66.5,
            66.5,
            66.5,
            66.5,
            66.5,
            66.5,
            66.5,
            66.5,
            66.5,
            66.5,
            66.5,
            66.5,
            66.5,
            66,
            66,
            66,
            66,
            66,
            66,
            66,
            66,
            66,
            66,
            66,
            66,
            66,
            66,
            66,
            66,
            65,
            65,
            65,
            65,
            65,
            65,
            65,
            64.5,
            64.5,
            64.5,
            64.5,
            64.5,
            64.5,
            64.5,
            64,
            64,
            64,
            64,
            63.5,
            63,
            63,
            63,
            63,
            63,
            63,
            63,
            63,
            63,
            63,
            63.5,
            63.5,
            63.5,
            63.5,
            63.5,
            63.5,
            63.5,
            63.5,
            63.5,
            63.5,
            62,
            62,
            62,
            62,
            62,
            62,
            62,
            62,
            62,
            62,
            62,
            62,
            62,
            62,
            62,
            62,
            62,
            62,
            62,
            62,
            62.5,
            62.5,
            62.5,
            62.5,
            62.5,
            62.5,
            62.5,
            62.5,
            62,
            62,
            62,
            62,
            61,
            61,
            61,
            61,
            61,
            61,
            61,
            61,
            61,
            61,
            61,
            61,
            61,
            61,
            60,
            60,
            60,
            60,
            60,
            60,
            60,
            60.5,
            70.5,
            70.5,
            67,
            67,
            67,
            66.5,
            66.5,
            66.5,
            66.5,
            66.5,
            66.5,
            66.5,
            66.5,
            66.5,
            66.5,
            66.5,
            65,
            65,
            65.5,
            65.5,
            65.5,
            65.5,
            65.5,
            65.5,
            65.5,
            65.5,
            65.5,
            65,
            65,
            65,
            65,
            65,
            65,
            65,
            65,
            65,
            65,
            65,
            65,
            65,
            65,
            65,
            65,
            65,
            65,
            65,
            65,
            64,
            64,
            64,
            64,
            64,
            64,
            64,
            64,
            64,
            64,
            64,
            64,
            64,
            64,
            64,
            64,
            64,
            64,
            64,
            64.5,
            64,
            64,
            64,
            64,
            64,
            64,
            64,
            64,
            64,
            64,
            63,
            63,
            63,
            63,
            63,
            63,
            63,
            63,
            63.5,
            63.5,
            63.5,
            63.5,
            63,
            63,
            63,
            63,
            63,
            63,
            63,
            63,
            63,
            63,
            63,
            63,
            63,
            63,
            63,
            63,
            63,
            63,
            63,
            63.5,
            63,
            63.5,
            63.5,
            63.5,
            63.5,
            63.5,
            62.5,
            62,
            62,
            62.5,
            61,
            61,
            61,
            61,
            61,
            60.2,
            60,
            60,
            60,
            60,
            60,
            60,
            60,
            60,
            60,
            60,
            60,
            59,
            59,
            59,
            59,
            59,
            59,
            59,
            59,
            59,
            59,
            59,
            66.2,
            66.2,
            66.2,
            66.2,
            66.2,
            66.5,
            66,
            66,
            66,
            66,
            66,
            66,
            66,
            66,
            65,
            65,
            65,
            65,
            65,
            65,
            65.5,
            65.5,
            65.5,
            65.5,
            65.5,
            65.5,
            65.5,
            65.5,
            65.5,
            65,
            65,
            65,
            65,
            65,
            65,
            65,
            65,
            65,
            65,
            65,
            65,
            65,
            65,
            64,
            64,
            64,
            64,
            63.5,
            63.5,
            63.5,
            63.5,
            63.5,
            63.5,
            63.5,
            63.5,
            63,
            63,
            63,
            62,
            62,
            62,
            62,
            62,
            61,
            67,
            67,
            67,
            67,
            67,
            67,
            67,
            67,
            67,
            67,
            67,
            67,
            67,
            67,
            67,
            67,
            67,
            66,
            66,
            66,
            66,
            66,
            66,
            66,
            66,
            66,
            66,
            66,
            65,
            65,
            65,
            65,
            65,
            65,
            65,
            65,
            65.5,
            65.5,
            65.5,
            65.5,
            65.5,
            63,
            63.5,
            63.5,
            63,
            63,
            63,
            63,
            63,
            63,
            62.5,
            62.5,
            62.5,
            62.5,
            62.5,
            62.5,
            62.5,
            61.5,
            60,
            60,
            60,
            60,
            60,
            59,
            59,
            59,
            59,
            59,
            59,
            59,
            59,
            59,
            59,
            59,
            59,
            59,
            59,
            59,
            67,
            67,
            67,
            67,
            67,
            66,
            66,
            66,
            66,
            66,
            66,
            66,
            66,
            66,
            65,
            65,
            65,
            65,
            65,
            65,
            65,
            65,
            65,
            65.5,
            65.5,
            65,
            65,
            65,
            65,
            65,
            65,
            64,
            64,
            64,
            64,
            64,
            64,
            63,
            63,
            63,
            63,
            63,
            63,
            63,
            63,
            63,
            60,
            60,
            60,
            60,
            60,
            64,
            64,
            64,
            64,
            64,
            64,
            64,
            64,
            64,
            64,
            64,
            64,
            64,
            64,
            63,
            60,
            60,
            63.5,
            63.5,
            66,
            66,
            66,
            63,
            63
           ]
          },
          {
           "axis": {
            "matches": true
           },
           "label": "child",
           "values": [
            73.2,
            69.2,
            69,
            69,
            73.5,
            72.5,
            65.5,
            65.5,
            71,
            68,
            70.5,
            68.5,
            67,
            64.5,
            63,
            72,
            69,
            68,
            66.5,
            62.5,
            62.5,
            69.5,
            76.5,
            74,
            73,
            73,
            70.5,
            64,
            70.5,
            68,
            66,
            66,
            65.5,
            74,
            70,
            68,
            67,
            67,
            66,
            63.5,
            63,
            65,
            71,
            62,
            68,
            67,
            71,
            70.5,
            66.7,
            72,
            70.5,
            70.2,
            70.2,
            69.2,
            68.7,
            66.5,
            64.5,
            63.5,
            74,
            73,
            71.5,
            62.5,
            66.5,
            62.3,
            66,
            64.5,
            64,
            62.7,
            73.2,
            73,
            72.7,
            70,
            69,
            68.5,
            68,
            66,
            73,
            68.5,
            68,
            73,
            71,
            67,
            74.2,
            70.5,
            69.5,
            66,
            65.5,
            65,
            65,
            65.5,
            66,
            63,
            70.5,
            70.5,
            69,
            65,
            63,
            69,
            67,
            63,
            73,
            67,
            70.5,
            70,
            66.5,
            63,
            67.5,
            67.2,
            66.7,
            64,
            71,
            70,
            70,
            66,
            65,
            65,
            74,
            72,
            69,
            67.5,
            63.5,
            72,
            71.5,
            71.5,
            70,
            68,
            65.7,
            78,
            74,
            73,
            72,
            67,
            73.2,
            73,
            69,
            67,
            70,
            67,
            67,
            66.5,
            70,
            69,
            68.5,
            66,
            64.5,
            63,
            71,
            67,
            76,
            72,
            71,
            66,
            66,
            70.5,
            72,
            72,
            71,
            69,
            66,
            65,
            73,
            65.2,
            68.5,
            67.7,
            68,
            68,
            62,
            68,
            68,
            67.5,
            66.5,
            66.5,
            66,
            65.5,
            65,
            72,
            71,
            70.5,
            67,
            68,
            68,
            68,
            72,
            71,
            70,
            66,
            64.5,
            64.5,
            62,
            73,
            62,
            67.5,
            64.5,
            71,
            67,
            66,
            65,
            63.5,
            71,
            70,
            70,
            64,
            65,
            65,
            64,
            63,
            63,
            71,
            71,
            70,
            63.5,
            71,
            70,
            64.5,
            62.5,
            61.5,
            72,
            70.5,
            70.5,
            64.5,
            60,
            70,
            64,
            64,
            64,
            62.5,
            70.5,
            70,
            69,
            69,
            66,
            64.5,
            64,
            62,
            71.5,
            69,
            71,
            70,
            69,
            69,
            70,
            68.7,
            68,
            66,
            64,
            62,
            75,
            70,
            69,
            66,
            64,
            60,
            67.5,
            73,
            72,
            72,
            66.5,
            69.2,
            67.2,
            66.5,
            66,
            66,
            64.2,
            63.7,
            72,
            70.2,
            69,
            68.5,
            68,
            65,
            61.5,
            61,
            61,
            73,
            72,
            70.5,
            65,
            65,
            64.5,
            63,
            62,
            67,
            65,
            64.5,
            62.5,
            62.5,
            70,
            70,
            67,
            65,
            65,
            63,
            79,
            75,
            71,
            69,
            67,
            65.7,
            62,
            73,
            72.5,
            65,
            69,
            69,
            72,
            70,
            68.7,
            66.5,
            65.5,
            64.7,
            64.5,
            70.7,
            70,
            68,
            67,
            66,
            65,
            67,
            70,
            68,
            66.7,
            65.5,
            72,
            70,
            62.5,
            61.2,
            60.1,
            74,
            69.5,
            69,
            68,
            68,
            68,
            65.5,
            65,
            60,
            68,
            65,
            64,
            62,
            71,
            70,
            70,
            70,
            69.5,
            68.5,
            69,
            65,
            64,
            70,
            67,
            65.5,
            63.7,
            63.2,
            62.5,
            62.2,
            61,
            70,
            68.5,
            65.5,
            63.5,
            72.5,
            69,
            67,
            64.5,
            64,
            71,
            67.5,
            67.5,
            63.5,
            68,
            67,
            63.7,
            62,
            70,
            66.5,
            62,
            61,
            72,
            70,
            69.5,
            69.5,
            68,
            65,
            64,
            63,
            70.7,
            69.7,
            69.2,
            65.2,
            64,
            63.5,
            63.2,
            72,
            72,
            60,
            71.2,
            67,
            67,
            64.5,
            65,
            63,
            65,
            65,
            71.5,
            64.5,
            63,
            72,
            66,
            66,
            65,
            63,
            75,
            71,
            70,
            66,
            66,
            65.5,
            65,
            65,
            64,
            64,
            64,
            73,
            72,
            71.7,
            71.5,
            65.5,
            65,
            62.7,
            62.5,
            71.2,
            71,
            70,
            75,
            74,
            72,
            68.5,
            70,
            68.5,
            68,
            65,
            63,
            62.5,
            73,
            71,
            70.5,
            70.5,
            67,
            66,
            61,
            70.5,
            67.5,
            64.5,
            64,
            71,
            68.5,
            67.5,
            66,
            63,
            63,
            71,
            71,
            70.5,
            70.5,
            66.5,
            65.5,
            64.5,
            73,
            72,
            69,
            69,
            66.5,
            65.5,
            65.5,
            65,
            64,
            70,
            68.5,
            67,
            65,
            64,
            63.5,
            61,
            69.7,
            68,
            60,
            65.2,
            64.5,
            63.7,
            60,
            71.7,
            66.5,
            65,
            63.5,
            65.5,
            69,
            67.5,
            63.5,
            72,
            73,
            70,
            70,
            64,
            66,
            62,
            70.5,
            67,
            66,
            65,
            63,
            62,
            61,
            70.5,
            63.7,
            63,
            62.5,
            73,
            72,
            69,
            73,
            71,
            71,
            69,
            63,
            72,
            70,
            67.8,
            65.2,
            64.7,
            64.5,
            63.5,
            63.5,
            62.5,
            62,
            61.5,
            71,
            70,
            70,
            69,
            63.5,
            62.5,
            62.5,
            62,
            72,
            68,
            66,
            66,
            70,
            69.5,
            69,
            63,
            62,
            68,
            68,
            67.5,
            64,
            63,
            63,
            63.5,
            62,
            62,
            70.5,
            68,
            62.5,
            69,
            66,
            61.7,
            60.5,
            69.5,
            71,
            61.7,
            73,
            71,
            67,
            70,
            69,
            69,
            68.7,
            68.5,
            68.5,
            68,
            68,
            68,
            66.2,
            63.2,
            67.5,
            66,
            66,
            64,
            71.7,
            71.5,
            70.7,
            65.5,
            66.5,
            65.2,
            61.5,
            72,
            72,
            68,
            66,
            69.2,
            68,
            66,
            66,
            62,
            61.5,
            61,
            60,
            72,
            70.5,
            68.7,
            68.5,
            67.7,
            64,
            63.5,
            63,
            71,
            68,
            68,
            67,
            65,
            64,
            63,
            63,
            62,
            61,
            66,
            63,
            65.5,
            62,
            71.2,
            71.2,
            69,
            68.5,
            62.5,
            62,
            69,
            67,
            66,
            66,
            66,
            65,
            65,
            65,
            64,
            63,
            70.5,
            70,
            68,
            66,
            66,
            66,
            62,
            61.5,
            73.5,
            70,
            69.5,
            65.5,
            67,
            70,
            68,
            64.5,
            64,
            71,
            68,
            66,
            65.5,
            65,
            63,
            62,
            62,
            67,
            67,
            66,
            64,
            63.5,
            61,
            68.2,
            70,
            70,
            69,
            67,
            65.5,
            64.5,
            68.5,
            67.7,
            61.7,
            66.5,
            68.5,
            68,
            64,
            63.5,
            63,
            66.7,
            64,
            61,
            61,
            60,
            60,
            60,
            56,
            67.5,
            67,
            66.5,
            60,
            69,
            68,
            65,
            64.7,
            64,
            64,
            63,
            65,
            65,
            62,
            61,
            72.7,
            72.7,
            71.5,
            65.5,
            63.5,
            71,
            73,
            71,
            70.7,
            70,
            69,
            68,
            65.5,
            62,
            69.7,
            67.5,
            65.5,
            65,
            64.5,
            63.5,
            70,
            69,
            65.5,
            65.5,
            63,
            70,
            67.7,
            63,
            60,
            65,
            62,
            62,
            71,
            69,
            64,
            64,
            63,
            63,
            63,
            63,
            63,
            62.5,
            62,
            71.5,
            70,
            67,
            67,
            71,
            70.2,
            69.2,
            68.5,
            68,
            67,
            65.5,
            63.5,
            69,
            68,
            63,
            70,
            69.5,
            69,
            68.5,
            66,
            67,
            70.5,
            70.5,
            67,
            66,
            66,
            62,
            62,
            61.5,
            72,
            65,
            65,
            67,
            64,
            64,
            62,
            60,
            60,
            66,
            65,
            67,
            66.5,
            65.5,
            72,
            68,
            66,
            65,
            62,
            61,
            68.7,
            68.5,
            66.5,
            64.5,
            62.5,
            60.5,
            60.5,
            57.5,
            72,
            71,
            67,
            66,
            65,
            70,
            64.5,
            62,
            67.2,
            67,
            65,
            65,
            65,
            63,
            70,
            68,
            63.5,
            62.5,
            62.5,
            62.5,
            62.5,
            70,
            68,
            67,
            65,
            60,
            65,
            68,
            67,
            66.5,
            66,
            65.7,
            65.5,
            65,
            65,
            64,
            63,
            62,
            61,
            60,
            58,
            57,
            66.5,
            66,
            66,
            65,
            63,
            63,
            63,
            63,
            60,
            67,
            66,
            65,
            65,
            61,
            69,
            68,
            68,
            65,
            65,
            62,
            62,
            61,
            59,
            70.7,
            65.5,
            69.2,
            69,
            68,
            67.7,
            64.5,
            60.5,
            67,
            67,
            64,
            64,
            62.5,
            60.5,
            70,
            63,
            66,
            66,
            63,
            71,
            71,
            69,
            63.5,
            68,
            68,
            67,
            67,
            62,
            71.5,
            68,
            65.5,
            64,
            62,
            62,
            61,
            70.5,
            68,
            67,
            65,
            64,
            64,
            60,
            64.5,
            66,
            60,
            68.5,
            63.5,
            64,
            62,
            61,
            66.5,
            57
           ]
          }
         ],
         "hovertemplate": "%{xaxis.title.text}=%{x}<br>%{yaxis.title.text}=%{y}<extra></extra>",
         "legendgroup": "",
         "marker": {
          "color": "#1F77B4",
          "symbol": "circle"
         },
         "name": "",
         "showlegend": false,
         "type": "splom"
        }
       ],
       "layout": {
        "autosize": true,
        "dragmode": "select",
        "legend": {
         "tracegroupgap": 0
        },
        "template": {
         "data": {
          "bar": [
           {
            "error_x": {
             "color": "rgb(36,36,36)"
            },
            "error_y": {
             "color": "rgb(36,36,36)"
            },
            "marker": {
             "line": {
              "color": "white",
              "width": 0.5
             },
             "pattern": {
              "fillmode": "overlay",
              "size": 10,
              "solidity": 0.2
             }
            },
            "type": "bar"
           }
          ],
          "barpolar": [
           {
            "marker": {
             "line": {
              "color": "white",
              "width": 0.5
             },
             "pattern": {
              "fillmode": "overlay",
              "size": 10,
              "solidity": 0.2
             }
            },
            "type": "barpolar"
           }
          ],
          "carpet": [
           {
            "aaxis": {
             "endlinecolor": "rgb(36,36,36)",
             "gridcolor": "white",
             "linecolor": "white",
             "minorgridcolor": "white",
             "startlinecolor": "rgb(36,36,36)"
            },
            "baxis": {
             "endlinecolor": "rgb(36,36,36)",
             "gridcolor": "white",
             "linecolor": "white",
             "minorgridcolor": "white",
             "startlinecolor": "rgb(36,36,36)"
            },
            "type": "carpet"
           }
          ],
          "choropleth": [
           {
            "colorbar": {
             "outlinewidth": 1,
             "tickcolor": "rgb(36,36,36)",
             "ticks": "outside"
            },
            "type": "choropleth"
           }
          ],
          "contour": [
           {
            "colorbar": {
             "outlinewidth": 1,
             "tickcolor": "rgb(36,36,36)",
             "ticks": "outside"
            },
            "colorscale": [
             [
              0,
              "#440154"
             ],
             [
              0.1111111111111111,
              "#482878"
             ],
             [
              0.2222222222222222,
              "#3e4989"
             ],
             [
              0.3333333333333333,
              "#31688e"
             ],
             [
              0.4444444444444444,
              "#26828e"
             ],
             [
              0.5555555555555556,
              "#1f9e89"
             ],
             [
              0.6666666666666666,
              "#35b779"
             ],
             [
              0.7777777777777778,
              "#6ece58"
             ],
             [
              0.8888888888888888,
              "#b5de2b"
             ],
             [
              1,
              "#fde725"
             ]
            ],
            "type": "contour"
           }
          ],
          "contourcarpet": [
           {
            "colorbar": {
             "outlinewidth": 1,
             "tickcolor": "rgb(36,36,36)",
             "ticks": "outside"
            },
            "type": "contourcarpet"
           }
          ],
          "heatmap": [
           {
            "colorbar": {
             "outlinewidth": 1,
             "tickcolor": "rgb(36,36,36)",
             "ticks": "outside"
            },
            "colorscale": [
             [
              0,
              "#440154"
             ],
             [
              0.1111111111111111,
              "#482878"
             ],
             [
              0.2222222222222222,
              "#3e4989"
             ],
             [
              0.3333333333333333,
              "#31688e"
             ],
             [
              0.4444444444444444,
              "#26828e"
             ],
             [
              0.5555555555555556,
              "#1f9e89"
             ],
             [
              0.6666666666666666,
              "#35b779"
             ],
             [
              0.7777777777777778,
              "#6ece58"
             ],
             [
              0.8888888888888888,
              "#b5de2b"
             ],
             [
              1,
              "#fde725"
             ]
            ],
            "type": "heatmap"
           }
          ],
          "heatmapgl": [
           {
            "colorbar": {
             "outlinewidth": 1,
             "tickcolor": "rgb(36,36,36)",
             "ticks": "outside"
            },
            "colorscale": [
             [
              0,
              "#440154"
             ],
             [
              0.1111111111111111,
              "#482878"
             ],
             [
              0.2222222222222222,
              "#3e4989"
             ],
             [
              0.3333333333333333,
              "#31688e"
             ],
             [
              0.4444444444444444,
              "#26828e"
             ],
             [
              0.5555555555555556,
              "#1f9e89"
             ],
             [
              0.6666666666666666,
              "#35b779"
             ],
             [
              0.7777777777777778,
              "#6ece58"
             ],
             [
              0.8888888888888888,
              "#b5de2b"
             ],
             [
              1,
              "#fde725"
             ]
            ],
            "type": "heatmapgl"
           }
          ],
          "histogram": [
           {
            "marker": {
             "line": {
              "color": "white",
              "width": 0.6
             }
            },
            "type": "histogram"
           }
          ],
          "histogram2d": [
           {
            "colorbar": {
             "outlinewidth": 1,
             "tickcolor": "rgb(36,36,36)",
             "ticks": "outside"
            },
            "colorscale": [
             [
              0,
              "#440154"
             ],
             [
              0.1111111111111111,
              "#482878"
             ],
             [
              0.2222222222222222,
              "#3e4989"
             ],
             [
              0.3333333333333333,
              "#31688e"
             ],
             [
              0.4444444444444444,
              "#26828e"
             ],
             [
              0.5555555555555556,
              "#1f9e89"
             ],
             [
              0.6666666666666666,
              "#35b779"
             ],
             [
              0.7777777777777778,
              "#6ece58"
             ],
             [
              0.8888888888888888,
              "#b5de2b"
             ],
             [
              1,
              "#fde725"
             ]
            ],
            "type": "histogram2d"
           }
          ],
          "histogram2dcontour": [
           {
            "colorbar": {
             "outlinewidth": 1,
             "tickcolor": "rgb(36,36,36)",
             "ticks": "outside"
            },
            "colorscale": [
             [
              0,
              "#440154"
             ],
             [
              0.1111111111111111,
              "#482878"
             ],
             [
              0.2222222222222222,
              "#3e4989"
             ],
             [
              0.3333333333333333,
              "#31688e"
             ],
             [
              0.4444444444444444,
              "#26828e"
             ],
             [
              0.5555555555555556,
              "#1f9e89"
             ],
             [
              0.6666666666666666,
              "#35b779"
             ],
             [
              0.7777777777777778,
              "#6ece58"
             ],
             [
              0.8888888888888888,
              "#b5de2b"
             ],
             [
              1,
              "#fde725"
             ]
            ],
            "type": "histogram2dcontour"
           }
          ],
          "mesh3d": [
           {
            "colorbar": {
             "outlinewidth": 1,
             "tickcolor": "rgb(36,36,36)",
             "ticks": "outside"
            },
            "type": "mesh3d"
           }
          ],
          "parcoords": [
           {
            "line": {
             "colorbar": {
              "outlinewidth": 1,
              "tickcolor": "rgb(36,36,36)",
              "ticks": "outside"
             }
            },
            "type": "parcoords"
           }
          ],
          "pie": [
           {
            "automargin": true,
            "type": "pie"
           }
          ],
          "scatter": [
           {
            "fillpattern": {
             "fillmode": "overlay",
             "size": 10,
             "solidity": 0.2
            },
            "type": "scatter"
           }
          ],
          "scatter3d": [
           {
            "line": {
             "colorbar": {
              "outlinewidth": 1,
              "tickcolor": "rgb(36,36,36)",
              "ticks": "outside"
             }
            },
            "marker": {
             "colorbar": {
              "outlinewidth": 1,
              "tickcolor": "rgb(36,36,36)",
              "ticks": "outside"
             }
            },
            "type": "scatter3d"
           }
          ],
          "scattercarpet": [
           {
            "marker": {
             "colorbar": {
              "outlinewidth": 1,
              "tickcolor": "rgb(36,36,36)",
              "ticks": "outside"
             }
            },
            "type": "scattercarpet"
           }
          ],
          "scattergeo": [
           {
            "marker": {
             "colorbar": {
              "outlinewidth": 1,
              "tickcolor": "rgb(36,36,36)",
              "ticks": "outside"
             }
            },
            "type": "scattergeo"
           }
          ],
          "scattergl": [
           {
            "marker": {
             "colorbar": {
              "outlinewidth": 1,
              "tickcolor": "rgb(36,36,36)",
              "ticks": "outside"
             }
            },
            "type": "scattergl"
           }
          ],
          "scattermapbox": [
           {
            "marker": {
             "colorbar": {
              "outlinewidth": 1,
              "tickcolor": "rgb(36,36,36)",
              "ticks": "outside"
             }
            },
            "type": "scattermapbox"
           }
          ],
          "scatterpolar": [
           {
            "marker": {
             "colorbar": {
              "outlinewidth": 1,
              "tickcolor": "rgb(36,36,36)",
              "ticks": "outside"
             }
            },
            "type": "scatterpolar"
           }
          ],
          "scatterpolargl": [
           {
            "marker": {
             "colorbar": {
              "outlinewidth": 1,
              "tickcolor": "rgb(36,36,36)",
              "ticks": "outside"
             }
            },
            "type": "scatterpolargl"
           }
          ],
          "scatterternary": [
           {
            "marker": {
             "colorbar": {
              "outlinewidth": 1,
              "tickcolor": "rgb(36,36,36)",
              "ticks": "outside"
             }
            },
            "type": "scatterternary"
           }
          ],
          "surface": [
           {
            "colorbar": {
             "outlinewidth": 1,
             "tickcolor": "rgb(36,36,36)",
             "ticks": "outside"
            },
            "colorscale": [
             [
              0,
              "#440154"
             ],
             [
              0.1111111111111111,
              "#482878"
             ],
             [
              0.2222222222222222,
              "#3e4989"
             ],
             [
              0.3333333333333333,
              "#31688e"
             ],
             [
              0.4444444444444444,
              "#26828e"
             ],
             [
              0.5555555555555556,
              "#1f9e89"
             ],
             [
              0.6666666666666666,
              "#35b779"
             ],
             [
              0.7777777777777778,
              "#6ece58"
             ],
             [
              0.8888888888888888,
              "#b5de2b"
             ],
             [
              1,
              "#fde725"
             ]
            ],
            "type": "surface"
           }
          ],
          "table": [
           {
            "cells": {
             "fill": {
              "color": "rgb(237,237,237)"
             },
             "line": {
              "color": "white"
             }
            },
            "header": {
             "fill": {
              "color": "rgb(217,217,217)"
             },
             "line": {
              "color": "white"
             }
            },
            "type": "table"
           }
          ]
         },
         "layout": {
          "annotationdefaults": {
           "arrowhead": 0,
           "arrowwidth": 1
          },
          "autosize": true,
          "autotypenumbers": "strict",
          "coloraxis": {
           "colorbar": {
            "outlinewidth": 1,
            "tickcolor": "rgb(36,36,36)",
            "ticks": "outside"
           }
          },
          "colorscale": {
           "diverging": [
            [
             0,
             "rgb(103,0,31)"
            ],
            [
             0.1,
             "rgb(178,24,43)"
            ],
            [
             0.2,
             "rgb(214,96,77)"
            ],
            [
             0.3,
             "rgb(244,165,130)"
            ],
            [
             0.4,
             "rgb(253,219,199)"
            ],
            [
             0.5,
             "rgb(247,247,247)"
            ],
            [
             0.6,
             "rgb(209,229,240)"
            ],
            [
             0.7,
             "rgb(146,197,222)"
            ],
            [
             0.8,
             "rgb(67,147,195)"
            ],
            [
             0.9,
             "rgb(33,102,172)"
            ],
            [
             1,
             "rgb(5,48,97)"
            ]
           ],
           "sequential": [
            [
             0,
             "#440154"
            ],
            [
             0.1111111111111111,
             "#482878"
            ],
            [
             0.2222222222222222,
             "#3e4989"
            ],
            [
             0.3333333333333333,
             "#31688e"
            ],
            [
             0.4444444444444444,
             "#26828e"
            ],
            [
             0.5555555555555556,
             "#1f9e89"
            ],
            [
             0.6666666666666666,
             "#35b779"
            ],
            [
             0.7777777777777778,
             "#6ece58"
            ],
            [
             0.8888888888888888,
             "#b5de2b"
            ],
            [
             1,
             "#fde725"
            ]
           ],
           "sequentialminus": [
            [
             0,
             "#440154"
            ],
            [
             0.1111111111111111,
             "#482878"
            ],
            [
             0.2222222222222222,
             "#3e4989"
            ],
            [
             0.3333333333333333,
             "#31688e"
            ],
            [
             0.4444444444444444,
             "#26828e"
            ],
            [
             0.5555555555555556,
             "#1f9e89"
            ],
            [
             0.6666666666666666,
             "#35b779"
            ],
            [
             0.7777777777777778,
             "#6ece58"
            ],
            [
             0.8888888888888888,
             "#b5de2b"
            ],
            [
             1,
             "#fde725"
            ]
           ]
          },
          "colorway": [
           "#1F77B4",
           "#FF7F0E",
           "#2CA02C",
           "#D62728",
           "#9467BD",
           "#8C564B",
           "#E377C2",
           "#7F7F7F",
           "#BCBD22",
           "#17BECF"
          ],
          "font": {
           "color": "rgb(36,36,36)"
          },
          "geo": {
           "bgcolor": "white",
           "lakecolor": "white",
           "landcolor": "white",
           "showlakes": true,
           "showland": true,
           "subunitcolor": "white"
          },
          "height": 400,
          "hoverlabel": {
           "align": "left"
          },
          "hovermode": "closest",
          "mapbox": {
           "style": "light"
          },
          "margin": {
           "b": 30,
           "l": 30,
           "r": 30,
           "t": 30
          },
          "paper_bgcolor": "white",
          "plot_bgcolor": "white",
          "polar": {
           "angularaxis": {
            "gridcolor": "rgb(232,232,232)",
            "linecolor": "rgb(36,36,36)",
            "showgrid": false,
            "showline": true,
            "ticks": "outside"
           },
           "bgcolor": "white",
           "radialaxis": {
            "gridcolor": "rgb(232,232,232)",
            "linecolor": "rgb(36,36,36)",
            "showgrid": false,
            "showline": true,
            "ticks": "outside"
           }
          },
          "scene": {
           "xaxis": {
            "backgroundcolor": "white",
            "gridcolor": "rgb(232,232,232)",
            "gridwidth": 2,
            "linecolor": "rgb(36,36,36)",
            "showbackground": true,
            "showgrid": false,
            "showline": true,
            "ticks": "outside",
            "zeroline": false,
            "zerolinecolor": "rgb(36,36,36)"
           },
           "yaxis": {
            "backgroundcolor": "white",
            "gridcolor": "rgb(232,232,232)",
            "gridwidth": 2,
            "linecolor": "rgb(36,36,36)",
            "showbackground": true,
            "showgrid": false,
            "showline": true,
            "ticks": "outside",
            "zeroline": false,
            "zerolinecolor": "rgb(36,36,36)"
           },
           "zaxis": {
            "backgroundcolor": "white",
            "gridcolor": "rgb(232,232,232)",
            "gridwidth": 2,
            "linecolor": "rgb(36,36,36)",
            "showbackground": true,
            "showgrid": false,
            "showline": true,
            "ticks": "outside",
            "zeroline": false,
            "zerolinecolor": "rgb(36,36,36)"
           }
          },
          "shapedefaults": {
           "fillcolor": "black",
           "line": {
            "width": 0
           },
           "opacity": 0.3
          },
          "ternary": {
           "aaxis": {
            "gridcolor": "rgb(232,232,232)",
            "linecolor": "rgb(36,36,36)",
            "showgrid": false,
            "showline": true,
            "ticks": "outside"
           },
           "baxis": {
            "gridcolor": "rgb(232,232,232)",
            "linecolor": "rgb(36,36,36)",
            "showgrid": false,
            "showline": true,
            "ticks": "outside"
           },
           "bgcolor": "white",
           "caxis": {
            "gridcolor": "rgb(232,232,232)",
            "linecolor": "rgb(36,36,36)",
            "showgrid": false,
            "showline": true,
            "ticks": "outside"
           }
          },
          "title": {
           "x": 0.5,
           "xanchor": "center"
          },
          "width": 600,
          "xaxis": {
           "automargin": true,
           "gridcolor": "rgb(232,232,232)",
           "linecolor": "rgb(36,36,36)",
           "showgrid": true,
           "showline": true,
           "ticks": "outside",
           "title": {
            "standoff": 15
           },
           "zeroline": false,
           "zerolinecolor": "rgb(36,36,36)"
          },
          "yaxis": {
           "automargin": true,
           "gridcolor": "rgb(232,232,232)",
           "linecolor": "rgb(36,36,36)",
           "showgrid": true,
           "showline": true,
           "ticks": "outside",
           "title": {
            "standoff": 15
           },
           "zeroline": false,
           "zerolinecolor": "rgb(36,36,36)"
          }
         }
        },
        "xaxis": {
         "autorange": true,
         "range": [
          60.07102056359482,
          80.42897943640519
         ],
         "type": "linear"
        },
        "xaxis2": {
         "autorange": true,
         "range": [
          56.53865194211729,
          71.96134805788272
         ],
         "type": "linear"
        },
        "xaxis3": {
         "autorange": true,
         "range": [
          53.31111957349581,
          81.68888042650418
         ],
         "type": "linear"
        },
        "yaxis": {
         "autorange": true,
         "range": [
          60.07102056359482,
          80.42897943640519
         ],
         "type": "linear"
        },
        "yaxis2": {
         "autorange": true,
         "range": [
          56.53865194211729,
          71.96134805788272
         ],
         "type": "linear"
        },
        "yaxis3": {
         "autorange": true,
         "range": [
          53.31111957349581,
          81.68888042650418
         ],
         "type": "linear"
        }
       }
      },
      "image/png": "[encoded data removed]"
     },
     "metadata": {},
     "output_type": "display_data"
    }
   ],
   "source": [
    "fig = px.scatter_matrix(heights.drop(columns=['gender']))\n",
    "fig"
   ]
  },
  {
   "cell_type": "markdown",
   "id": "bdaab080",
   "metadata": {
    "slideshow": {
     "slide_type": "slide"
    }
   },
   "source": [
    "### Simulating MCAR data\n",
    "\n",
    "- We will make `'child'` MCAR by taking a random subset of `heights` and setting the corresponding `'child'` heights to `np.NaN`.\n",
    "- This is equivalent to flipping a (biased) coin for each row. \n",
    "    - If heads, we delete the `'child'` height.\n",
    "- **You will not do this in practice!**"
   ]
  },
  {
   "cell_type": "code",
   "execution_count": 9,
   "id": "570e74ed",
   "metadata": {},
   "outputs": [],
   "source": [
    "np.random.seed(42) # So that we get the same results each time (for lecture).\n",
    "\n",
    "heights_mcar = heights.copy()\n",
    "idx = heights_mcar.sample(frac=0.3).index\n",
    "heights_mcar.loc[idx, 'child'] = np.nan"
   ]
  },
  {
   "cell_type": "code",
   "execution_count": null,
   "id": "18f9ec89",
   "metadata": {},
   "outputs": [],
   "source": [
    "heights_mcar.head(10)"
   ]
  },
  {
   "cell_type": "code",
   "execution_count": null,
   "id": "90fec198",
   "metadata": {},
   "outputs": [],
   "source": [
    "heights_mcar.isna().mean()"
   ]
  },
  {
   "cell_type": "markdown",
   "id": "98d3096b",
   "metadata": {
    "slideshow": {
     "slide_type": "slide"
    }
   },
   "source": [
    "### Verifying that child heights are MCAR in `heights_mcar`"
   ]
  },
  {
   "cell_type": "markdown",
   "id": "9e4af6d1",
   "metadata": {
    "slideshow": {
     "slide_type": "fragment"
    }
   },
   "source": [
    "- Each row of `heights_mcar` belongs to one of two **groups**:\n",
    "    - Group 1: `'child'` is missing.\n",
    "    - Group 2: `'child'` is not missing."
   ]
  },
  {
   "cell_type": "code",
   "execution_count": null,
   "id": "5566d35d",
   "metadata": {},
   "outputs": [],
   "source": [
    "heights_mcar['child_missing'] = heights_mcar['child'].isna()\n",
    "heights_mcar.head()"
   ]
  },
  {
   "cell_type": "markdown",
   "id": "ec3f46bb",
   "metadata": {
    "slideshow": {
     "slide_type": "fragment"
    }
   },
   "source": [
    "- We need to look at the distributions of every other column – `'gender'`, `'mother'`, and `'father'` – separately for these two groups, and check to see if they are similar."
   ]
  },
  {
   "cell_type": "markdown",
   "id": "903253af",
   "metadata": {
    "slideshow": {
     "slide_type": "slide"
    }
   },
   "source": [
    "### Comparing null and non-null `'child'` distributions for `'gender'`"
   ]
  },
  {
   "cell_type": "code",
   "execution_count": null,
   "id": "9efd2000",
   "metadata": {},
   "outputs": [],
   "source": [
    "gender_dist = (\n",
    "    heights_mcar\n",
    "    .assign(child_missing=heights_mcar['child'].isna())\n",
    "    .pivot_table(index='gender', columns='child_missing', aggfunc='size')\n",
    ")\n",
    "\n",
    "# Added just to make the resulting pivot table easier to read.\n",
    "gender_dist.columns = ['child_missing = False', 'child_missing = True']\n",
    "\n",
    "gender_dist = gender_dist / gender_dist.sum()\n",
    "gender_dist"
   ]
  },
  {
   "cell_type": "markdown",
   "id": "b0567dfa",
   "metadata": {
    "slideshow": {
     "slide_type": "fragment"
    }
   },
   "source": [
    "- Note that here, each column is a separate distribution that adds to 1."
   ]
  },
  {
   "cell_type": "markdown",
   "id": "bfed2244",
   "metadata": {
    "slideshow": {
     "slide_type": "fragment"
    }
   },
   "source": [
    "- The two columns look similar, which is evidence that `'child'`'s missingness does not depend on `'gender'`.\n",
    "    - Knowing that the child is `'female'` doesn't make it any more or less likely that their height is missing than knowing if the child is `'male'`."
   ]
  },
  {
   "cell_type": "markdown",
   "id": "bc69137c",
   "metadata": {
    "slideshow": {
     "slide_type": "slide"
    }
   },
   "source": [
    "### Comparing null and non-null `'child'` distributions for `'gender'`"
   ]
  },
  {
   "cell_type": "markdown",
   "id": "a7f817d2",
   "metadata": {
    "slideshow": {
     "slide_type": "fragment"
    }
   },
   "source": [
    "- In the previous slide, we saw that the distribution of `'gender'` is similar whether or not `'child'` is missing."
   ]
  },
  {
   "cell_type": "markdown",
   "id": "63109984",
   "metadata": {
    "slideshow": {
     "slide_type": "fragment"
    }
   },
   "source": [
    "- To make precise what we mean by \"similar\", we can run a permutation test. We are comparing two distributions:\n",
    "    1. The distribution of `'gender'` when `'child'` is missing.\n",
    "    2. The distribution of `'gender'` when `'child'` is not missing."
   ]
  },
  {
   "cell_type": "markdown",
   "id": "6e7a1547",
   "metadata": {
    "slideshow": {
     "slide_type": "fragment"
    }
   },
   "source": [
    "- What test statistic do we use to compare categorical distributions?"
   ]
  },
  {
   "cell_type": "code",
   "execution_count": null,
   "id": "775e7788",
   "metadata": {
    "slideshow": {
     "slide_type": "slide"
    }
   },
   "outputs": [],
   "source": [
    "gender_dist.plot(kind='barh', title='Gender by Missingness of Child Height', barmode='group')"
   ]
  },
  {
   "cell_type": "markdown",
   "id": "b34398a8",
   "metadata": {
    "slideshow": {
     "slide_type": "fragment"
    }
   },
   "source": [
    "To measure the \"distance\" between two categorical distributions, we use the **total variation distance**.\n",
    "\n",
    "Note that  with only two categories, the TVD is the same as the absolute difference in proportions for either category."
   ]
  },
  {
   "cell_type": "markdown",
   "id": "5a12c13e",
   "metadata": {
    "slideshow": {
     "slide_type": "slide"
    }
   },
   "source": [
    "### Simulation\n",
    "\n",
    "The code to run our simulation largely looks the same as in previous permutation tests. Remember, we are comparing two distributions:\n",
    "- The distribution of 'gender' when 'child' is missing.\n",
    "- The distribution of 'gender' when 'child' is not missing."
   ]
  },
  {
   "cell_type": "code",
   "execution_count": null,
   "id": "57194779",
   "metadata": {
    "slideshow": {
     "slide_type": "-"
    }
   },
   "outputs": [],
   "source": [
    "n_repetitions = 500\n",
    "shuffled = heights_mcar.copy()\n",
    "\n",
    "tvds = []\n",
    "for _ in range(n_repetitions):\n",
    "    \n",
    "    # Shuffling genders. \n",
    "    # Note that we are assigning back to the same DataFrame for performance reasons; \n",
    "    # see https://dsc80.com/resources/lectures/lec07/lec07-fast-permutation-tests.html.\n",
    "    shuffled['gender'] = np.random.permutation(shuffled['gender'])\n",
    "    \n",
    "    # Computing and storing the TVD.\n",
    "    pivoted = (\n",
    "        shuffled\n",
    "        .pivot_table(index='gender', columns='child_missing', aggfunc='size')\n",
    "    )\n",
    "    \n",
    "    pivoted = pivoted / pivoted.sum()\n",
    "    \n",
    "    tvd = pivoted.diff(axis=1).iloc[:, -1].abs().sum() / 2\n",
    "    tvds.append(tvd)"
   ]
  },
  {
   "cell_type": "code",
   "execution_count": null,
   "id": "f952a343",
   "metadata": {
    "scrolled": true
   },
   "outputs": [],
   "source": [
    "observed_tvd = gender_dist.diff(axis=1).iloc[:, -1].abs().sum() / 2\n",
    "observed_tvd"
   ]
  },
  {
   "cell_type": "markdown",
   "id": "6ae18299",
   "metadata": {
    "slideshow": {
     "slide_type": "slide"
    }
   },
   "source": [
    "### Results"
   ]
  },
  {
   "cell_type": "code",
   "execution_count": null,
   "id": "a16bbf02",
   "metadata": {},
   "outputs": [],
   "source": [
    "fig = px.histogram(pd.DataFrame(tvds), x=0, nbins=50, histnorm='probability', \n",
    "                   title='Empirical Distribution of the TVD')\n",
    "fig.add_vline(x=observed_tvd, line_color='red')\n",
    "fig.add_annotation(text=f'<span style=\"color:red\">Observed TVD = {round(observed_tvd, 2)}</span>',\n",
    "                   x=2.3 * observed_tvd, showarrow=False, y=0.16)\n",
    "fig.update_layout(yaxis_range=[0, 0.2])"
   ]
  },
  {
   "cell_type": "code",
   "execution_count": null,
   "id": "ce201999",
   "metadata": {},
   "outputs": [],
   "source": [
    "(np.array(tvds) >= observed_tvd).mean()"
   ]
  },
  {
   "cell_type": "markdown",
   "id": "a2af6c73",
   "metadata": {},
   "source": [
    "- We fail to reject the null.\n",
    "- Recall, the null stated that the distribution of `'gender'` when `'child'` is missing is the same as the distribution of `'gender'` when `'child'` is not missing.\n",
    "- Hence, we conclude that the missingness in the `'child'` column is not dependent on `'gender'`."
   ]
  },
  {
   "cell_type": "markdown",
   "id": "222acc46",
   "metadata": {
    "slideshow": {
     "slide_type": "slide"
    }
   },
   "source": [
    "### Comparing null and non-null `'child'` distributions for `'father'`\n",
    "\n",
    "- We again must compare two distributions:\n",
    "    1. The distribution of `'father'` when `'child'` is missing.\n",
    "    2. The distribution of `'father'` when `'child'` is not missing.\n",
    "\n",
    "- If the distributions are similar, we conclude that the missingness of `'child'` is not dependent on the height of the `'father'`.\n",
    "\n",
    "- We can again use a permutation test."
   ]
  },
  {
   "cell_type": "code",
   "execution_count": null,
   "id": "78287427",
   "metadata": {
    "slideshow": {
     "slide_type": "slide"
    }
   },
   "outputs": [],
   "source": [
    "px.histogram(heights_mcar, x='father', color='child_missing', histnorm='probability', marginal='box',\n",
    "             title=\"Father's Height by Missingness of Child Height\", barmode='overlay', opacity=0.7)"
   ]
  },
  {
   "cell_type": "markdown",
   "id": "a341fe2b",
   "metadata": {
    "slideshow": {
     "slide_type": "slide"
    }
   },
   "source": [
    "We can visualize numerical distributions with histograms, or with **kernel density estimates**. (See the definition of `create_kde_plotly` at the top of the notebook if you're curious as to how these are created.)"
   ]
  },
  {
   "cell_type": "code",
   "execution_count": null,
   "id": "12d44c45",
   "metadata": {},
   "outputs": [],
   "source": [
    "create_kde_plotly(heights_mcar, 'child_missing', True, False, 'father', \n",
    "                  \"Father's Height by Missingness of Child Height\")"
   ]
  },
  {
   "cell_type": "markdown",
   "id": "b4938cd1",
   "metadata": {
    "slideshow": {
     "slide_type": "slide"
    }
   },
   "source": [
    "### Concluding that `'child'` is MCAR\n",
    "\n",
    "- We need to run three permutation tests – one for each column in `heights_mcar` other than `'child'`.\n",
    "\n",
    "- For every other column, if we **fail to reject the null** that the distribution of the column when `'child'` is missing is the same as the distribution of the column when `'child'` is not missing, then we can conclude `'child'` is MCAR.\n",
    "    - In such a case, its missingness is not tied to any other columns.\n",
    "    - For instance, children with shorter fathers are not any more likely to have missing heights than children with taller fathers."
   ]
  },
  {
   "cell_type": "markdown",
   "id": "c832b8bb",
   "metadata": {
    "slideshow": {
     "slide_type": "slide"
    }
   },
   "source": [
    "## Summary, next time"
   ]
  },
  {
   "cell_type": "markdown",
   "id": "df6339af",
   "metadata": {
    "slideshow": {
     "slide_type": "slide"
    }
   },
   "source": [
    "### Summary\n",
    "\n",
    "- Refer to the [Flowchart](#Flowchart) for an overview of the four missingness mechanisms.\n",
    "- We can use permutation tests to verify if a column is MAR vs. MCAR.\n",
    "    - Create two groups: one where values in a column are missing, and another where values in a column aren't missing.\n",
    "    - To test the missingness of column X:\n",
    "        - For every other column, test the null hypothesis \"the distribution of (other column) is the same when column X is missing and when column X is not missing.\"\n",
    "        - If you fail to reject the null, then column X's missingness does not depend on (other column).\n",
    "        - If you reject the null, then column X is MAR dependent on (other column).\n",
    "        - If you fail to reject the null for all other columns, then column X is MCAR!"
   ]
  },
  {
   "cell_type": "markdown",
   "id": "94911ce0",
   "metadata": {
    "slideshow": {
     "slide_type": "slide"
    }
   },
   "source": [
    "### Next time\n",
    "\n",
    "- More examples of deciding between MCAR and MAR using permutation tests.\n",
    "    - For instance, we'll simulate MAR data and see if we can detect whether it is MAR.\n",
    "    - We'll also learn about a new test statistic for measuring the similarity between two categorical distributions.\n",
    "- Imputation: given that we know a column's missingness mechanism, how do we fill in its missing values?"
   ]
  }
 ],
 "metadata": {
  "kernelspec": {
   "display_name": "Python 3 (ipykernel)",
   "language": "python",
   "name": "python3"
  },
  "language_info": {
   "codemirror_mode": {
    "name": "ipython",
    "version": 3
   },
   "file_extension": ".py",
   "mimetype": "text/x-python",
   "name": "python",
   "nbconvert_exporter": "python",
   "pygments_lexer": "ipython3",
   "version": "3.12.11"
  },
  "livereveal": {
   "scroll": true
  },
  "rise": {
   "transition": "none"
  }
 },
 "nbformat": 4,
 "nbformat_minor": 5
}
