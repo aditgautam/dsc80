{
 "cells": [
  {
   "cell_type": "code",
   "execution_count": 1,
   "id": "8c8a44b8",
   "metadata": {
    "slideshow": {
     "slide_type": "skip"
    }
   },
   "outputs": [],
   "source": [
    "from dsc80_utils import *"
   ]
  },
  {
   "cell_type": "markdown",
   "id": "ce9e66d9",
   "metadata": {
    "slideshow": {
     "slide_type": "slide"
    }
   },
   "source": [
    "# Lecture 7 – Missingness Mechanisms\n",
    "\n",
    "## DSC 80, Summer 2025"
   ]
  },
  {
   "cell_type": "markdown",
   "id": "22824200",
   "metadata": {
    "slideshow": {
     "slide_type": "slide"
    }
   },
   "source": [
    "### Announcements 📣\n",
    "\n",
    "- Lab 4 will be released today and is due on **Thursday, August 14**.\n",
    "- Project 1 is due **Saturday, August 16**.\n",
    "- Keep up the solid work! :)"
   ]
  },
  {
   "cell_type": "markdown",
   "id": "bd851d5b",
   "metadata": {
    "slideshow": {
     "slide_type": "slide"
    }
   },
   "source": [
    "### Agenda 📆\n",
    "\n",
    "- Missingness mechanisms.\n",
    "    - Why do data go missing?\n",
    "    - Missing by Design.\n",
    "    - Not Missing at Random.\n",
    "    - Missing Completely at Random.\n",
    "    - Missing at Random.\n",
    "- Formal definitions.\n",
    "- Identifying missingness mechanisms in data."
   ]
  },
  {
   "cell_type": "markdown",
   "id": "fc72c50c",
   "metadata": {
    "slideshow": {
     "slide_type": "slide"
    }
   },
   "source": [
    "### Additional resources\n",
    "\n",
    "These recent lectures have been quite conceptual! Here are a few other places to look for readings; many of these are linked on the course homepage and on the [Resources](https://dsc80.com/resources) tab of the course website.\n",
    "\n",
    "- Permutation testing:\n",
    "    - Extra lecture notebook: [Fast Permutation Tests](https://dsc80.com/resources/lectures/lec07/lec07-fast-permutation-tests.html).\n",
    "    - [Great visualization](https://www.jwilber.me/permutationtest/).\n",
    "- Missingness mechanisms:\n",
    "    - [(Old) Course notes](https://notes.dsc80.com/content/06/defining-missing.html).\n",
    "    - [Wikipedia](https://en.wikipedia.org/wiki/Missing_data).\n",
    "    - [This textbook page](https://stefvanbuuren.name/fimd/sec-MCAR.html).\n",
    "    - [This journal article](https://www.ncbi.nlm.nih.gov/pmc/articles/PMC4121561/)."
   ]
  },
  {
   "cell_type": "markdown",
   "id": "88a44ad0",
   "metadata": {
    "slideshow": {
     "slide_type": "slide"
    }
   },
   "source": [
    "<div class=\"alert alert-warning\">\n",
    "    <h3>Breakout 🤔 </h3>\n",
    "</div>\n",
    "\n",
    "_Taken from the Summer 2022 DSC 10 Final Exam._\n",
    "    \n",
    "Every year, the American Kennel Club holds a Photo Contest for dogs. Eric wants to know whether **toy dogs win disproportionately more often than other kinds of dogs**. He has collected a sample of 500 dogs that have won the Photo Contest. In his sample, 200 dogs were toy dogs.\n",
    "\n",
    "Eric also knows the distribution of dog kinds in the population:\n",
    "\n",
    "<center><img src=\"imgs/q6_df.png\" width=\"50%\"></center>\n",
    "\n",
    "Suppose he has the following null and alternative hypotheses:\n",
    "- **Null Hypothesis**: The proportion of toy dogs that win is 0.3.\n",
    "- **Alternative Hypothesis**: The proportion of toy dogs that win is greater than 0.3.\n",
    "\n",
    "**Select all the test statistics that Eric can use to conduct his hypothesis.**\n",
    "\n",
    "- A. The proportion of toy dogs in his sample.\n",
    "- B. The number of toy dogs in his sample.\n",
    "- C. The absolute difference of the sample proportion of toy dogs and 0.3.\n",
    "- D. The absolute difference of the sample proportion of toy dogs and 0.5.\n",
    "- E. The TVD between his sample and the population."
   ]
  },
  {
   "cell_type": "markdown",
   "id": "89ba610b",
   "metadata": {
    "slideshow": {
     "slide_type": "slide"
    }
   },
   "source": [
    "## Missingness mechanisms"
   ]
  },
  {
   "cell_type": "markdown",
   "id": "b9680965",
   "metadata": {
    "slideshow": {
     "slide_type": "slide"
    }
   },
   "source": [
    "### Imperfect data\n",
    "\n",
    "<center><img src=\"imgs/image_0.png\" width=40%></center>\n",
    "\n",
    "- When studying a problem, we are interested in understanding the **true model** in nature.\n",
    "- The data generating process is the \"real-world\" version of the model, that generates the data that we observe.\n",
    "- The recorded data is **supposed** to \"well-represent\" the data generating process, and subsequently the true model.\n",
    "\n",
    "- Example: Consider the upcoming Midterm Exam (on August 18th, in lecture).\n",
    "    - The exam is meant to be a **model** of your **true** knowledge of DSC 80 concepts.\n",
    "    - The data generating process should give us a sense of your true knowledge, but is influenced by the specific questions on the exam, your preparation for the exam, whether or not you are sick on the day of the exam, etc.\n",
    "    - The recorded data consists of the final answers you write on the exam page."
   ]
  },
  {
   "cell_type": "markdown",
   "id": "f8cd9f8f",
   "metadata": {
    "slideshow": {
     "slide_type": "slide"
    }
   },
   "source": [
    "### Imperfect data\n",
    "\n",
    "<center><img src=\"imgs/image_0.png\" width=40%></center>"
   ]
  },
  {
   "cell_type": "markdown",
   "id": "bf9192a4",
   "metadata": {
    "slideshow": {
     "slide_type": "fragment"
    }
   },
   "source": [
    "* **Problem 1**: Your data is not representative, i.e. you have a poor access frame and/or collected a poor sample.\n",
    "    - If the exam only asked questions about `pivot_table`, that would not give us an accurate picture of your understanding of DSC 80!"
   ]
  },
  {
   "cell_type": "markdown",
   "id": "2dca23b4",
   "metadata": {
    "slideshow": {
     "slide_type": "fragment"
    }
   },
   "source": [
    "* **Problem 2**: Some of the entries are missing.\n",
    "    - If you left some questions blank, why?"
   ]
  },
  {
   "cell_type": "markdown",
   "id": "207f796e",
   "metadata": {
    "slideshow": {
     "slide_type": "fragment"
    }
   },
   "source": [
    "We will focus on the second problem."
   ]
  },
  {
   "cell_type": "markdown",
   "id": "3b420d91",
   "metadata": {
    "slideshow": {
     "slide_type": "slide"
    }
   },
   "source": [
    "### Types of missingness\n",
    "\n",
    "There are four key ways in which values can be missing. It is important to distinguish between these types since in some cases, we can **impute** (fill in) the missing data.\n",
    "\n",
    "* **Missing by design (MD)**.\n",
    "* **Not missing at random (NMAR)**.\n",
    "    - Also called \"non-ignorable\" (NI).\n",
    "* **Missing at random (MAR)**.\n",
    "* **Missing completely at random (MCAR)**."
   ]
  },
  {
   "cell_type": "markdown",
   "id": "cd6628c8",
   "metadata": {
    "slideshow": {
     "slide_type": "slide"
    }
   },
   "source": [
    "### Missing by design (MD)\n",
    "\n",
    "- Values in a column are missing by design if:\n",
    "    - the designers of the data collection process **intentionally decided to not collect data in that column**,\n",
    "    - because it can be recovered from other columns. \n",
    "\n",
    "- If you can determine whether a value is missing solely using other columns, then the data is missing by design.\n",
    "    - For example: `'Age4'` is missing if and only if `'Number of People'` is less than 4.\n",
    "<center><img src=imgs/households.png width=50%></center>\n",
    "\n",
    "- Refer to [this StackExchange link](https://stats.stackexchange.com/questions/201782/meaning-of-missing-by-design-in-longitudinal-studies) for more examples."
   ]
  },
  {
   "cell_type": "markdown",
   "id": "078a200a",
   "metadata": {
    "slideshow": {
     "slide_type": "slide"
    }
   },
   "source": [
    "### Missing by design\n",
    "\n",
    "\n",
    "<center><img src=\"./imgs/Skiplogic.png\"/ width=60%></center>\n",
    "\n",
    "**Example**: `'Car Type?'` and `'Car Colour?'` are missing if and only if `'Own a car?'` is `'No'`.\n"
   ]
  },
  {
   "cell_type": "markdown",
   "id": "7b13d218",
   "metadata": {
    "slideshow": {
     "slide_type": "slide"
    }
   },
   "source": [
    "### Other types of missingness\n",
    "\n",
    "- Not missing at random (NMAR).\n",
    "    - The chance that a value is missing **depends on the actual missing value**!\n",
    "\n",
    "- Missing completely at random (MCAR).\n",
    "    - The chance that a value is missing is **completely independent** of\n",
    "        - other columns, and\n",
    "        - the actual missing value.\n",
    "\n",
    "- Missing at random (MAR).\n",
    "    - The chance that a value is missing **depends on other columns**, but **not** the actual missing value itself.\n",
    "    - If a column is MAR, then it is MCAR **when conditioned on some set of other columns**."
   ]
  },
  {
   "cell_type": "markdown",
   "id": "fcd261fb",
   "metadata": {
    "slideshow": {
     "slide_type": "slide"
    }
   },
   "source": [
    "### Mom... the dog ate my data! 🐶\n",
    "\n",
    "Consider the following (contrived) example:\n",
    "\n",
    "- We survey 100 people for their favorite color and birth month.\n",
    "- We write their answers on index cards.\n",
    "    - On the left side, we write <span style='color:red'>c</span><span style='color:orange'>o</span><span style='color:yellow'>l</span><span style='color:green'>o</span><span style='color:blue'>r</span><span style='color:purple'>s</span>.\n",
    "    - On the right side, we write birth months 📆.\n",
    "- A bad dog takes the top 10 cards from the stack and chews off the right side (birth months).\n",
    "- Now ten people are missing birth months!"
   ]
  },
  {
   "attachments": {},
   "cell_type": "markdown",
   "id": "8a0a3d43",
   "metadata": {
    "slideshow": {
     "slide_type": "slide"
    }
   },
   "source": [
    "<center><img src=\"imgs/dog.png\" width=50%></center>"
   ]
  },
  {
   "cell_type": "markdown",
   "id": "bc7b9cb7",
   "metadata": {
    "slideshow": {
     "slide_type": "slide"
    }
   },
   "source": [
    "<div class=\"alert alert-success\" markdown=\"1\">\n",
    "    <h3>Exercise</h3>\n",
    "    \n",
    "We are now missing birth months for the first 10 people we surveyed. What is the missingness mechanism for birth months if:\n",
    "\n",
    "1. Cards were sorted by favorite color?\n",
    "2. Cards were sorted by birth month?\n",
    "3. Cards were shuffled?\n",
    "\n",
    "Remember:\n",
    "\n",
    "- **Not missing at random (NMAR)**: The chance that a value is missing **depends on the actual missing value**!\n",
    "- **Missing at random (MAR)**: The chance that a value is missing **depends on other columns**, but **not** the actual missing value itself.\n",
    "- **Missing completely at random (MCAR)**: The chance that a value is missing is **completely independent** of other columns and the actual missing value.\n",
    "\n",
    "</div>"
   ]
  },
  {
   "cell_type": "markdown",
   "id": "99a68630",
   "metadata": {
    "slideshow": {
     "slide_type": "slide"
    }
   },
   "source": [
    "### Exercised, solved"
   ]
  },
  {
   "cell_type": "markdown",
   "id": "58cb9f8d",
   "metadata": {
    "slideshow": {
     "slide_type": "fragment"
    }
   },
   "source": [
    "- If cards were sorted by favorite color, then:\n",
    "    - The fact that a card is missing a month is **related to the favorite color**.\n",
    "    - Since the missingness depends on another column, we say values are **missing at random (MAR)**.\n",
    "        - The missingness doesn't depend on the actual missing values – if we fix a particular color, early months are no more likely to be missing than later months."
   ]
  },
  {
   "cell_type": "markdown",
   "id": "87e3f8c1",
   "metadata": {
    "slideshow": {
     "slide_type": "fragment"
    }
   },
   "source": [
    "- If cards were sorted by birth month, then:\n",
    "    - The fact that a card is missing a month is **related to the missing month**.\n",
    "    - Since the missingness depends on the actual missing values – early months are more likely to be missing than later months – we say values are **not missing at random (NMAR)**."
   ]
  },
  {
   "cell_type": "markdown",
   "id": "3f715e45",
   "metadata": {
    "slideshow": {
     "slide_type": "fragment"
    }
   },
   "source": [
    "- If cards were shuffled, then:\n",
    "    - The fact that a card is missing a month is **related to nothing**.\n",
    "    - Since the missingness depends on nothing, we say values are **missing completely at random (MCAR)**."
   ]
  },
  {
   "cell_type": "markdown",
   "id": "67e362ef",
   "metadata": {
    "slideshow": {
     "slide_type": "slide"
    }
   },
   "source": [
    "### The real world is messy! 🌎\n",
    "\n",
    "- In our contrived example, the distinction between NMAR, MAR, and MCAR was relatively clear.\n",
    "- However, in more practical examples, it can be hard to distinguish between types of missingness.\n",
    "- Domain knowledge is often needed to understand **why** values might be missing."
   ]
  },
  {
   "cell_type": "markdown",
   "id": "3b605861",
   "metadata": {
    "slideshow": {
     "slide_type": "slide"
    }
   },
   "source": [
    "### Not missing at random (NMAR)"
   ]
  },
  {
   "cell_type": "markdown",
   "id": "96ea73a7",
   "metadata": {
    "slideshow": {
     "slide_type": "fragment"
    }
   },
   "source": [
    "- Data is NMAR if the chance that a value is missing **depends on the actual missing value**!\n",
    "    - It could _also_ depend on other columns."
   ]
  },
  {
   "cell_type": "markdown",
   "id": "4e1e34e1",
   "metadata": {
    "slideshow": {
     "slide_type": "fragment"
    }
   },
   "source": [
    "- Another term for NMAR is \"non-ignorable\" – the fact that data is missing is data in and of itself that we cannot ignore."
   ]
  },
  {
   "cell_type": "markdown",
   "id": "fcfc08d4",
   "metadata": {
    "slideshow": {
     "slide_type": "fragment"
    }
   },
   "source": [
    "- **Example**: A person doesn't take a drug test because they took drugs the day before."
   ]
  },
  {
   "cell_type": "markdown",
   "id": "6d3719f1",
   "metadata": {
    "slideshow": {
     "slide_type": "fragment"
    }
   },
   "source": [
    "- **Example**: On an employment survey, people with really high incomes may be less likely to report their income.\n",
    "    - If we **ignore** missingness and compute the mean salary, our result will be **biased** low!"
   ]
  },
  {
   "cell_type": "markdown",
   "id": "27012755",
   "metadata": {
    "slideshow": {
     "slide_type": "fragment"
    }
   },
   "source": [
    "- When data is NMAR, we must reason about why the data is missing using domain expertise on the data generating process – the other columns in our data won't help. "
   ]
  },
  {
   "cell_type": "markdown",
   "id": "b9d43d7e",
   "metadata": {
    "slideshow": {
     "slide_type": "slide"
    }
   },
   "source": [
    "### Missing completely at random (MCAR)"
   ]
  },
  {
   "cell_type": "markdown",
   "id": "2b69e368",
   "metadata": {
    "slideshow": {
     "slide_type": "fragment"
    }
   },
   "source": [
    "- Data is MCAR if the chance that a value is missing is **completely independent** of other columns and the actual missing value."
   ]
  },
  {
   "cell_type": "markdown",
   "id": "76970f04",
   "metadata": {
    "slideshow": {
     "slide_type": "fragment"
    }
   },
   "source": [
    "- **Example**: After the Midterm Exam, I accidentally spill boba on the top of the stack. Assuming that the exams are in a random order, the exam scores that are lost due to this still will be MCAR. (Hopefully this doesn't happen!)\n",
    "\n",
    "<center><img src=\"imgs/tea.jpg\" width=\"20%\"></center>"
   ]
  },
  {
   "cell_type": "markdown",
   "id": "c1746432",
   "metadata": {
    "slideshow": {
     "slide_type": "slide"
    }
   },
   "source": [
    "### Missing at random (MAR)"
   ]
  },
  {
   "cell_type": "markdown",
   "id": "9d146b33",
   "metadata": {
    "slideshow": {
     "slide_type": "fragment"
    }
   },
   "source": [
    "- Data is MAR if the chance that a value is missing **depends on other columns**, but **not** the actual missing value itself."
   ]
  },
  {
   "cell_type": "markdown",
   "id": "cefce9e6",
   "metadata": {
    "slideshow": {
     "slide_type": "fragment"
    }
   },
   "source": [
    "- **Example**: People who work in the service industry may be less likely to report their income.\n",
    "    - If you look at service industry workers only, there is no pattern to the missingness of income (MCAR).\n",
    "    - If you look at corporate workers only, there is no pattern to the missingness of income (MCAR).\n",
    "    - Within each industry, missingness is MCAR, but overall, it is MAR, since the **missingness of income depends on industry**."
   ]
  },
  {
   "cell_type": "markdown",
   "id": "dd3650df",
   "metadata": {
    "slideshow": {
     "slide_type": "fragment"
    }
   },
   "source": [
    "\n",
    "* **Example**: An elementary school teacher keeps track of the health conditions of each student in their class. One day, a student doesn't show up for a test because they are at the hospital.\n",
    "    - The fact that their test score is missing has nothing to do with the test score itself.\n",
    "    - But the teacher could have predicted that the score would have been missing given the other information they had about the student."
   ]
  },
  {
   "cell_type": "markdown",
   "id": "f2f65f11",
   "metadata": {
    "slideshow": {
     "slide_type": "slide"
    }
   },
   "source": [
    "### Isn't everything NMAR? 🤔"
   ]
  },
  {
   "cell_type": "markdown",
   "id": "9b4db5bf",
   "metadata": {
    "slideshow": {
     "slide_type": "fragment"
    }
   },
   "source": [
    "- You can argue that many of these examples are NMAR, by arguing that the missingness depends on the value of the data that is missing.\n",
    "    - For example, if a student is hospitalized, they may have lots of health problems and may not have spent much time on school, leading to their test scores being worse."
   ]
  },
  {
   "cell_type": "markdown",
   "id": "6cdf82a9",
   "metadata": {
    "slideshow": {
     "slide_type": "fragment"
    }
   },
   "source": [
    "- Fair point, but with that logic _almost everything is NMAR_. What we really care about is **the main reason data is missing**."
   ]
  },
  {
   "cell_type": "markdown",
   "id": "cf780b14",
   "metadata": {
    "slideshow": {
     "slide_type": "fragment"
    }
   },
   "source": [
    "- If the other columns **mostly** explain the missing value and missingness, treat it as MAR."
   ]
  },
  {
   "cell_type": "markdown",
   "id": "d1881710",
   "metadata": {
    "slideshow": {
     "slide_type": "fragment"
    }
   },
   "source": [
    "- **In other words, accounting for potential confounding variables makes NMAR data more like MAR.**\n",
    "    - This is a big part of experimental design."
   ]
  },
  {
   "cell_type": "markdown",
   "id": "7d636748",
   "metadata": {
    "slideshow": {
     "slide_type": "slide"
    }
   },
   "source": [
    "### Flowchart\n",
    "\n",
    "A good strategy is to assess missingness in the following order."
   ]
  },
  {
   "cell_type": "markdown",
   "id": "3ca60316",
   "metadata": {
    "slideshow": {
     "slide_type": "fragment"
    }
   },
   "source": [
    "<center><b>Missing by design (MD)</b></center>\n",
    "<center><i>Can I determine the missing value exactly by looking at the other columns?</i> 🤔</center>\n",
    "<center> ⬇️ </center>"
   ]
  },
  {
   "cell_type": "markdown",
   "id": "60d1b2bf",
   "metadata": {
    "slideshow": {
     "slide_type": "fragment"
    }
   },
   "source": [
    "<center><b>Not missing at random (NMAR)</b></center>\n",
    "<center><i>Is there a good reason why the missingness depends on the values themselves?</i> 🤔</center>\n",
    "<center> ⬇️ </center>"
   ]
  },
  {
   "cell_type": "markdown",
   "id": "dd1007fb",
   "metadata": {
    "slideshow": {
     "slide_type": "fragment"
    }
   },
   "source": [
    "<center><b>Missing at random (MAR)</b></center>\n",
    "<center><i>Do other columns tell me anything about the likelihood that a value is missing? </i>🤔</center>\n",
    "<center> ⬇️ </center>"
   ]
  },
  {
   "cell_type": "markdown",
   "id": "4abae3ea",
   "metadata": {
    "slideshow": {
     "slide_type": "fragment"
    }
   },
   "source": [
    "<center><b>Missing completely at random (MCAR)</b></center>\n",
    "<center><i>The missingness must not depend on other columns or the values themselves. </i>😄</center>"
   ]
  },
  {
   "cell_type": "markdown",
   "id": "81c83846",
   "metadata": {
    "slideshow": {
     "slide_type": "slide"
    }
   },
   "source": [
    "<div class=\"alert alert-success\" markdown=\"1\">\n",
    "    <h3>Exercise</h3>\n",
    "\n",
    "In each of the following examples, decide whether the missing data are likely to be MD, NMAR, MAR, or MCAR:\n",
    "\n",
    "* A table for a medical study has columns for `'gender'` and `'age'`. **`'age'` has missing values**.\n",
    "* Measurements from the Hubble Space Telescope are **dropped during transmission**.\n",
    "* A table has a single column, `'self-reported education level'`, **which contains missing values**.\n",
    "* A table of grades contains three columns, `'Version 1'`, `'Version 2'`, and `'Version 3'`. **$\\frac{2}{3}$ of the entries in the table are `NaN`.**\n",
    "\n",
    "</div>"
   ]
  },
  {
   "cell_type": "markdown",
   "id": "878293f6",
   "metadata": {
    "slideshow": {
     "slide_type": "slide"
    }
   },
   "source": [
    "### Why do we care again?\n",
    "\n",
    "- If a dataset contains missing values, it is likely not an accurate picture of the data generating process.\n",
    "- By identifying missingness mechanisms, we can best **fill in** missing values, to gain a better understanding of the DGP."
   ]
  },
  {
   "cell_type": "markdown",
   "id": "d448af69",
   "metadata": {
    "slideshow": {
     "slide_type": "slide"
    }
   },
   "source": [
    "<div class=\"alert alert-warning\">\n",
    "    <h3>Chalk Talk🤔 </h3>\n",
    "</div>\n"
   ]
  },
  {
   "cell_type": "markdown",
   "id": "1fd64c14",
   "metadata": {
    "slideshow": {
     "slide_type": "slide"
    }
   },
   "source": [
    "## Formal definitions\n",
    "\n",
    "We won't spend much time on these in lecture, but you may find them helpful."
   ]
  },
  {
   "cell_type": "markdown",
   "id": "b6809620",
   "metadata": {
    "slideshow": {
     "slide_type": "slide"
    }
   },
   "source": [
    "### Formal definition: MCAR\n",
    "\n",
    "Suppose we have:\n",
    "- A dataset $Y$ with observed values $Y_{obs}$ and missing values $Y_{mis}$.\n",
    "- A parameter $\\psi$ that represents all relevant information that is not part of the dataset.\n",
    "\n",
    "Data is **missing completely at random** (MCAR) if \n",
    "\n",
    "$$\\text{P}(\\text{data is present} \\: | \\: Y_{obs}, Y_{mis}, \\psi) = \\text{P}(\\text{data is present} \\: | \\: \\psi)$$\n",
    "\n",
    "That is, adding information about the dataset doesn't change the likelihood data is missing!"
   ]
  },
  {
   "cell_type": "markdown",
   "id": "01cf2151",
   "metadata": {
    "slideshow": {
     "slide_type": "slide"
    }
   },
   "source": [
    "### Formal definition: MAR\n",
    "\n",
    "Suppose we have:\n",
    "- A dataset $Y$ with observed values $Y_{obs}$ and missing values $Y_{mis}$.\n",
    "- A parameter $\\psi$ that represents all relevant information that is not part of the dataset.\n",
    "\n",
    "Data is **missing at random** (MCAR) if \n",
    "\n",
    "$$\\text{P}(\\text{data is present} \\: | \\: Y_{obs}, Y_{mis}, \\psi) = \\text{P}(\\text{data is present} \\: | \\: Y_{obs},  \\psi)$$\n",
    "\n",
    "That is, MAR data is **actually MCAR**, **conditional** on $Y_{obs}$."
   ]
  },
  {
   "cell_type": "markdown",
   "id": "d1f2646f",
   "metadata": {
    "slideshow": {
     "slide_type": "slide"
    }
   },
   "source": [
    "### Formal definition: NMAR\n",
    "\n",
    "Suppose we have:\n",
    "- A dataset $Y$ with observed values $Y_{obs}$ and missing values $Y_{mis}$.\n",
    "- A parameter $\\psi$ that represents all relevant information that is not part of the dataset.\n",
    "\n",
    "\n",
    "Data is **not missing at random** (NMAR) if  \n",
    "\n",
    "$$\\text{P}(\\text{data is present} \\: | \\: Y_{obs}, Y_{mis}, \\psi)$$\n",
    "\n",
    "cannot be simplified. That is, in NMAR data, **missingness is dependent on the missing value** itself."
   ]
  },
  {
   "cell_type": "markdown",
   "id": "01815d59",
   "metadata": {
    "slideshow": {
     "slide_type": "slide"
    }
   },
   "source": [
    "## Identifying missingness mechanisms in data"
   ]
  },
  {
   "cell_type": "markdown",
   "id": "a6c90aaf",
   "metadata": {
    "slideshow": {
     "slide_type": "slide"
    }
   },
   "source": [
    "### Identifying missingness mechanisms in data\n",
    "\n",
    "- Suppose I believe that the missingness mechanism of a column is NMAR, MAR, or MCAR.\n",
    "    - I've ruled out missing by design (a good first step).\n",
    "- Can I check whether this is true, by looking at the data?"
   ]
  },
  {
   "cell_type": "markdown",
   "id": "af03bc07",
   "metadata": {
    "slideshow": {
     "slide_type": "slide"
    }
   },
   "source": [
    "### Assessing NMAR"
   ]
  },
  {
   "cell_type": "markdown",
   "id": "40e55d48",
   "metadata": {
    "slideshow": {
     "slide_type": "fragment"
    }
   },
   "source": [
    "- We can't determine if data is NMAR just by looking at the data, as whether or not data is NMAR depends on the **unobserved data**."
   ]
  },
  {
   "cell_type": "markdown",
   "id": "c5f0f670",
   "metadata": {
    "slideshow": {
     "slide_type": "fragment"
    }
   },
   "source": [
    "- To establish if data is NMAR, we must:\n",
    "    - **reason about the data generating process**, or\n",
    "    - collect more data."
   ]
  },
  {
   "cell_type": "markdown",
   "id": "534f07b9",
   "metadata": {
    "slideshow": {
     "slide_type": "fragment"
    }
   },
   "source": [
    "- **Example**: Consider a dataset of survey data of students' self-reported happiness. The data contains PIDs and happiness scores; nothing else. Some happiness scores are missing. **Are happiness scores likely NMAR?**"
   ]
  },
  {
   "cell_type": "markdown",
   "id": "2dd2560c",
   "metadata": {
    "slideshow": {
     "slide_type": "slide"
    }
   },
   "source": [
    "### Assessing MAR"
   ]
  },
  {
   "cell_type": "markdown",
   "id": "59ba918c",
   "metadata": {
    "slideshow": {
     "slide_type": "fragment"
    }
   },
   "source": [
    "- Data are MAR if the missingness only depends on **observed** data."
   ]
  },
  {
   "cell_type": "markdown",
   "id": "dc55bad2",
   "metadata": {
    "slideshow": {
     "slide_type": "fragment"
    }
   },
   "source": [
    "- After reasoning about the data generating process, if you establish that data is not NMAR, then it must be either MAR or MCAR."
   ]
  },
  {
   "cell_type": "markdown",
   "id": "2df323be",
   "metadata": {
    "slideshow": {
     "slide_type": "fragment"
    }
   },
   "source": [
    "- The more columns we have in our dataset, the \"weaker the NMAR effect\" is.\n",
    "    - Adding more columns -> controlling for more variables -> moving from NMAR to MAR.\n",
    "    - **Example**: With no other columns, income in a census is NMAR. But once we look at location, education, and occupation, incomes are closer to being MAR."
   ]
  },
  {
   "cell_type": "markdown",
   "id": "5cd364b3",
   "metadata": {
    "slideshow": {
     "slide_type": "slide"
    }
   },
   "source": [
    "### Deciding between MCAR and MAR"
   ]
  },
  {
   "cell_type": "markdown",
   "id": "b820560e",
   "metadata": {
    "slideshow": {
     "slide_type": "fragment"
    }
   },
   "source": [
    "- For data to be MCAR, the chance that values are missing should not depend on any other column or the values themselves."
   ]
  },
  {
   "cell_type": "markdown",
   "id": "80c1be20",
   "metadata": {
    "slideshow": {
     "slide_type": "fragment"
    }
   },
   "source": [
    "- **Example**: Consider a dataset of phones, in which we store the screen size and price of each phone. **Some prices are missing.**\n",
    "\n",
    "| Phone | Screen Size | Price |\n",
    "| --- | --- | --- |\n",
    "| iPhone 15 | 6.06 | 999 |\n",
    "| Galaxy Z Fold5 | 7.6 | NaN |\n",
    "| OnePlus 12R | 6.7 | 499 |\n",
    "| iPhone 14 Pro Max | 6.68 | NaN |"
   ]
  },
  {
   "cell_type": "markdown",
   "id": "d421f691",
   "metadata": {
    "slideshow": {
     "slide_type": "fragment"
    }
   },
   "source": [
    "- If prices are MCAR, then **the distribution of screen size should be the same** for:\n",
    "    - phones whose prices are missing, and \n",
    "    - phones whose prices aren't missing."
   ]
  },
  {
   "cell_type": "markdown",
   "id": "7edf6be8",
   "metadata": {
    "slideshow": {
     "slide_type": "fragment"
    }
   },
   "source": [
    "- **We can use a permutation test to decide between MAR and MCAR!** We are asking the question, did these two samples come from the same underlying distribution?"
   ]
  },
  {
   "cell_type": "markdown",
   "id": "6fb93a09",
   "metadata": {
    "slideshow": {
     "slide_type": "slide"
    }
   },
   "source": [
    "### Deciding between MCAR and MAR"
   ]
  },
  {
   "cell_type": "markdown",
   "id": "a0d043c5",
   "metadata": {
    "slideshow": {
     "slide_type": "fragment"
    }
   },
   "source": [
    "Suppose you have a DataFrame with columns named $\\text{col}_1$, $\\text{col}_2$, ..., $\\text{col}_k$, and want to test whether values in $\\text{col}_X$ are MCAR. To test whether $\\text{col}_X$'s missingness is independent of all other columns in the DataFrame:\n",
    "\n",
    "For $i = 1, 2, ..., k$, where $i \\neq X$:"
   ]
  },
  {
   "cell_type": "markdown",
   "id": "e27ea746",
   "metadata": {
    "slideshow": {
     "slide_type": "fragment"
    }
   },
   "source": [
    "- Look at the distribution of $\\text{col}_i$ when $\\text{col}_X$ is missing."
   ]
  },
  {
   "cell_type": "markdown",
   "id": "06e52266",
   "metadata": {
    "slideshow": {
     "slide_type": "fragment"
    }
   },
   "source": [
    "- Look at the distribution of $\\text{col}_i$ when $\\text{col}_X$ is not missing."
   ]
  },
  {
   "cell_type": "markdown",
   "id": "c014f9fd",
   "metadata": {
    "slideshow": {
     "slide_type": "fragment"
    }
   },
   "source": [
    "- Check if these two distributions are the same. (What do we mean by \"the same\"?)"
   ]
  },
  {
   "cell_type": "markdown",
   "id": "c71584d2",
   "metadata": {
    "slideshow": {
     "slide_type": "fragment"
    }
   },
   "source": [
    "- If so, then $\\text{col}_X$'s missingness doesn't depend on $\\text{col}_i$."
   ]
  },
  {
   "cell_type": "markdown",
   "id": "68bc1dc6",
   "metadata": {
    "slideshow": {
     "slide_type": "fragment"
    }
   },
   "source": [
    "- If not, then $\\text{col}_X$ is MAR dependent on $\\text{col}_i$."
   ]
  },
  {
   "cell_type": "markdown",
   "id": "6a41c2a7",
   "metadata": {
    "slideshow": {
     "slide_type": "fragment"
    }
   },
   "source": [
    "If all pairs of distributions were the same, then $\\text{col}_X$ is MCAR."
   ]
  },
  {
   "cell_type": "markdown",
   "id": "8d20bd5c",
   "metadata": {
    "slideshow": {
     "slide_type": "slide"
    }
   },
   "source": [
    "### Example: Heights\n",
    "\n",
    "- Let's load in Galton's dataset containing the heights of adult children and their parents (which you may have seen in DSC 10).\n",
    "- The dataset does not contain any missing values – we will **artifically introduce missing values** such that the values are MCAR, for illustration."
   ]
  },
  {
   "cell_type": "code",
   "execution_count": 2,
   "id": "b02a2bd7",
   "metadata": {},
   "outputs": [
    {
     "data": {
      "text/html": [
       "<div>\n",
       "<style scoped>\n",
       "    .dataframe tbody tr th:only-of-type {\n",
       "        vertical-align: middle;\n",
       "    }\n",
       "\n",
       "    .dataframe tbody tr th {\n",
       "        vertical-align: top;\n",
       "    }\n",
       "\n",
       "    .dataframe thead th {\n",
       "        text-align: right;\n",
       "    }\n",
       "</style>\n",
       "<table border=\"1\" class=\"dataframe\">\n",
       "  <thead>\n",
       "    <tr style=\"text-align: right;\">\n",
       "      <th></th>\n",
       "      <th>father</th>\n",
       "      <th>mother</th>\n",
       "      <th>gender</th>\n",
       "      <th>child</th>\n",
       "    </tr>\n",
       "  </thead>\n",
       "  <tbody>\n",
       "    <tr>\n",
       "      <th>0</th>\n",
       "      <td>78.5</td>\n",
       "      <td>67.0</td>\n",
       "      <td>male</td>\n",
       "      <td>73.2</td>\n",
       "    </tr>\n",
       "    <tr>\n",
       "      <th>1</th>\n",
       "      <td>78.5</td>\n",
       "      <td>67.0</td>\n",
       "      <td>female</td>\n",
       "      <td>69.2</td>\n",
       "    </tr>\n",
       "    <tr>\n",
       "      <th>2</th>\n",
       "      <td>78.5</td>\n",
       "      <td>67.0</td>\n",
       "      <td>female</td>\n",
       "      <td>69.0</td>\n",
       "    </tr>\n",
       "    <tr>\n",
       "      <th>3</th>\n",
       "      <td>78.5</td>\n",
       "      <td>67.0</td>\n",
       "      <td>female</td>\n",
       "      <td>69.0</td>\n",
       "    </tr>\n",
       "    <tr>\n",
       "      <th>4</th>\n",
       "      <td>75.5</td>\n",
       "      <td>66.5</td>\n",
       "      <td>male</td>\n",
       "      <td>73.5</td>\n",
       "    </tr>\n",
       "  </tbody>\n",
       "</table>\n",
       "</div>"
      ],
      "text/plain": [
       "   father  mother  gender  child\n",
       "0    78.5    67.0    male   73.2\n",
       "1    78.5    67.0  female   69.2\n",
       "2    78.5    67.0  female   69.0\n",
       "3    78.5    67.0  female   69.0\n",
       "4    75.5    66.5    male   73.5"
      ]
     },
     "execution_count": 2,
     "metadata": {},
     "output_type": "execute_result"
    }
   ],
   "source": [
    "heights_path = Path('data') / 'midparent.csv'\n",
    "heights = pd.read_csv(heights_path).rename(columns={'childHeight': 'child'})[['father', 'mother', 'gender', 'child']]\n",
    "heights.head()"
   ]
  },
  {
   "cell_type": "markdown",
   "id": "e73d3802",
   "metadata": {},
   "source": [
    "Proof that there aren't currently any missing values in `heights`:"
   ]
  },
  {
   "cell_type": "code",
   "execution_count": 3,
   "id": "ffb94046",
   "metadata": {},
   "outputs": [
    {
     "data": {
      "text/plain": [
       "father    0\n",
       "mother    0\n",
       "gender    0\n",
       "child     0\n",
       "dtype: int64"
      ]
     },
     "execution_count": 3,
     "metadata": {},
     "output_type": "execute_result"
    }
   ],
   "source": [
    "heights.isna().sum()"
   ]
  },
  {
   "cell_type": "markdown",
   "id": "16f470d2",
   "metadata": {
    "slideshow": {
     "slide_type": "slide"
    }
   },
   "source": [
    "We have three numerical columns – `'father'`, `'mother'`, and `'child'`. Let's visualize them simultaneously."
   ]
  },
  {
   "cell_type": "code",
   "execution_count": 4,
   "id": "a4e6fb2b-c357-4d35-bdbf-38064d3ce54a",
   "metadata": {},
   "outputs": [],
   "source": [
    "# Needed to add renderer\n",
    "import plotly.io as pio\n",
    "\n",
    "# Notebook 7 (new Jupyter) – best bet:\n",
    "pio.renderers.default = \"plotly_mimetype\"\n"
   ]
  },
  {
   "cell_type": "code",
   "execution_count": 5,
   "id": "7fba7ff3",
   "metadata": {},
   "outputs": [
    {
     "data": {
      "application/vnd.plotly.v1+json": {
       "config": {
        "plotlyServerURL": "https://plot.ly"
       },
       "data": [
        {
         "dimensions": [
          {
           "axis": {
            "matches": true
           },
           "label": "father",
           "values": [
            78.5,
            78.5,
            78.5,
            78.5,
            75.5,
            75.5,
            75.5,
            75.5,
            75,
            75,
            75,
            75,
            75,
            75,
            75,
            75,
            75,
            75,
            75,
            75,
            75,
            74,
            74,
            74,
            74,
            74,
            74,
            74,
            74,
            74,
            74,
            74.5,
            74,
            74,
            74,
            74,
            74,
            74,
            74,
            74,
            74,
            74,
            73,
            73,
            73,
            73,
            73,
            73,
            73,
            73,
            73,
            73,
            73,
            73,
            73,
            73,
            73,
            73,
            73,
            73,
            73,
            73,
            73,
            73,
            73,
            73,
            73,
            73.2,
            72.7,
            72.7,
            72.7,
            72.7,
            72.7,
            72.7,
            72.7,
            72.7,
            72,
            72,
            72,
            72,
            72,
            72,
            72,
            72,
            72,
            72,
            72,
            72,
            72,
            72,
            72,
            72,
            72,
            72,
            72,
            72,
            72,
            72,
            72,
            72,
            72,
            72,
            72,
            72,
            72,
            72,
            72.5,
            72.5,
            72.5,
            72,
            72.5,
            72.5,
            72.5,
            72.5,
            72.5,
            72.5,
            72,
            72,
            72,
            72,
            72,
            72,
            72,
            72,
            72,
            72,
            72,
            71,
            71,
            71,
            71,
            71,
            71,
            71,
            71,
            71,
            71,
            71,
            71,
            71,
            71,
            71,
            71,
            71,
            71,
            71,
            71,
            71,
            71,
            71,
            71,
            71,
            71,
            71.7,
            71,
            71,
            71,
            71,
            71,
            71,
            71.5,
            71.5,
            71.5,
            71.5,
            71,
            71,
            71,
            71,
            71,
            71,
            71,
            71,
            71,
            71,
            71,
            71.7,
            71.7,
            71.7,
            71.7,
            71,
            71,
            71,
            71.5,
            71.5,
            71.5,
            71.5,
            71.5,
            71.5,
            71.5,
            71,
            71,
            71.2,
            71.2,
            71,
            71,
            71,
            71,
            71,
            71,
            71,
            71,
            71,
            71,
            71,
            71,
            71,
            71,
            71,
            71,
            71,
            71,
            71,
            71,
            71,
            71,
            71,
            71,
            71,
            71,
            71,
            71,
            71,
            71,
            71,
            71,
            71,
            71,
            71,
            71,
            71,
            71,
            71,
            71,
            71,
            71,
            71,
            70,
            70,
            70,
            70,
            70,
            70,
            70,
            70,
            70,
            70,
            70,
            70,
            70,
            70,
            70,
            70,
            70,
            70,
            70,
            70,
            70,
            70,
            70,
            70,
            70,
            70,
            70,
            70,
            70.5,
            70.5,
            70.5,
            70.5,
            70.5,
            70.5,
            70.5,
            70.5,
            70.5,
            70,
            70,
            70,
            70,
            70,
            70,
            70,
            70,
            70,
            70,
            70,
            70,
            70,
            70,
            70,
            70,
            70,
            70,
            70,
            70,
            70,
            70,
            70,
            70,
            70,
            70,
            70,
            70,
            70,
            70,
            70,
            70,
            70,
            70,
            70,
            70,
            70,
            70,
            70,
            70,
            70,
            70,
            70,
            70,
            70,
            70,
            70,
            70,
            70,
            70,
            70,
            70,
            70,
            70,
            70.5,
            70.5,
            70.5,
            70.5,
            70.5,
            70.5,
            70.5,
            70.5,
            70.5,
            70,
            70,
            70,
            70,
            70,
            70,
            70,
            70,
            70,
            70,
            70,
            70,
            70,
            70,
            70,
            70,
            70,
            70,
            70,
            70,
            70,
            70.5,
            70.5,
            70.5,
            70.5,
            70.5,
            70.5,
            70.5,
            70.5,
            70.5,
            70,
            70,
            70,
            70,
            70,
            70,
            70,
            70,
            70,
            70,
            70,
            70,
            70.5,
            70.5,
            70.5,
            70.5,
            70.5,
            70.5,
            70.5,
            70.5,
            70.3,
            70.3,
            70.3,
            70.3,
            70.3,
            70.3,
            70.3,
            70.5,
            70.5,
            70.5,
            70,
            70,
            70,
            70,
            70,
            70,
            70,
            70,
            70,
            70,
            70,
            70,
            70,
            70,
            70,
            70,
            69,
            69,
            69,
            69,
            69,
            69,
            69,
            69,
            69,
            69,
            69,
            69,
            69,
            69,
            69,
            69,
            69,
            69,
            69,
            69,
            69,
            69,
            69,
            69,
            69,
            69,
            69,
            69,
            69,
            69,
            69,
            69,
            69,
            69,
            69,
            69,
            69,
            69,
            69,
            69.5,
            69.5,
            69.5,
            69.5,
            69,
            69,
            69,
            69,
            69,
            69,
            69.5,
            69.5,
            69.5,
            69.5,
            69.5,
            69.5,
            69.5,
            69,
            69,
            69,
            69,
            69,
            69,
            69,
            69,
            69,
            69,
            69,
            69,
            69,
            69,
            69,
            69,
            69.5,
            69.5,
            69.5,
            69.5,
            69.5,
            69.5,
            69.5,
            69.2,
            69.2,
            69.2,
            69.2,
            69,
            69,
            69,
            69,
            69,
            69,
            69,
            69,
            69,
            69,
            69,
            69,
            69,
            69,
            69,
            69,
            69,
            69,
            69,
            69,
            69,
            69.7,
            69.5,
            69.5,
            69.5,
            69,
            69,
            69,
            69,
            69,
            69.5,
            69.5,
            69.5,
            69.5,
            69.5,
            69.5,
            69.5,
            69.5,
            69.5,
            69.5,
            69.5,
            69,
            69,
            69,
            69,
            69,
            69,
            69,
            69,
            69,
            69,
            69,
            69,
            69.5,
            69.5,
            69.5,
            69.5,
            69.5,
            69,
            69,
            69,
            69,
            69,
            69,
            69,
            69,
            69,
            69,
            69,
            69,
            69,
            69,
            69,
            69,
            69,
            68.7,
            68.7,
            68.5,
            68.5,
            68.5,
            68.5,
            68.5,
            68.5,
            68.5,
            68.5,
            68.5,
            68.5,
            68.5,
            68.5,
            68.5,
            68.5,
            68,
            68,
            68,
            68,
            68,
            68,
            68,
            68,
            68,
            68,
            68,
            68,
            68,
            68,
            68,
            68.5,
            68.5,
            68.5,
            68.5,
            68.5,
            68.5,
            68.5,
            68.5,
            68.5,
            68.5,
            68.5,
            68.5,
            68.5,
            68.5,
            68.5,
            68.5,
            68,
            68,
            68,
            68,
            68,
            68,
            68,
            68,
            68,
            68,
            68,
            68,
            68,
            68,
            68,
            68,
            68,
            68,
            68,
            68,
            68,
            68,
            68,
            68,
            68,
            68,
            68,
            68,
            68,
            68,
            68,
            68,
            68,
            68,
            68,
            68,
            68,
            68,
            68.5,
            68.5,
            68.5,
            68.5,
            68,
            68,
            68,
            68,
            68,
            68,
            68,
            68,
            68,
            68,
            68,
            68,
            68,
            68,
            68,
            68,
            68,
            68,
            68,
            68.5,
            68,
            68.2,
            68.2,
            68.2,
            68.2,
            68.2,
            68,
            68.7,
            68.7,
            68,
            68,
            68,
            68,
            68,
            68,
            68,
            68,
            68,
            68,
            68,
            68,
            68,
            68,
            68,
            68,
            68,
            68,
            68.5,
            68,
            68,
            68,
            68,
            68,
            68,
            68,
            68,
            68,
            68,
            67,
            67,
            67,
            67,
            67,
            67,
            67,
            67,
            67,
            67,
            67,
            67,
            67,
            67,
            67,
            67,
            67,
            67,
            67,
            67,
            67,
            67,
            67,
            67,
            67,
            67,
            67,
            67,
            67,
            67,
            67,
            67,
            67.5,
            67.5,
            67.5,
            67.5,
            67.5,
            67.5,
            67.5,
            67.5,
            67.5,
            67.5,
            67.5,
            67,
            67,
            67,
            67,
            67,
            67,
            67,
            67,
            67,
            67,
            67,
            67,
            67,
            67,
            67,
            67.5,
            67.5,
            67.5,
            67.5,
            67.5,
            67,
            66,
            66,
            66,
            66,
            66,
            66,
            66,
            66,
            66,
            66,
            66,
            66,
            66,
            66,
            66,
            66,
            66,
            66,
            66,
            66,
            66,
            66,
            66,
            66,
            66,
            66,
            66,
            66,
            66.5,
            66.5,
            66.5,
            66.5,
            66.5,
            66.5,
            66.5,
            66.5,
            66,
            66,
            66,
            66,
            66,
            66,
            66,
            66,
            66.5,
            66.5,
            66.5,
            66.5,
            66.5,
            66.5,
            66.5,
            66.5,
            66.5,
            66.5,
            66.5,
            66.5,
            66.5,
            66,
            66,
            66,
            66,
            66,
            66,
            66,
            66,
            66,
            66,
            66,
            66,
            66,
            66,
            66,
            66,
            66,
            66,
            66,
            66,
            66,
            65,
            65,
            65,
            65,
            65,
            65,
            65,
            65,
            65,
            65,
            65,
            65,
            65,
            65,
            65,
            65,
            65,
            65,
            65,
            65,
            65,
            65,
            65,
            65,
            65,
            65,
            65,
            65,
            65,
            65,
            65,
            65,
            65,
            65,
            65,
            65,
            65,
            65,
            65,
            65,
            65,
            65,
            65.5,
            65.5,
            65.5,
            65.5,
            65.5,
            65.5,
            65.5,
            65.5,
            65.5,
            64,
            64,
            64,
            64,
            64,
            64,
            64,
            64,
            64,
            64,
            64,
            64,
            64,
            64,
            64,
            64,
            64,
            63,
            63,
            62,
            62,
            62,
            62.5,
            62.5
           ]
          },
          {
           "axis": {
            "matches": true
           },
           "label": "mother",
           "values": [
            67,
            67,
            67,
            67,
            66.5,
            66.5,
            66.5,
            66.5,
            64,
            64,
            64,
            64,
            64,
            64,
            64,
            58.5,
            58.5,
            58.5,
            58.5,
            58.5,
            58.5,
            68,
            68,
            68,
            68,
            68,
            68,
            68,
            66.5,
            66.5,
            66.5,
            66,
            65.5,
            62,
            62,
            62,
            62,
            62,
            62,
            62,
            62,
            61,
            67,
            67,
            67,
            67,
            66.5,
            66.5,
            66.5,
            65,
            65,
            65,
            65,
            65,
            65,
            65,
            65,
            65,
            64.5,
            64.5,
            64.5,
            64.5,
            64.5,
            64.5,
            64,
            64,
            64,
            63,
            69,
            69,
            69,
            69,
            69,
            69,
            69,
            69,
            68,
            68,
            68,
            67,
            67,
            67,
            65,
            65,
            65,
            65,
            65,
            65,
            65,
            65.5,
            64,
            64,
            63,
            63,
            63,
            63,
            63,
            63,
            63,
            63,
            63,
            63,
            63,
            63,
            63,
            63,
            63.5,
            63.5,
            63.5,
            62,
            62,
            62,
            62,
            62,
            62,
            62,
            62,
            62,
            62,
            62,
            62,
            62,
            62,
            62,
            62,
            62,
            61,
            69,
            69,
            69,
            69,
            69,
            67,
            67,
            67,
            67,
            66,
            66,
            66,
            66,
            66,
            66,
            66,
            66,
            66,
            66,
            66,
            66,
            66,
            66,
            66,
            66,
            66,
            65.5,
            65.5,
            65.5,
            65.5,
            65.5,
            65.5,
            65.5,
            65.5,
            65.5,
            65,
            65,
            65,
            65,
            65,
            64,
            64,
            64,
            64,
            64,
            64,
            64,
            64,
            64.5,
            64.5,
            64.5,
            64.5,
            64,
            64,
            64,
            64.5,
            64.5,
            64.5,
            64.5,
            64.5,
            64.5,
            64.5,
            64.5,
            64.5,
            63,
            63,
            63.5,
            63.5,
            63.5,
            63.5,
            63.5,
            63,
            63,
            63,
            63,
            63,
            63,
            63,
            63,
            63,
            63,
            63,
            63,
            63,
            62,
            62,
            62,
            62,
            62,
            62,
            62,
            62,
            62,
            62,
            62.5,
            62.5,
            62.5,
            62.5,
            62.5,
            62,
            62,
            62,
            62,
            62,
            62,
            62,
            61,
            58,
            58,
            69,
            69,
            69,
            69,
            69,
            69,
            69,
            69,
            69,
            69,
            68,
            67,
            67,
            67,
            67,
            67,
            67,
            66.5,
            66.5,
            66.5,
            66.5,
            66.5,
            66.5,
            66.5,
            66.5,
            66.5,
            66.5,
            66.5,
            65,
            65,
            65,
            65,
            65,
            65,
            65,
            65,
            65,
            65,
            65,
            65,
            65,
            65,
            65,
            65,
            65,
            65,
            65,
            65,
            65,
            65,
            65,
            65,
            65,
            65,
            65,
            65,
            65,
            65,
            65,
            65,
            65,
            65,
            65,
            65,
            65,
            65,
            65,
            65,
            64.7,
            64.7,
            64.7,
            64.7,
            64.7,
            64.7,
            64.7,
            64,
            64,
            64,
            64,
            64,
            64,
            64,
            64,
            64,
            64,
            64,
            64.2,
            64.2,
            64.2,
            64.2,
            64.2,
            64,
            64,
            64,
            64,
            64,
            64,
            64,
            64,
            64.5,
            64,
            64,
            64,
            64,
            64,
            64,
            64,
            64,
            64,
            64,
            64,
            64,
            64,
            63.7,
            63.7,
            63.7,
            63.7,
            63.7,
            63.7,
            63.7,
            63.7,
            63,
            63,
            63,
            63,
            63,
            63,
            63,
            63,
            63,
            63.5,
            63.5,
            63.5,
            63.5,
            63,
            63,
            63,
            63,
            63,
            63,
            63,
            63,
            62,
            62,
            62,
            62,
            62,
            62,
            62,
            62,
            62.7,
            62.7,
            62.7,
            62.7,
            62.7,
            62.7,
            62.7,
            62,
            62,
            62,
            61,
            61,
            60,
            60,
            60,
            60,
            60,
            60,
            58.5,
            58.5,
            58.5,
            58,
            58,
            58,
            58,
            58,
            68.5,
            68.5,
            68.5,
            68.5,
            68.5,
            68.5,
            68.5,
            68.5,
            68.5,
            68.5,
            67,
            66,
            66,
            66,
            66,
            66,
            66,
            66,
            66,
            66,
            66,
            66,
            66.7,
            66.7,
            66.7,
            66.7,
            66,
            66,
            66,
            66,
            66,
            66,
            66.5,
            66.5,
            66.5,
            66.5,
            66.5,
            66.5,
            66.5,
            66.5,
            66.5,
            66.5,
            66.5,
            66.5,
            66.5,
            66.5,
            66.5,
            66.5,
            66.5,
            66,
            66,
            66,
            66,
            66,
            66,
            66,
            66,
            66,
            66,
            66,
            66,
            66,
            66,
            66,
            66,
            65,
            65,
            65,
            65,
            65,
            65,
            65,
            64.5,
            64.5,
            64.5,
            64.5,
            64.5,
            64.5,
            64.5,
            64,
            64,
            64,
            64,
            63.5,
            63,
            63,
            63,
            63,
            63,
            63,
            63,
            63,
            63,
            63,
            63.5,
            63.5,
            63.5,
            63.5,
            63.5,
            63.5,
            63.5,
            63.5,
            63.5,
            63.5,
            62,
            62,
            62,
            62,
            62,
            62,
            62,
            62,
            62,
            62,
            62,
            62,
            62,
            62,
            62,
            62,
            62,
            62,
            62,
            62,
            62.5,
            62.5,
            62.5,
            62.5,
            62.5,
            62.5,
            62.5,
            62.5,
            62,
            62,
            62,
            62,
            61,
            61,
            61,
            61,
            61,
            61,
            61,
            61,
            61,
            61,
            61,
            61,
            61,
            61,
            60,
            60,
            60,
            60,
            60,
            60,
            60,
            60.5,
            70.5,
            70.5,
            67,
            67,
            67,
            66.5,
            66.5,
            66.5,
            66.5,
            66.5,
            66.5,
            66.5,
            66.5,
            66.5,
            66.5,
            66.5,
            65,
            65,
            65.5,
            65.5,
            65.5,
            65.5,
            65.5,
            65.5,
            65.5,
            65.5,
            65.5,
            65,
            65,
            65,
            65,
            65,
            65,
            65,
            65,
            65,
            65,
            65,
            65,
            65,
            65,
            65,
            65,
            65,
            65,
            65,
            65,
            64,
            64,
            64,
            64,
            64,
            64,
            64,
            64,
            64,
            64,
            64,
            64,
            64,
            64,
            64,
            64,
            64,
            64,
            64,
            64.5,
            64,
            64,
            64,
            64,
            64,
            64,
            64,
            64,
            64,
            64,
            63,
            63,
            63,
            63,
            63,
            63,
            63,
            63,
            63.5,
            63.5,
            63.5,
            63.5,
            63,
            63,
            63,
            63,
            63,
            63,
            63,
            63,
            63,
            63,
            63,
            63,
            63,
            63,
            63,
            63,
            63,
            63,
            63,
            63.5,
            63,
            63.5,
            63.5,
            63.5,
            63.5,
            63.5,
            62.5,
            62,
            62,
            62.5,
            61,
            61,
            61,
            61,
            61,
            60.2,
            60,
            60,
            60,
            60,
            60,
            60,
            60,
            60,
            60,
            60,
            60,
            59,
            59,
            59,
            59,
            59,
            59,
            59,
            59,
            59,
            59,
            59,
            66.2,
            66.2,
            66.2,
            66.2,
            66.2,
            66.5,
            66,
            66,
            66,
            66,
            66,
            66,
            66,
            66,
            65,
            65,
            65,
            65,
            65,
            65,
            65.5,
            65.5,
            65.5,
            65.5,
            65.5,
            65.5,
            65.5,
            65.5,
            65.5,
            65,
            65,
            65,
            65,
            65,
            65,
            65,
            65,
            65,
            65,
            65,
            65,
            65,
            65,
            64,
            64,
            64,
            64,
            63.5,
            63.5,
            63.5,
            63.5,
            63.5,
            63.5,
            63.5,
            63.5,
            63,
            63,
            63,
            62,
            62,
            62,
            62,
            62,
            61,
            67,
            67,
            67,
            67,
            67,
            67,
            67,
            67,
            67,
            67,
            67,
            67,
            67,
            67,
            67,
            67,
            67,
            66,
            66,
            66,
            66,
            66,
            66,
            66,
            66,
            66,
            66,
            66,
            65,
            65,
            65,
            65,
            65,
            65,
            65,
            65,
            65.5,
            65.5,
            65.5,
            65.5,
            65.5,
            63,
            63.5,
            63.5,
            63,
            63,
            63,
            63,
            63,
            63,
            62.5,
            62.5,
            62.5,
            62.5,
            62.5,
            62.5,
            62.5,
            61.5,
            60,
            60,
            60,
            60,
            60,
            59,
            59,
            59,
            59,
            59,
            59,
            59,
            59,
            59,
            59,
            59,
            59,
            59,
            59,
            59,
            67,
            67,
            67,
            67,
            67,
            66,
            66,
            66,
            66,
            66,
            66,
            66,
            66,
            66,
            65,
            65,
            65,
            65,
            65,
            65,
            65,
            65,
            65,
            65.5,
            65.5,
            65,
            65,
            65,
            65,
            65,
            65,
            64,
            64,
            64,
            64,
            64,
            64,
            63,
            63,
            63,
            63,
            63,
            63,
            63,
            63,
            63,
            60,
            60,
            60,
            60,
            60,
            64,
            64,
            64,
            64,
            64,
            64,
            64,
            64,
            64,
            64,
            64,
            64,
            64,
            64,
            63,
            60,
            60,
            63.5,
            63.5,
            66,
            66,
            66,
            63,
            63
           ]
          },
          {
           "axis": {
            "matches": true
           },
           "label": "child",
           "values": [
            73.2,
            69.2,
            69,
            69,
            73.5,
            72.5,
            65.5,
            65.5,
            71,
            68,
            70.5,
            68.5,
            67,
            64.5,
            63,
            72,
            69,
            68,
            66.5,
            62.5,
            62.5,
            69.5,
            76.5,
            74,
            73,
            73,
            70.5,
            64,
            70.5,
            68,
            66,
            66,
            65.5,
            74,
            70,
            68,
            67,
            67,
            66,
            63.5,
            63,
            65,
            71,
            62,
            68,
            67,
            71,
            70.5,
            66.7,
            72,
            70.5,
            70.2,
            70.2,
            69.2,
            68.7,
            66.5,
            64.5,
            63.5,
            74,
            73,
            71.5,
            62.5,
            66.5,
            62.3,
            66,
            64.5,
            64,
            62.7,
            73.2,
            73,
            72.7,
            70,
            69,
            68.5,
            68,
            66,
            73,
            68.5,
            68,
            73,
            71,
            67,
            74.2,
            70.5,
            69.5,
            66,
            65.5,
            65,
            65,
            65.5,
            66,
            63,
            70.5,
            70.5,
            69,
            65,
            63,
            69,
            67,
            63,
            73,
            67,
            70.5,
            70,
            66.5,
            63,
            67.5,
            67.2,
            66.7,
            64,
            71,
            70,
            70,
            66,
            65,
            65,
            74,
            72,
            69,
            67.5,
            63.5,
            72,
            71.5,
            71.5,
            70,
            68,
            65.7,
            78,
            74,
            73,
            72,
            67,
            73.2,
            73,
            69,
            67,
            70,
            67,
            67,
            66.5,
            70,
            69,
            68.5,
            66,
            64.5,
            63,
            71,
            67,
            76,
            72,
            71,
            66,
            66,
            70.5,
            72,
            72,
            71,
            69,
            66,
            65,
            73,
            65.2,
            68.5,
            67.7,
            68,
            68,
            62,
            68,
            68,
            67.5,
            66.5,
            66.5,
            66,
            65.5,
            65,
            72,
            71,
            70.5,
            67,
            68,
            68,
            68,
            72,
            71,
            70,
            66,
            64.5,
            64.5,
            62,
            73,
            62,
            67.5,
            64.5,
            71,
            67,
            66,
            65,
            63.5,
            71,
            70,
            70,
            64,
            65,
            65,
            64,
            63,
            63,
            71,
            71,
            70,
            63.5,
            71,
            70,
            64.5,
            62.5,
            61.5,
            72,
            70.5,
            70.5,
            64.5,
            60,
            70,
            64,
            64,
            64,
            62.5,
            70.5,
            70,
            69,
            69,
            66,
            64.5,
            64,
            62,
            71.5,
            69,
            71,
            70,
            69,
            69,
            70,
            68.7,
            68,
            66,
            64,
            62,
            75,
            70,
            69,
            66,
            64,
            60,
            67.5,
            73,
            72,
            72,
            66.5,
            69.2,
            67.2,
            66.5,
            66,
            66,
            64.2,
            63.7,
            72,
            70.2,
            69,
            68.5,
            68,
            65,
            61.5,
            61,
            61,
            73,
            72,
            70.5,
            65,
            65,
            64.5,
            63,
            62,
            67,
            65,
            64.5,
            62.5,
            62.5,
            70,
            70,
            67,
            65,
            65,
            63,
            79,
            75,
            71,
            69,
            67,
            65.7,
            62,
            73,
            72.5,
            65,
            69,
            69,
            72,
            70,
            68.7,
            66.5,
            65.5,
            64.7,
            64.5,
            70.7,
            70,
            68,
            67,
            66,
            65,
            67,
            70,
            68,
            66.7,
            65.5,
            72,
            70,
            62.5,
            61.2,
            60.1,
            74,
            69.5,
            69,
            68,
            68,
            68,
            65.5,
            65,
            60,
            68,
            65,
            64,
            62,
            71,
            70,
            70,
            70,
            69.5,
            68.5,
            69,
            65,
            64,
            70,
            67,
            65.5,
            63.7,
            63.2,
            62.5,
            62.2,
            61,
            70,
            68.5,
            65.5,
            63.5,
            72.5,
            69,
            67,
            64.5,
            64,
            71,
            67.5,
            67.5,
            63.5,
            68,
            67,
            63.7,
            62,
            70,
            66.5,
            62,
            61,
            72,
            70,
            69.5,
            69.5,
            68,
            65,
            64,
            63,
            70.7,
            69.7,
            69.2,
            65.2,
            64,
            63.5,
            63.2,
            72,
            72,
            60,
            71.2,
            67,
            67,
            64.5,
            65,
            63,
            65,
            65,
            71.5,
            64.5,
            63,
            72,
            66,
            66,
            65,
            63,
            75,
            71,
            70,
            66,
            66,
            65.5,
            65,
            65,
            64,
            64,
            64,
            73,
            72,
            71.7,
            71.5,
            65.5,
            65,
            62.7,
            62.5,
            71.2,
            71,
            70,
            75,
            74,
            72,
            68.5,
            70,
            68.5,
            68,
            65,
            63,
            62.5,
            73,
            71,
            70.5,
            70.5,
            67,
            66,
            61,
            70.5,
            67.5,
            64.5,
            64,
            71,
            68.5,
            67.5,
            66,
            63,
            63,
            71,
            71,
            70.5,
            70.5,
            66.5,
            65.5,
            64.5,
            73,
            72,
            69,
            69,
            66.5,
            65.5,
            65.5,
            65,
            64,
            70,
            68.5,
            67,
            65,
            64,
            63.5,
            61,
            69.7,
            68,
            60,
            65.2,
            64.5,
            63.7,
            60,
            71.7,
            66.5,
            65,
            63.5,
            65.5,
            69,
            67.5,
            63.5,
            72,
            73,
            70,
            70,
            64,
            66,
            62,
            70.5,
            67,
            66,
            65,
            63,
            62,
            61,
            70.5,
            63.7,
            63,
            62.5,
            73,
            72,
            69,
            73,
            71,
            71,
            69,
            63,
            72,
            70,
            67.8,
            65.2,
            64.7,
            64.5,
            63.5,
            63.5,
            62.5,
            62,
            61.5,
            71,
            70,
            70,
            69,
            63.5,
            62.5,
            62.5,
            62,
            72,
            68,
            66,
            66,
            70,
            69.5,
            69,
            63,
            62,
            68,
            68,
            67.5,
            64,
            63,
            63,
            63.5,
            62,
            62,
            70.5,
            68,
            62.5,
            69,
            66,
            61.7,
            60.5,
            69.5,
            71,
            61.7,
            73,
            71,
            67,
            70,
            69,
            69,
            68.7,
            68.5,
            68.5,
            68,
            68,
            68,
            66.2,
            63.2,
            67.5,
            66,
            66,
            64,
            71.7,
            71.5,
            70.7,
            65.5,
            66.5,
            65.2,
            61.5,
            72,
            72,
            68,
            66,
            69.2,
            68,
            66,
            66,
            62,
            61.5,
            61,
            60,
            72,
            70.5,
            68.7,
            68.5,
            67.7,
            64,
            63.5,
            63,
            71,
            68,
            68,
            67,
            65,
            64,
            63,
            63,
            62,
            61,
            66,
            63,
            65.5,
            62,
            71.2,
            71.2,
            69,
            68.5,
            62.5,
            62,
            69,
            67,
            66,
            66,
            66,
            65,
            65,
            65,
            64,
            63,
            70.5,
            70,
            68,
            66,
            66,
            66,
            62,
            61.5,
            73.5,
            70,
            69.5,
            65.5,
            67,
            70,
            68,
            64.5,
            64,
            71,
            68,
            66,
            65.5,
            65,
            63,
            62,
            62,
            67,
            67,
            66,
            64,
            63.5,
            61,
            68.2,
            70,
            70,
            69,
            67,
            65.5,
            64.5,
            68.5,
            67.7,
            61.7,
            66.5,
            68.5,
            68,
            64,
            63.5,
            63,
            66.7,
            64,
            61,
            61,
            60,
            60,
            60,
            56,
            67.5,
            67,
            66.5,
            60,
            69,
            68,
            65,
            64.7,
            64,
            64,
            63,
            65,
            65,
            62,
            61,
            72.7,
            72.7,
            71.5,
            65.5,
            63.5,
            71,
            73,
            71,
            70.7,
            70,
            69,
            68,
            65.5,
            62,
            69.7,
            67.5,
            65.5,
            65,
            64.5,
            63.5,
            70,
            69,
            65.5,
            65.5,
            63,
            70,
            67.7,
            63,
            60,
            65,
            62,
            62,
            71,
            69,
            64,
            64,
            63,
            63,
            63,
            63,
            63,
            62.5,
            62,
            71.5,
            70,
            67,
            67,
            71,
            70.2,
            69.2,
            68.5,
            68,
            67,
            65.5,
            63.5,
            69,
            68,
            63,
            70,
            69.5,
            69,
            68.5,
            66,
            67,
            70.5,
            70.5,
            67,
            66,
            66,
            62,
            62,
            61.5,
            72,
            65,
            65,
            67,
            64,
            64,
            62,
            60,
            60,
            66,
            65,
            67,
            66.5,
            65.5,
            72,
            68,
            66,
            65,
            62,
            61,
            68.7,
            68.5,
            66.5,
            64.5,
            62.5,
            60.5,
            60.5,
            57.5,
            72,
            71,
            67,
            66,
            65,
            70,
            64.5,
            62,
            67.2,
            67,
            65,
            65,
            65,
            63,
            70,
            68,
            63.5,
            62.5,
            62.5,
            62.5,
            62.5,
            70,
            68,
            67,
            65,
            60,
            65,
            68,
            67,
            66.5,
            66,
            65.7,
            65.5,
            65,
            65,
            64,
            63,
            62,
            61,
            60,
            58,
            57,
            66.5,
            66,
            66,
            65,
            63,
            63,
            63,
            63,
            60,
            67,
            66,
            65,
            65,
            61,
            69,
            68,
            68,
            65,
            65,
            62,
            62,
            61,
            59,
            70.7,
            65.5,
            69.2,
            69,
            68,
            67.7,
            64.5,
            60.5,
            67,
            67,
            64,
            64,
            62.5,
            60.5,
            70,
            63,
            66,
            66,
            63,
            71,
            71,
            69,
            63.5,
            68,
            68,
            67,
            67,
            62,
            71.5,
            68,
            65.5,
            64,
            62,
            62,
            61,
            70.5,
            68,
            67,
            65,
            64,
            64,
            60,
            64.5,
            66,
            60,
            68.5,
            63.5,
            64,
            62,
            61,
            66.5,
            57
           ]
          }
         ],
         "hovertemplate": "%{xaxis.title.text}=%{x}<br>%{yaxis.title.text}=%{y}<extra></extra>",
         "legendgroup": "",
         "marker": {
          "color": "#1F77B4",
          "symbol": "circle"
         },
         "name": "",
         "showlegend": false,
         "type": "splom"
        }
       ],
       "layout": {
        "autosize": true,
        "dragmode": "select",
        "legend": {
         "tracegroupgap": 0
        },
        "template": {
         "data": {
          "bar": [
           {
            "error_x": {
             "color": "rgb(36,36,36)"
            },
            "error_y": {
             "color": "rgb(36,36,36)"
            },
            "marker": {
             "line": {
              "color": "white",
              "width": 0.5
             },
             "pattern": {
              "fillmode": "overlay",
              "size": 10,
              "solidity": 0.2
             }
            },
            "type": "bar"
           }
          ],
          "barpolar": [
           {
            "marker": {
             "line": {
              "color": "white",
              "width": 0.5
             },
             "pattern": {
              "fillmode": "overlay",
              "size": 10,
              "solidity": 0.2
             }
            },
            "type": "barpolar"
           }
          ],
          "carpet": [
           {
            "aaxis": {
             "endlinecolor": "rgb(36,36,36)",
             "gridcolor": "white",
             "linecolor": "white",
             "minorgridcolor": "white",
             "startlinecolor": "rgb(36,36,36)"
            },
            "baxis": {
             "endlinecolor": "rgb(36,36,36)",
             "gridcolor": "white",
             "linecolor": "white",
             "minorgridcolor": "white",
             "startlinecolor": "rgb(36,36,36)"
            },
            "type": "carpet"
           }
          ],
          "choropleth": [
           {
            "colorbar": {
             "outlinewidth": 1,
             "tickcolor": "rgb(36,36,36)",
             "ticks": "outside"
            },
            "type": "choropleth"
           }
          ],
          "contour": [
           {
            "colorbar": {
             "outlinewidth": 1,
             "tickcolor": "rgb(36,36,36)",
             "ticks": "outside"
            },
            "colorscale": [
             [
              0,
              "#440154"
             ],
             [
              0.1111111111111111,
              "#482878"
             ],
             [
              0.2222222222222222,
              "#3e4989"
             ],
             [
              0.3333333333333333,
              "#31688e"
             ],
             [
              0.4444444444444444,
              "#26828e"
             ],
             [
              0.5555555555555556,
              "#1f9e89"
             ],
             [
              0.6666666666666666,
              "#35b779"
             ],
             [
              0.7777777777777778,
              "#6ece58"
             ],
             [
              0.8888888888888888,
              "#b5de2b"
             ],
             [
              1,
              "#fde725"
             ]
            ],
            "type": "contour"
           }
          ],
          "contourcarpet": [
           {
            "colorbar": {
             "outlinewidth": 1,
             "tickcolor": "rgb(36,36,36)",
             "ticks": "outside"
            },
            "type": "contourcarpet"
           }
          ],
          "heatmap": [
           {
            "colorbar": {
             "outlinewidth": 1,
             "tickcolor": "rgb(36,36,36)",
             "ticks": "outside"
            },
            "colorscale": [
             [
              0,
              "#440154"
             ],
             [
              0.1111111111111111,
              "#482878"
             ],
             [
              0.2222222222222222,
              "#3e4989"
             ],
             [
              0.3333333333333333,
              "#31688e"
             ],
             [
              0.4444444444444444,
              "#26828e"
             ],
             [
              0.5555555555555556,
              "#1f9e89"
             ],
             [
              0.6666666666666666,
              "#35b779"
             ],
             [
              0.7777777777777778,
              "#6ece58"
             ],
             [
              0.8888888888888888,
              "#b5de2b"
             ],
             [
              1,
              "#fde725"
             ]
            ],
            "type": "heatmap"
           }
          ],
          "heatmapgl": [
           {
            "colorbar": {
             "outlinewidth": 1,
             "tickcolor": "rgb(36,36,36)",
             "ticks": "outside"
            },
            "colorscale": [
             [
              0,
              "#440154"
             ],
             [
              0.1111111111111111,
              "#482878"
             ],
             [
              0.2222222222222222,
              "#3e4989"
             ],
             [
              0.3333333333333333,
              "#31688e"
             ],
             [
              0.4444444444444444,
              "#26828e"
             ],
             [
              0.5555555555555556,
              "#1f9e89"
             ],
             [
              0.6666666666666666,
              "#35b779"
             ],
             [
              0.7777777777777778,
              "#6ece58"
             ],
             [
              0.8888888888888888,
              "#b5de2b"
             ],
             [
              1,
              "#fde725"
             ]
            ],
            "type": "heatmapgl"
           }
          ],
          "histogram": [
           {
            "marker": {
             "line": {
              "color": "white",
              "width": 0.6
             }
            },
            "type": "histogram"
           }
          ],
          "histogram2d": [
           {
            "colorbar": {
             "outlinewidth": 1,
             "tickcolor": "rgb(36,36,36)",
             "ticks": "outside"
            },
            "colorscale": [
             [
              0,
              "#440154"
             ],
             [
              0.1111111111111111,
              "#482878"
             ],
             [
              0.2222222222222222,
              "#3e4989"
             ],
             [
              0.3333333333333333,
              "#31688e"
             ],
             [
              0.4444444444444444,
              "#26828e"
             ],
             [
              0.5555555555555556,
              "#1f9e89"
             ],
             [
              0.6666666666666666,
              "#35b779"
             ],
             [
              0.7777777777777778,
              "#6ece58"
             ],
             [
              0.8888888888888888,
              "#b5de2b"
             ],
             [
              1,
              "#fde725"
             ]
            ],
            "type": "histogram2d"
           }
          ],
          "histogram2dcontour": [
           {
            "colorbar": {
             "outlinewidth": 1,
             "tickcolor": "rgb(36,36,36)",
             "ticks": "outside"
            },
            "colorscale": [
             [
              0,
              "#440154"
             ],
             [
              0.1111111111111111,
              "#482878"
             ],
             [
              0.2222222222222222,
              "#3e4989"
             ],
             [
              0.3333333333333333,
              "#31688e"
             ],
             [
              0.4444444444444444,
              "#26828e"
             ],
             [
              0.5555555555555556,
              "#1f9e89"
             ],
             [
              0.6666666666666666,
              "#35b779"
             ],
             [
              0.7777777777777778,
              "#6ece58"
             ],
             [
              0.8888888888888888,
              "#b5de2b"
             ],
             [
              1,
              "#fde725"
             ]
            ],
            "type": "histogram2dcontour"
           }
          ],
          "mesh3d": [
           {
            "colorbar": {
             "outlinewidth": 1,
             "tickcolor": "rgb(36,36,36)",
             "ticks": "outside"
            },
            "type": "mesh3d"
           }
          ],
          "parcoords": [
           {
            "line": {
             "colorbar": {
              "outlinewidth": 1,
              "tickcolor": "rgb(36,36,36)",
              "ticks": "outside"
             }
            },
            "type": "parcoords"
           }
          ],
          "pie": [
           {
            "automargin": true,
            "type": "pie"
           }
          ],
          "scatter": [
           {
            "fillpattern": {
             "fillmode": "overlay",
             "size": 10,
             "solidity": 0.2
            },
            "type": "scatter"
           }
          ],
          "scatter3d": [
           {
            "line": {
             "colorbar": {
              "outlinewidth": 1,
              "tickcolor": "rgb(36,36,36)",
              "ticks": "outside"
             }
            },
            "marker": {
             "colorbar": {
              "outlinewidth": 1,
              "tickcolor": "rgb(36,36,36)",
              "ticks": "outside"
             }
            },
            "type": "scatter3d"
           }
          ],
          "scattercarpet": [
           {
            "marker": {
             "colorbar": {
              "outlinewidth": 1,
              "tickcolor": "rgb(36,36,36)",
              "ticks": "outside"
             }
            },
            "type": "scattercarpet"
           }
          ],
          "scattergeo": [
           {
            "marker": {
             "colorbar": {
              "outlinewidth": 1,
              "tickcolor": "rgb(36,36,36)",
              "ticks": "outside"
             }
            },
            "type": "scattergeo"
           }
          ],
          "scattergl": [
           {
            "marker": {
             "colorbar": {
              "outlinewidth": 1,
              "tickcolor": "rgb(36,36,36)",
              "ticks": "outside"
             }
            },
            "type": "scattergl"
           }
          ],
          "scattermapbox": [
           {
            "marker": {
             "colorbar": {
              "outlinewidth": 1,
              "tickcolor": "rgb(36,36,36)",
              "ticks": "outside"
             }
            },
            "type": "scattermapbox"
           }
          ],
          "scatterpolar": [
           {
            "marker": {
             "colorbar": {
              "outlinewidth": 1,
              "tickcolor": "rgb(36,36,36)",
              "ticks": "outside"
             }
            },
            "type": "scatterpolar"
           }
          ],
          "scatterpolargl": [
           {
            "marker": {
             "colorbar": {
              "outlinewidth": 1,
              "tickcolor": "rgb(36,36,36)",
              "ticks": "outside"
             }
            },
            "type": "scatterpolargl"
           }
          ],
          "scatterternary": [
           {
            "marker": {
             "colorbar": {
              "outlinewidth": 1,
              "tickcolor": "rgb(36,36,36)",
              "ticks": "outside"
             }
            },
            "type": "scatterternary"
           }
          ],
          "surface": [
           {
            "colorbar": {
             "outlinewidth": 1,
             "tickcolor": "rgb(36,36,36)",
             "ticks": "outside"
            },
            "colorscale": [
             [
              0,
              "#440154"
             ],
             [
              0.1111111111111111,
              "#482878"
             ],
             [
              0.2222222222222222,
              "#3e4989"
             ],
             [
              0.3333333333333333,
              "#31688e"
             ],
             [
              0.4444444444444444,
              "#26828e"
             ],
             [
              0.5555555555555556,
              "#1f9e89"
             ],
             [
              0.6666666666666666,
              "#35b779"
             ],
             [
              0.7777777777777778,
              "#6ece58"
             ],
             [
              0.8888888888888888,
              "#b5de2b"
             ],
             [
              1,
              "#fde725"
             ]
            ],
            "type": "surface"
           }
          ],
          "table": [
           {
            "cells": {
             "fill": {
              "color": "rgb(237,237,237)"
             },
             "line": {
              "color": "white"
             }
            },
            "header": {
             "fill": {
              "color": "rgb(217,217,217)"
             },
             "line": {
              "color": "white"
             }
            },
            "type": "table"
           }
          ]
         },
         "layout": {
          "annotationdefaults": {
           "arrowhead": 0,
           "arrowwidth": 1
          },
          "autosize": true,
          "autotypenumbers": "strict",
          "coloraxis": {
           "colorbar": {
            "outlinewidth": 1,
            "tickcolor": "rgb(36,36,36)",
            "ticks": "outside"
           }
          },
          "colorscale": {
           "diverging": [
            [
             0,
             "rgb(103,0,31)"
            ],
            [
             0.1,
             "rgb(178,24,43)"
            ],
            [
             0.2,
             "rgb(214,96,77)"
            ],
            [
             0.3,
             "rgb(244,165,130)"
            ],
            [
             0.4,
             "rgb(253,219,199)"
            ],
            [
             0.5,
             "rgb(247,247,247)"
            ],
            [
             0.6,
             "rgb(209,229,240)"
            ],
            [
             0.7,
             "rgb(146,197,222)"
            ],
            [
             0.8,
             "rgb(67,147,195)"
            ],
            [
             0.9,
             "rgb(33,102,172)"
            ],
            [
             1,
             "rgb(5,48,97)"
            ]
           ],
           "sequential": [
            [
             0,
             "#440154"
            ],
            [
             0.1111111111111111,
             "#482878"
            ],
            [
             0.2222222222222222,
             "#3e4989"
            ],
            [
             0.3333333333333333,
             "#31688e"
            ],
            [
             0.4444444444444444,
             "#26828e"
            ],
            [
             0.5555555555555556,
             "#1f9e89"
            ],
            [
             0.6666666666666666,
             "#35b779"
            ],
            [
             0.7777777777777778,
             "#6ece58"
            ],
            [
             0.8888888888888888,
             "#b5de2b"
            ],
            [
             1,
             "#fde725"
            ]
           ],
           "sequentialminus": [
            [
             0,
             "#440154"
            ],
            [
             0.1111111111111111,
             "#482878"
            ],
            [
             0.2222222222222222,
             "#3e4989"
            ],
            [
             0.3333333333333333,
             "#31688e"
            ],
            [
             0.4444444444444444,
             "#26828e"
            ],
            [
             0.5555555555555556,
             "#1f9e89"
            ],
            [
             0.6666666666666666,
             "#35b779"
            ],
            [
             0.7777777777777778,
             "#6ece58"
            ],
            [
             0.8888888888888888,
             "#b5de2b"
            ],
            [
             1,
             "#fde725"
            ]
           ]
          },
          "colorway": [
           "#1F77B4",
           "#FF7F0E",
           "#2CA02C",
           "#D62728",
           "#9467BD",
           "#8C564B",
           "#E377C2",
           "#7F7F7F",
           "#BCBD22",
           "#17BECF"
          ],
          "font": {
           "color": "rgb(36,36,36)"
          },
          "geo": {
           "bgcolor": "white",
           "lakecolor": "white",
           "landcolor": "white",
           "showlakes": true,
           "showland": true,
           "subunitcolor": "white"
          },
          "height": 400,
          "hoverlabel": {
           "align": "left"
          },
          "hovermode": "closest",
          "mapbox": {
           "style": "light"
          },
          "margin": {
           "b": 30,
           "l": 30,
           "r": 30,
           "t": 30
          },
          "paper_bgcolor": "white",
          "plot_bgcolor": "white",
          "polar": {
           "angularaxis": {
            "gridcolor": "rgb(232,232,232)",
            "linecolor": "rgb(36,36,36)",
            "showgrid": false,
            "showline": true,
            "ticks": "outside"
           },
           "bgcolor": "white",
           "radialaxis": {
            "gridcolor": "rgb(232,232,232)",
            "linecolor": "rgb(36,36,36)",
            "showgrid": false,
            "showline": true,
            "ticks": "outside"
           }
          },
          "scene": {
           "xaxis": {
            "backgroundcolor": "white",
            "gridcolor": "rgb(232,232,232)",
            "gridwidth": 2,
            "linecolor": "rgb(36,36,36)",
            "showbackground": true,
            "showgrid": false,
            "showline": true,
            "ticks": "outside",
            "zeroline": false,
            "zerolinecolor": "rgb(36,36,36)"
           },
           "yaxis": {
            "backgroundcolor": "white",
            "gridcolor": "rgb(232,232,232)",
            "gridwidth": 2,
            "linecolor": "rgb(36,36,36)",
            "showbackground": true,
            "showgrid": false,
            "showline": true,
            "ticks": "outside",
            "zeroline": false,
            "zerolinecolor": "rgb(36,36,36)"
           },
           "zaxis": {
            "backgroundcolor": "white",
            "gridcolor": "rgb(232,232,232)",
            "gridwidth": 2,
            "linecolor": "rgb(36,36,36)",
            "showbackground": true,
            "showgrid": false,
            "showline": true,
            "ticks": "outside",
            "zeroline": false,
            "zerolinecolor": "rgb(36,36,36)"
           }
          },
          "shapedefaults": {
           "fillcolor": "black",
           "line": {
            "width": 0
           },
           "opacity": 0.3
          },
          "ternary": {
           "aaxis": {
            "gridcolor": "rgb(232,232,232)",
            "linecolor": "rgb(36,36,36)",
            "showgrid": false,
            "showline": true,
            "ticks": "outside"
           },
           "baxis": {
            "gridcolor": "rgb(232,232,232)",
            "linecolor": "rgb(36,36,36)",
            "showgrid": false,
            "showline": true,
            "ticks": "outside"
           },
           "bgcolor": "white",
           "caxis": {
            "gridcolor": "rgb(232,232,232)",
            "linecolor": "rgb(36,36,36)",
            "showgrid": false,
            "showline": true,
            "ticks": "outside"
           }
          },
          "title": {
           "x": 0.5,
           "xanchor": "center"
          },
          "width": 600,
          "xaxis": {
           "automargin": true,
           "gridcolor": "rgb(232,232,232)",
           "linecolor": "rgb(36,36,36)",
           "showgrid": true,
           "showline": true,
           "ticks": "outside",
           "title": {
            "standoff": 15
           },
           "zeroline": false,
           "zerolinecolor": "rgb(36,36,36)"
          },
          "yaxis": {
           "automargin": true,
           "gridcolor": "rgb(232,232,232)",
           "linecolor": "rgb(36,36,36)",
           "showgrid": true,
           "showline": true,
           "ticks": "outside",
           "title": {
            "standoff": 15
           },
           "zeroline": false,
           "zerolinecolor": "rgb(36,36,36)"
          }
         }
        },
        "xaxis": {
         "autorange": true,
         "range": [
          60.07102056359482,
          80.42897943640519
         ],
         "type": "linear"
        },
        "xaxis2": {
         "autorange": true,
         "range": [
          56.53865194211729,
          71.96134805788272
         ],
         "type": "linear"
        },
        "xaxis3": {
         "autorange": true,
         "range": [
          53.31111957349581,
          81.68888042650418
         ],
         "type": "linear"
        },
        "yaxis": {
         "autorange": true,
         "range": [
          60.07102056359482,
          80.42897943640519
         ],
         "type": "linear"
        },
        "yaxis2": {
         "autorange": true,
         "range": [
          56.53865194211729,
          71.96134805788272
         ],
         "type": "linear"
        },
        "yaxis3": {
         "autorange": true,
         "range": [
          53.31111957349581,
          81.68888042650418
         ],
         "type": "linear"
        }
       }
      },
      "image/png": "[encoded data removed]"
     },
     "metadata": {},
     "output_type": "display_data"
    }
   ],
   "source": [
    "fig = px.scatter_matrix(heights.drop(columns=['gender']))\n",
    "fig"
   ]
  },
  {
   "cell_type": "markdown",
   "id": "bdaab080",
   "metadata": {
    "slideshow": {
     "slide_type": "slide"
    }
   },
   "source": [
    "### Simulating MCAR data\n",
    "\n",
    "- We will make `'child'` MCAR by taking a random subset of `heights` and setting the corresponding `'child'` heights to `np.NaN`.\n",
    "- This is equivalent to flipping a (biased) coin for each row. \n",
    "    - If heads, we delete the `'child'` height.\n",
    "- **You will not do this in practice!**"
   ]
  },
  {
   "cell_type": "code",
   "execution_count": 6,
   "id": "570e74ed",
   "metadata": {},
   "outputs": [],
   "source": [
    "np.random.seed(42) # So that we get the same results each time (for lecture).\n",
    "\n",
    "heights_mcar = heights.copy()\n",
    "idx = heights_mcar.sample(frac=0.3).index\n",
    "heights_mcar.loc[idx, 'child'] = np.nan"
   ]
  },
  {
   "cell_type": "code",
   "execution_count": 23,
   "id": "18f9ec89",
   "metadata": {},
   "outputs": [
    {
     "data": {
      "text/html": [
       "<div>\n",
       "<style scoped>\n",
       "    .dataframe tbody tr th:only-of-type {\n",
       "        vertical-align: middle;\n",
       "    }\n",
       "\n",
       "    .dataframe tbody tr th {\n",
       "        vertical-align: top;\n",
       "    }\n",
       "\n",
       "    .dataframe thead th {\n",
       "        text-align: right;\n",
       "    }\n",
       "</style>\n",
       "<table border=\"1\" class=\"dataframe\">\n",
       "  <thead>\n",
       "    <tr style=\"text-align: right;\">\n",
       "      <th></th>\n",
       "      <th>father</th>\n",
       "      <th>mother</th>\n",
       "      <th>gender</th>\n",
       "      <th>child</th>\n",
       "    </tr>\n",
       "  </thead>\n",
       "  <tbody>\n",
       "    <tr>\n",
       "      <th>0</th>\n",
       "      <td>78.5</td>\n",
       "      <td>67.0</td>\n",
       "      <td>male</td>\n",
       "      <td>73.2</td>\n",
       "    </tr>\n",
       "    <tr>\n",
       "      <th>1</th>\n",
       "      <td>78.5</td>\n",
       "      <td>67.0</td>\n",
       "      <td>female</td>\n",
       "      <td>69.2</td>\n",
       "    </tr>\n",
       "    <tr>\n",
       "      <th>2</th>\n",
       "      <td>78.5</td>\n",
       "      <td>67.0</td>\n",
       "      <td>female</td>\n",
       "      <td>NaN</td>\n",
       "    </tr>\n",
       "    <tr>\n",
       "      <th>...</th>\n",
       "      <td>...</td>\n",
       "      <td>...</td>\n",
       "      <td>...</td>\n",
       "      <td>...</td>\n",
       "    </tr>\n",
       "    <tr>\n",
       "      <th>7</th>\n",
       "      <td>75.5</td>\n",
       "      <td>66.5</td>\n",
       "      <td>female</td>\n",
       "      <td>NaN</td>\n",
       "    </tr>\n",
       "    <tr>\n",
       "      <th>8</th>\n",
       "      <td>75.0</td>\n",
       "      <td>64.0</td>\n",
       "      <td>male</td>\n",
       "      <td>71.0</td>\n",
       "    </tr>\n",
       "    <tr>\n",
       "      <th>9</th>\n",
       "      <td>75.0</td>\n",
       "      <td>64.0</td>\n",
       "      <td>female</td>\n",
       "      <td>68.0</td>\n",
       "    </tr>\n",
       "  </tbody>\n",
       "</table>\n",
       "<p>10 rows × 4 columns</p>\n",
       "</div>"
      ],
      "text/plain": [
       "    father  mother  gender  child\n",
       "0     78.5    67.0    male   73.2\n",
       "1     78.5    67.0  female   69.2\n",
       "2     78.5    67.0  female    NaN\n",
       "..     ...     ...     ...    ...\n",
       "7     75.5    66.5  female    NaN\n",
       "8     75.0    64.0    male   71.0\n",
       "9     75.0    64.0  female   68.0\n",
       "\n",
       "[10 rows x 4 columns]"
      ]
     },
     "execution_count": 23,
     "metadata": {},
     "output_type": "execute_result"
    }
   ],
   "source": [
    "heights_mcar.head(10)"
   ]
  },
  {
   "cell_type": "code",
   "execution_count": 7,
   "id": "90fec198",
   "metadata": {},
   "outputs": [
    {
     "data": {
      "text/plain": [
       "father    0.0\n",
       "mother    0.0\n",
       "gender    0.0\n",
       "child     0.3\n",
       "dtype: float64"
      ]
     },
     "execution_count": 7,
     "metadata": {},
     "output_type": "execute_result"
    }
   ],
   "source": [
    "heights_mcar.isna().mean()"
   ]
  },
  {
   "cell_type": "markdown",
   "id": "98d3096b",
   "metadata": {
    "slideshow": {
     "slide_type": "slide"
    }
   },
   "source": [
    "### Verifying that child heights are MCAR in `heights_mcar`"
   ]
  },
  {
   "cell_type": "markdown",
   "id": "9e4af6d1",
   "metadata": {
    "slideshow": {
     "slide_type": "fragment"
    }
   },
   "source": [
    "- Each row of `heights_mcar` belongs to one of two **groups**:\n",
    "    - Group 1: `'child'` is missing.\n",
    "    - Group 2: `'child'` is not missing."
   ]
  },
  {
   "cell_type": "code",
   "execution_count": 8,
   "id": "5566d35d",
   "metadata": {},
   "outputs": [
    {
     "data": {
      "text/html": [
       "<div>\n",
       "<style scoped>\n",
       "    .dataframe tbody tr th:only-of-type {\n",
       "        vertical-align: middle;\n",
       "    }\n",
       "\n",
       "    .dataframe tbody tr th {\n",
       "        vertical-align: top;\n",
       "    }\n",
       "\n",
       "    .dataframe thead th {\n",
       "        text-align: right;\n",
       "    }\n",
       "</style>\n",
       "<table border=\"1\" class=\"dataframe\">\n",
       "  <thead>\n",
       "    <tr style=\"text-align: right;\">\n",
       "      <th></th>\n",
       "      <th>father</th>\n",
       "      <th>mother</th>\n",
       "      <th>gender</th>\n",
       "      <th>child</th>\n",
       "      <th>child_missing</th>\n",
       "    </tr>\n",
       "  </thead>\n",
       "  <tbody>\n",
       "    <tr>\n",
       "      <th>0</th>\n",
       "      <td>78.5</td>\n",
       "      <td>67.0</td>\n",
       "      <td>male</td>\n",
       "      <td>73.2</td>\n",
       "      <td>False</td>\n",
       "    </tr>\n",
       "    <tr>\n",
       "      <th>1</th>\n",
       "      <td>78.5</td>\n",
       "      <td>67.0</td>\n",
       "      <td>female</td>\n",
       "      <td>69.2</td>\n",
       "      <td>False</td>\n",
       "    </tr>\n",
       "    <tr>\n",
       "      <th>2</th>\n",
       "      <td>78.5</td>\n",
       "      <td>67.0</td>\n",
       "      <td>female</td>\n",
       "      <td>NaN</td>\n",
       "      <td>True</td>\n",
       "    </tr>\n",
       "    <tr>\n",
       "      <th>3</th>\n",
       "      <td>78.5</td>\n",
       "      <td>67.0</td>\n",
       "      <td>female</td>\n",
       "      <td>69.0</td>\n",
       "      <td>False</td>\n",
       "    </tr>\n",
       "    <tr>\n",
       "      <th>4</th>\n",
       "      <td>75.5</td>\n",
       "      <td>66.5</td>\n",
       "      <td>male</td>\n",
       "      <td>73.5</td>\n",
       "      <td>False</td>\n",
       "    </tr>\n",
       "  </tbody>\n",
       "</table>\n",
       "</div>"
      ],
      "text/plain": [
       "   father  mother  gender  child  child_missing\n",
       "0    78.5    67.0    male   73.2          False\n",
       "1    78.5    67.0  female   69.2          False\n",
       "2    78.5    67.0  female    NaN           True\n",
       "3    78.5    67.0  female   69.0          False\n",
       "4    75.5    66.5    male   73.5          False"
      ]
     },
     "execution_count": 8,
     "metadata": {},
     "output_type": "execute_result"
    }
   ],
   "source": [
    "heights_mcar['child_missing'] = heights_mcar['child'].isna()\n",
    "heights_mcar.head()"
   ]
  },
  {
   "cell_type": "markdown",
   "id": "ec3f46bb",
   "metadata": {
    "slideshow": {
     "slide_type": "fragment"
    }
   },
   "source": [
    "- We need to look at the distributions of every other column – `'gender'`, `'mother'`, and `'father'` – separately for these two groups, and check to see if they are similar."
   ]
  },
  {
   "cell_type": "markdown",
   "id": "903253af",
   "metadata": {
    "slideshow": {
     "slide_type": "slide"
    }
   },
   "source": [
    "### Comparing null and non-null `'child'` distributions for `'gender'`"
   ]
  },
  {
   "cell_type": "code",
   "execution_count": 9,
   "id": "9efd2000",
   "metadata": {},
   "outputs": [
    {
     "data": {
      "text/html": [
       "<div>\n",
       "<style scoped>\n",
       "    .dataframe tbody tr th:only-of-type {\n",
       "        vertical-align: middle;\n",
       "    }\n",
       "\n",
       "    .dataframe tbody tr th {\n",
       "        vertical-align: top;\n",
       "    }\n",
       "\n",
       "    .dataframe thead th {\n",
       "        text-align: right;\n",
       "    }\n",
       "</style>\n",
       "<table border=\"1\" class=\"dataframe\">\n",
       "  <thead>\n",
       "    <tr style=\"text-align: right;\">\n",
       "      <th></th>\n",
       "      <th>child_missing = False</th>\n",
       "      <th>child_missing = True</th>\n",
       "    </tr>\n",
       "    <tr>\n",
       "      <th>gender</th>\n",
       "      <th></th>\n",
       "      <th></th>\n",
       "    </tr>\n",
       "  </thead>\n",
       "  <tbody>\n",
       "    <tr>\n",
       "      <th>female</th>\n",
       "      <td>0.49</td>\n",
       "      <td>0.48</td>\n",
       "    </tr>\n",
       "    <tr>\n",
       "      <th>male</th>\n",
       "      <td>0.51</td>\n",
       "      <td>0.52</td>\n",
       "    </tr>\n",
       "  </tbody>\n",
       "</table>\n",
       "</div>"
      ],
      "text/plain": [
       "        child_missing = False  child_missing = True\n",
       "gender                                             \n",
       "female                   0.49                  0.48\n",
       "male                     0.51                  0.52"
      ]
     },
     "execution_count": 9,
     "metadata": {},
     "output_type": "execute_result"
    }
   ],
   "source": [
    "gender_dist = (\n",
    "    heights_mcar\n",
    "    .assign(child_missing=heights_mcar['child'].isna())\n",
    "    .pivot_table(index='gender', columns='child_missing', aggfunc='size')\n",
    ")\n",
    "\n",
    "# Added just to make the resulting pivot table easier to read.\n",
    "gender_dist.columns = ['child_missing = False', 'child_missing = True']\n",
    "\n",
    "gender_dist = gender_dist / gender_dist.sum()\n",
    "gender_dist"
   ]
  },
  {
   "cell_type": "markdown",
   "id": "b0567dfa",
   "metadata": {
    "slideshow": {
     "slide_type": "fragment"
    }
   },
   "source": [
    "- Note that here, each column is a separate distribution that adds to 1."
   ]
  },
  {
   "cell_type": "markdown",
   "id": "bfed2244",
   "metadata": {
    "slideshow": {
     "slide_type": "fragment"
    }
   },
   "source": [
    "- The two columns look similar, which is evidence that `'child'`'s missingness does not depend on `'gender'`.\n",
    "    - Knowing that the child is `'female'` doesn't make it any more or less likely that their height is missing than knowing if the child is `'male'`."
   ]
  },
  {
   "cell_type": "markdown",
   "id": "bc69137c",
   "metadata": {
    "slideshow": {
     "slide_type": "slide"
    }
   },
   "source": [
    "### Comparing null and non-null `'child'` distributions for `'gender'`"
   ]
  },
  {
   "cell_type": "markdown",
   "id": "a7f817d2",
   "metadata": {
    "slideshow": {
     "slide_type": "fragment"
    }
   },
   "source": [
    "- In the previous slide, we saw that the distribution of `'gender'` is similar whether or not `'child'` is missing."
   ]
  },
  {
   "cell_type": "markdown",
   "id": "63109984",
   "metadata": {
    "slideshow": {
     "slide_type": "fragment"
    }
   },
   "source": [
    "- To make precise what we mean by \"similar\", we can run a permutation test. We are comparing two distributions:\n",
    "    1. The distribution of `'gender'` when `'child'` is missing.\n",
    "    2. The distribution of `'gender'` when `'child'` is not missing."
   ]
  },
  {
   "cell_type": "markdown",
   "id": "6e7a1547",
   "metadata": {
    "slideshow": {
     "slide_type": "fragment"
    }
   },
   "source": [
    "- What test statistic do we use to compare categorical distributions?"
   ]
  },
  {
   "cell_type": "code",
   "execution_count": 11,
   "id": "775e7788",
   "metadata": {
    "slideshow": {
     "slide_type": "slide"
    }
   },
   "outputs": [
    {
     "data": {
      "application/vnd.plotly.v1+json": {
       "config": {
        "plotlyServerURL": "https://plot.ly"
       },
       "data": [
        {
         "alignmentgroup": "True",
         "hovertemplate": "variable=child_missing = False<br>value=%{x}<br>gender=%{y}<extra></extra>",
         "legendgroup": "child_missing = False",
         "marker": {
          "color": "#1F77B4",
          "pattern": {
           "shape": ""
          }
         },
         "name": "child_missing = False",
         "offsetgroup": "child_missing = False",
         "orientation": "h",
         "showlegend": true,
         "textposition": "auto",
         "type": "bar",
         "x": [
          0.4877675840978593,
          0.5122324159021406
         ],
         "xaxis": "x",
         "y": [
          "female",
          "male"
         ],
         "yaxis": "y"
        },
        {
         "alignmentgroup": "True",
         "hovertemplate": "variable=child_missing = True<br>value=%{x}<br>gender=%{y}<extra></extra>",
         "legendgroup": "child_missing = True",
         "marker": {
          "color": "#FF7F0E",
          "pattern": {
           "shape": ""
          }
         },
         "name": "child_missing = True",
         "offsetgroup": "child_missing = True",
         "orientation": "h",
         "showlegend": true,
         "textposition": "auto",
         "type": "bar",
         "x": [
          0.4785714285714286,
          0.5214285714285715
         ],
         "xaxis": "x",
         "y": [
          "female",
          "male"
         ],
         "yaxis": "y"
        }
       ],
       "layout": {
        "autosize": true,
        "barmode": "group",
        "legend": {
         "title": {
          "text": "variable"
         },
         "tracegroupgap": 0
        },
        "template": {
         "data": {
          "bar": [
           {
            "error_x": {
             "color": "rgb(36,36,36)"
            },
            "error_y": {
             "color": "rgb(36,36,36)"
            },
            "marker": {
             "line": {
              "color": "white",
              "width": 0.5
             },
             "pattern": {
              "fillmode": "overlay",
              "size": 10,
              "solidity": 0.2
             }
            },
            "type": "bar"
           }
          ],
          "barpolar": [
           {
            "marker": {
             "line": {
              "color": "white",
              "width": 0.5
             },
             "pattern": {
              "fillmode": "overlay",
              "size": 10,
              "solidity": 0.2
             }
            },
            "type": "barpolar"
           }
          ],
          "carpet": [
           {
            "aaxis": {
             "endlinecolor": "rgb(36,36,36)",
             "gridcolor": "white",
             "linecolor": "white",
             "minorgridcolor": "white",
             "startlinecolor": "rgb(36,36,36)"
            },
            "baxis": {
             "endlinecolor": "rgb(36,36,36)",
             "gridcolor": "white",
             "linecolor": "white",
             "minorgridcolor": "white",
             "startlinecolor": "rgb(36,36,36)"
            },
            "type": "carpet"
           }
          ],
          "choropleth": [
           {
            "colorbar": {
             "outlinewidth": 1,
             "tickcolor": "rgb(36,36,36)",
             "ticks": "outside"
            },
            "type": "choropleth"
           }
          ],
          "contour": [
           {
            "colorbar": {
             "outlinewidth": 1,
             "tickcolor": "rgb(36,36,36)",
             "ticks": "outside"
            },
            "colorscale": [
             [
              0,
              "#440154"
             ],
             [
              0.1111111111111111,
              "#482878"
             ],
             [
              0.2222222222222222,
              "#3e4989"
             ],
             [
              0.3333333333333333,
              "#31688e"
             ],
             [
              0.4444444444444444,
              "#26828e"
             ],
             [
              0.5555555555555556,
              "#1f9e89"
             ],
             [
              0.6666666666666666,
              "#35b779"
             ],
             [
              0.7777777777777778,
              "#6ece58"
             ],
             [
              0.8888888888888888,
              "#b5de2b"
             ],
             [
              1,
              "#fde725"
             ]
            ],
            "type": "contour"
           }
          ],
          "contourcarpet": [
           {
            "colorbar": {
             "outlinewidth": 1,
             "tickcolor": "rgb(36,36,36)",
             "ticks": "outside"
            },
            "type": "contourcarpet"
           }
          ],
          "heatmap": [
           {
            "colorbar": {
             "outlinewidth": 1,
             "tickcolor": "rgb(36,36,36)",
             "ticks": "outside"
            },
            "colorscale": [
             [
              0,
              "#440154"
             ],
             [
              0.1111111111111111,
              "#482878"
             ],
             [
              0.2222222222222222,
              "#3e4989"
             ],
             [
              0.3333333333333333,
              "#31688e"
             ],
             [
              0.4444444444444444,
              "#26828e"
             ],
             [
              0.5555555555555556,
              "#1f9e89"
             ],
             [
              0.6666666666666666,
              "#35b779"
             ],
             [
              0.7777777777777778,
              "#6ece58"
             ],
             [
              0.8888888888888888,
              "#b5de2b"
             ],
             [
              1,
              "#fde725"
             ]
            ],
            "type": "heatmap"
           }
          ],
          "heatmapgl": [
           {
            "colorbar": {
             "outlinewidth": 1,
             "tickcolor": "rgb(36,36,36)",
             "ticks": "outside"
            },
            "colorscale": [
             [
              0,
              "#440154"
             ],
             [
              0.1111111111111111,
              "#482878"
             ],
             [
              0.2222222222222222,
              "#3e4989"
             ],
             [
              0.3333333333333333,
              "#31688e"
             ],
             [
              0.4444444444444444,
              "#26828e"
             ],
             [
              0.5555555555555556,
              "#1f9e89"
             ],
             [
              0.6666666666666666,
              "#35b779"
             ],
             [
              0.7777777777777778,
              "#6ece58"
             ],
             [
              0.8888888888888888,
              "#b5de2b"
             ],
             [
              1,
              "#fde725"
             ]
            ],
            "type": "heatmapgl"
           }
          ],
          "histogram": [
           {
            "marker": {
             "line": {
              "color": "white",
              "width": 0.6
             }
            },
            "type": "histogram"
           }
          ],
          "histogram2d": [
           {
            "colorbar": {
             "outlinewidth": 1,
             "tickcolor": "rgb(36,36,36)",
             "ticks": "outside"
            },
            "colorscale": [
             [
              0,
              "#440154"
             ],
             [
              0.1111111111111111,
              "#482878"
             ],
             [
              0.2222222222222222,
              "#3e4989"
             ],
             [
              0.3333333333333333,
              "#31688e"
             ],
             [
              0.4444444444444444,
              "#26828e"
             ],
             [
              0.5555555555555556,
              "#1f9e89"
             ],
             [
              0.6666666666666666,
              "#35b779"
             ],
             [
              0.7777777777777778,
              "#6ece58"
             ],
             [
              0.8888888888888888,
              "#b5de2b"
             ],
             [
              1,
              "#fde725"
             ]
            ],
            "type": "histogram2d"
           }
          ],
          "histogram2dcontour": [
           {
            "colorbar": {
             "outlinewidth": 1,
             "tickcolor": "rgb(36,36,36)",
             "ticks": "outside"
            },
            "colorscale": [
             [
              0,
              "#440154"
             ],
             [
              0.1111111111111111,
              "#482878"
             ],
             [
              0.2222222222222222,
              "#3e4989"
             ],
             [
              0.3333333333333333,
              "#31688e"
             ],
             [
              0.4444444444444444,
              "#26828e"
             ],
             [
              0.5555555555555556,
              "#1f9e89"
             ],
             [
              0.6666666666666666,
              "#35b779"
             ],
             [
              0.7777777777777778,
              "#6ece58"
             ],
             [
              0.8888888888888888,
              "#b5de2b"
             ],
             [
              1,
              "#fde725"
             ]
            ],
            "type": "histogram2dcontour"
           }
          ],
          "mesh3d": [
           {
            "colorbar": {
             "outlinewidth": 1,
             "tickcolor": "rgb(36,36,36)",
             "ticks": "outside"
            },
            "type": "mesh3d"
           }
          ],
          "parcoords": [
           {
            "line": {
             "colorbar": {
              "outlinewidth": 1,
              "tickcolor": "rgb(36,36,36)",
              "ticks": "outside"
             }
            },
            "type": "parcoords"
           }
          ],
          "pie": [
           {
            "automargin": true,
            "type": "pie"
           }
          ],
          "scatter": [
           {
            "fillpattern": {
             "fillmode": "overlay",
             "size": 10,
             "solidity": 0.2
            },
            "type": "scatter"
           }
          ],
          "scatter3d": [
           {
            "line": {
             "colorbar": {
              "outlinewidth": 1,
              "tickcolor": "rgb(36,36,36)",
              "ticks": "outside"
             }
            },
            "marker": {
             "colorbar": {
              "outlinewidth": 1,
              "tickcolor": "rgb(36,36,36)",
              "ticks": "outside"
             }
            },
            "type": "scatter3d"
           }
          ],
          "scattercarpet": [
           {
            "marker": {
             "colorbar": {
              "outlinewidth": 1,
              "tickcolor": "rgb(36,36,36)",
              "ticks": "outside"
             }
            },
            "type": "scattercarpet"
           }
          ],
          "scattergeo": [
           {
            "marker": {
             "colorbar": {
              "outlinewidth": 1,
              "tickcolor": "rgb(36,36,36)",
              "ticks": "outside"
             }
            },
            "type": "scattergeo"
           }
          ],
          "scattergl": [
           {
            "marker": {
             "colorbar": {
              "outlinewidth": 1,
              "tickcolor": "rgb(36,36,36)",
              "ticks": "outside"
             }
            },
            "type": "scattergl"
           }
          ],
          "scattermapbox": [
           {
            "marker": {
             "colorbar": {
              "outlinewidth": 1,
              "tickcolor": "rgb(36,36,36)",
              "ticks": "outside"
             }
            },
            "type": "scattermapbox"
           }
          ],
          "scatterpolar": [
           {
            "marker": {
             "colorbar": {
              "outlinewidth": 1,
              "tickcolor": "rgb(36,36,36)",
              "ticks": "outside"
             }
            },
            "type": "scatterpolar"
           }
          ],
          "scatterpolargl": [
           {
            "marker": {
             "colorbar": {
              "outlinewidth": 1,
              "tickcolor": "rgb(36,36,36)",
              "ticks": "outside"
             }
            },
            "type": "scatterpolargl"
           }
          ],
          "scatterternary": [
           {
            "marker": {
             "colorbar": {
              "outlinewidth": 1,
              "tickcolor": "rgb(36,36,36)",
              "ticks": "outside"
             }
            },
            "type": "scatterternary"
           }
          ],
          "surface": [
           {
            "colorbar": {
             "outlinewidth": 1,
             "tickcolor": "rgb(36,36,36)",
             "ticks": "outside"
            },
            "colorscale": [
             [
              0,
              "#440154"
             ],
             [
              0.1111111111111111,
              "#482878"
             ],
             [
              0.2222222222222222,
              "#3e4989"
             ],
             [
              0.3333333333333333,
              "#31688e"
             ],
             [
              0.4444444444444444,
              "#26828e"
             ],
             [
              0.5555555555555556,
              "#1f9e89"
             ],
             [
              0.6666666666666666,
              "#35b779"
             ],
             [
              0.7777777777777778,
              "#6ece58"
             ],
             [
              0.8888888888888888,
              "#b5de2b"
             ],
             [
              1,
              "#fde725"
             ]
            ],
            "type": "surface"
           }
          ],
          "table": [
           {
            "cells": {
             "fill": {
              "color": "rgb(237,237,237)"
             },
             "line": {
              "color": "white"
             }
            },
            "header": {
             "fill": {
              "color": "rgb(217,217,217)"
             },
             "line": {
              "color": "white"
             }
            },
            "type": "table"
           }
          ]
         },
         "layout": {
          "annotationdefaults": {
           "arrowhead": 0,
           "arrowwidth": 1
          },
          "autosize": true,
          "autotypenumbers": "strict",
          "coloraxis": {
           "colorbar": {
            "outlinewidth": 1,
            "tickcolor": "rgb(36,36,36)",
            "ticks": "outside"
           }
          },
          "colorscale": {
           "diverging": [
            [
             0,
             "rgb(103,0,31)"
            ],
            [
             0.1,
             "rgb(178,24,43)"
            ],
            [
             0.2,
             "rgb(214,96,77)"
            ],
            [
             0.3,
             "rgb(244,165,130)"
            ],
            [
             0.4,
             "rgb(253,219,199)"
            ],
            [
             0.5,
             "rgb(247,247,247)"
            ],
            [
             0.6,
             "rgb(209,229,240)"
            ],
            [
             0.7,
             "rgb(146,197,222)"
            ],
            [
             0.8,
             "rgb(67,147,195)"
            ],
            [
             0.9,
             "rgb(33,102,172)"
            ],
            [
             1,
             "rgb(5,48,97)"
            ]
           ],
           "sequential": [
            [
             0,
             "#440154"
            ],
            [
             0.1111111111111111,
             "#482878"
            ],
            [
             0.2222222222222222,
             "#3e4989"
            ],
            [
             0.3333333333333333,
             "#31688e"
            ],
            [
             0.4444444444444444,
             "#26828e"
            ],
            [
             0.5555555555555556,
             "#1f9e89"
            ],
            [
             0.6666666666666666,
             "#35b779"
            ],
            [
             0.7777777777777778,
             "#6ece58"
            ],
            [
             0.8888888888888888,
             "#b5de2b"
            ],
            [
             1,
             "#fde725"
            ]
           ],
           "sequentialminus": [
            [
             0,
             "#440154"
            ],
            [
             0.1111111111111111,
             "#482878"
            ],
            [
             0.2222222222222222,
             "#3e4989"
            ],
            [
             0.3333333333333333,
             "#31688e"
            ],
            [
             0.4444444444444444,
             "#26828e"
            ],
            [
             0.5555555555555556,
             "#1f9e89"
            ],
            [
             0.6666666666666666,
             "#35b779"
            ],
            [
             0.7777777777777778,
             "#6ece58"
            ],
            [
             0.8888888888888888,
             "#b5de2b"
            ],
            [
             1,
             "#fde725"
            ]
           ]
          },
          "colorway": [
           "#1F77B4",
           "#FF7F0E",
           "#2CA02C",
           "#D62728",
           "#9467BD",
           "#8C564B",
           "#E377C2",
           "#7F7F7F",
           "#BCBD22",
           "#17BECF"
          ],
          "font": {
           "color": "rgb(36,36,36)"
          },
          "geo": {
           "bgcolor": "white",
           "lakecolor": "white",
           "landcolor": "white",
           "showlakes": true,
           "showland": true,
           "subunitcolor": "white"
          },
          "height": 400,
          "hoverlabel": {
           "align": "left"
          },
          "hovermode": "closest",
          "mapbox": {
           "style": "light"
          },
          "margin": {
           "b": 30,
           "l": 30,
           "r": 30,
           "t": 30
          },
          "paper_bgcolor": "white",
          "plot_bgcolor": "white",
          "polar": {
           "angularaxis": {
            "gridcolor": "rgb(232,232,232)",
            "linecolor": "rgb(36,36,36)",
            "showgrid": false,
            "showline": true,
            "ticks": "outside"
           },
           "bgcolor": "white",
           "radialaxis": {
            "gridcolor": "rgb(232,232,232)",
            "linecolor": "rgb(36,36,36)",
            "showgrid": false,
            "showline": true,
            "ticks": "outside"
           }
          },
          "scene": {
           "xaxis": {
            "backgroundcolor": "white",
            "gridcolor": "rgb(232,232,232)",
            "gridwidth": 2,
            "linecolor": "rgb(36,36,36)",
            "showbackground": true,
            "showgrid": false,
            "showline": true,
            "ticks": "outside",
            "zeroline": false,
            "zerolinecolor": "rgb(36,36,36)"
           },
           "yaxis": {
            "backgroundcolor": "white",
            "gridcolor": "rgb(232,232,232)",
            "gridwidth": 2,
            "linecolor": "rgb(36,36,36)",
            "showbackground": true,
            "showgrid": false,
            "showline": true,
            "ticks": "outside",
            "zeroline": false,
            "zerolinecolor": "rgb(36,36,36)"
           },
           "zaxis": {
            "backgroundcolor": "white",
            "gridcolor": "rgb(232,232,232)",
            "gridwidth": 2,
            "linecolor": "rgb(36,36,36)",
            "showbackground": true,
            "showgrid": false,
            "showline": true,
            "ticks": "outside",
            "zeroline": false,
            "zerolinecolor": "rgb(36,36,36)"
           }
          },
          "shapedefaults": {
           "fillcolor": "black",
           "line": {
            "width": 0
           },
           "opacity": 0.3
          },
          "ternary": {
           "aaxis": {
            "gridcolor": "rgb(232,232,232)",
            "linecolor": "rgb(36,36,36)",
            "showgrid": false,
            "showline": true,
            "ticks": "outside"
           },
           "baxis": {
            "gridcolor": "rgb(232,232,232)",
            "linecolor": "rgb(36,36,36)",
            "showgrid": false,
            "showline": true,
            "ticks": "outside"
           },
           "bgcolor": "white",
           "caxis": {
            "gridcolor": "rgb(232,232,232)",
            "linecolor": "rgb(36,36,36)",
            "showgrid": false,
            "showline": true,
            "ticks": "outside"
           }
          },
          "title": {
           "x": 0.5,
           "xanchor": "center"
          },
          "width": 600,
          "xaxis": {
           "automargin": true,
           "gridcolor": "rgb(232,232,232)",
           "linecolor": "rgb(36,36,36)",
           "showgrid": true,
           "showline": true,
           "ticks": "outside",
           "title": {
            "standoff": 15
           },
           "zeroline": false,
           "zerolinecolor": "rgb(36,36,36)"
          },
          "yaxis": {
           "automargin": true,
           "gridcolor": "rgb(232,232,232)",
           "linecolor": "rgb(36,36,36)",
           "showgrid": true,
           "showline": true,
           "ticks": "outside",
           "title": {
            "standoff": 15
           },
           "zeroline": false,
           "zerolinecolor": "rgb(36,36,36)"
          }
         }
        },
        "title": {
         "text": "Gender by Missingness of Child Height"
        },
        "xaxis": {
         "anchor": "y",
         "autorange": true,
         "domain": [
          0,
          1
         ],
         "range": [
          0,
          0.5488721804511278
         ],
         "title": {
          "text": "value"
         },
         "type": "linear"
        },
        "yaxis": {
         "anchor": "x",
         "autorange": true,
         "domain": [
          0,
          1
         ],
         "range": [
          -0.5,
          1.5
         ],
         "title": {
          "text": "gender"
         },
         "type": "category"
        }
       }
      },
      "image/png": "[encoded data removed]"
     },
     "metadata": {},
     "output_type": "display_data"
    }
   ],
   "source": [
    "gender_dist.plot(kind='barh', title='Gender by Missingness of Child Height', barmode='group')"
   ]
  },
  {
   "cell_type": "markdown",
   "id": "b34398a8",
   "metadata": {
    "slideshow": {
     "slide_type": "fragment"
    }
   },
   "source": [
    "To measure the \"distance\" between two categorical distributions, we use the **total variation distance**.\n",
    "\n",
    "Note that  with only two categories, the TVD is the same as the absolute difference in proportions for either category."
   ]
  },
  {
   "cell_type": "markdown",
   "id": "5a12c13e",
   "metadata": {
    "slideshow": {
     "slide_type": "slide"
    }
   },
   "source": [
    "### Simulation\n",
    "\n",
    "The code to run our simulation largely looks the same as in previous permutation tests. Remember, we are comparing two distributions:\n",
    "- The distribution of 'gender' when 'child' is missing.\n",
    "- The distribution of 'gender' when 'child' is not missing."
   ]
  },
  {
   "cell_type": "code",
   "execution_count": 12,
   "id": "57194779",
   "metadata": {
    "slideshow": {
     "slide_type": "-"
    }
   },
   "outputs": [],
   "source": [
    "n_repetitions = 1000\n",
    "shuffled = heights_mcar.copy()\n",
    "\n",
    "tvds = []\n",
    "for _ in range(n_repetitions):\n",
    "    \n",
    "    # Shuffling genders. \n",
    "    # Note that we are assigning back to the same DataFrame for performance reasons; \n",
    "    # see https://dsc80.com/resources/lectures/lec07/lec07-fast-permutation-tests.html.\n",
    "    shuffled['gender'] = np.random.permutation(shuffled['gender'])\n",
    "    \n",
    "    # Computing and storing the TVD.\n",
    "    pivoted = (\n",
    "        shuffled\n",
    "        .pivot_table(index='gender', columns='child_missing', aggfunc='size')\n",
    "    )\n",
    "    \n",
    "    pivoted = pivoted / pivoted.sum()\n",
    "    \n",
    "    tvd = pivoted.diff(axis=1).iloc[:, -1].abs().sum() / 2\n",
    "    tvds.append(tvd)"
   ]
  },
  {
   "cell_type": "code",
   "execution_count": 13,
   "id": "f952a343",
   "metadata": {
    "scrolled": true
   },
   "outputs": [
    {
     "data": {
      "text/plain": [
       "np.float64(0.009196155526430771)"
      ]
     },
     "execution_count": 13,
     "metadata": {},
     "output_type": "execute_result"
    }
   ],
   "source": [
    "observed_tvd = gender_dist.diff(axis=1).iloc[:, -1].abs().sum() / 2\n",
    "observed_tvd"
   ]
  },
  {
   "cell_type": "markdown",
   "id": "6ae18299",
   "metadata": {
    "slideshow": {
     "slide_type": "slide"
    }
   },
   "source": [
    "### Results"
   ]
  },
  {
   "cell_type": "code",
   "execution_count": 14,
   "id": "a16bbf02",
   "metadata": {},
   "outputs": [
    {
     "data": {
      "application/vnd.plotly.v1+json": {
       "config": {
        "plotlyServerURL": "https://plot.ly"
       },
       "data": [
        {
         "alignmentgroup": "True",
         "bingroup": "x",
         "histnorm": "probability",
         "hovertemplate": "0=%{x}<br>probability=%{y}<extra></extra>",
         "legendgroup": "",
         "marker": {
          "color": "#1F77B4",
          "pattern": {
           "shape": ""
          }
         },
         "name": "",
         "nbinsx": 50,
         "offsetgroup": "",
         "orientation": "v",
         "showlegend": false,
         "type": "histogram",
         "x": [
          0.0061052861511577405,
          0.014296636085626924,
          0.016306247269550017,
          0.021406727828746197,
          0.011205766710353893,
          0.08771297509829615,
          0.029598077763215352,
          0.05000000000000002,
          0.046909130624726986,
          0.0010048055919615606,
          0.011205766710353893,
          0.026507208387942294,
          0.04180865006553075,
          0.016306247269550017,
          0.026507208387942294,
          0.019397116644823104,
          0.05200961118392311,
          0.024497597204019228,
          0.011205766710353893,
          0.0061052861511577405,
          0.014296636085626924,
          0.046909130624726986,
          0.031607688947138474,
          0.03469855832241156,
          0.036708169506334626,
          0.024497597204019228,
          0.03469855832241156,
          0.026507208387942294,
          0.05711009174311929,
          0.019397116644823104,
          0.024497597204019228,
          0.021406727828746197,
          0.04180865006553075,
          0.06530144167758845,
          0.0061052861511577405,
          0.029598077763215352,
          0.011205766710353893,
          0.011205766710353893,
          0.011205766710353893,
          0.021406727828746197,
          0.004095674967234619,
          0.004095674967234619,
          0.05200961118392311,
          0.026507208387942294,
          0.05510048055919614,
          0.05200961118392311,
          0.04180865006553075,
          0.004095674967234619,
          0.04180865006553075,
          0.0010048055919615606,
          0.019397116644823104,
          0.026507208387942294,
          0.03979903888160766,
          0.011205766710353893,
          0.014296636085626924,
          0.029598077763215352,
          0.014296636085626924,
          0.05711009174311929,
          0.08261249453910005,
          0.0010048055919615606,
          0.019397116644823104,
          0.019397116644823104,
          0.019397116644823104,
          0.04180865006553075,
          0.0061052861511577405,
          0.009196155526430771,
          0.019397116644823104,
          0.014296636085626924,
          0.05711009174311929,
          0.011205766710353893,
          0.08570336391437308,
          0.03979903888160766,
          0.03979903888160766,
          0.009196155526430771,
          0.05711009174311929,
          0.014296636085626924,
          0.026507208387942294,
          0.03979903888160766,
          0.03469855832241156,
          0.036708169506334626,
          0.046909130624726986,
          0.026507208387942294,
          0.011205766710353893,
          0.026507208387942294,
          0.019397116644823104,
          0.03469855832241156,
          0.03469855832241156,
          0.004095674967234619,
          0.009196155526430771,
          0.031607688947138474,
          0.0061052861511577405,
          0.021406727828746197,
          0.05000000000000002,
          0.014296636085626924,
          0.0010048055919615606,
          0.03469855832241156,
          0.011205766710353893,
          0.011205766710353893,
          0.024497597204019228,
          0.021406727828746197,
          0.0061052861511577405,
          0.016306247269550017,
          0.04180865006553075,
          0.03979903888160766,
          0.031607688947138474,
          0.06020096111839235,
          0.05000000000000002,
          0.09080384447356926,
          0.004095674967234619,
          0.024497597204019228,
          0.036708169506334626,
          0.011205766710353893,
          0.026507208387942294,
          0.07040192223678463,
          0.036708169506334626,
          0.014296636085626924,
          0.05000000000000002,
          0.03469855832241156,
          0.0010048055919615606,
          0.046909130624726986,
          0.011205766710353893,
          0.03979903888160766,
          0.019397116644823104,
          0.0010048055919615606,
          0.04180865006553075,
          0.029598077763215352,
          0.07241153342070772,
          0.05000000000000002,
          0.06020096111839235,
          0.021406727828746197,
          0.03979903888160766,
          0.019397116644823104,
          0.016306247269550017,
          0.011205766710353893,
          0.031607688947138474,
          0.04489951944080384,
          0.03979903888160766,
          0.019397116644823104,
          0.046909130624726986,
          0.011205766710353893,
          0.031607688947138474,
          0.05510048055919614,
          0.029598077763215352,
          0.029598077763215352,
          0.021406727828746197,
          0.036708169506334626,
          0.03469855832241156,
          0.026507208387942294,
          0.026507208387942294,
          0.03469855832241156,
          0.05000000000000002,
          0.0061052861511577405,
          0.026507208387942294,
          0.024497597204019228,
          0.04180865006553075,
          0.004095674967234619,
          0.011205766710353893,
          0.05200961118392311,
          0.004095674967234619,
          0.0806028833551769,
          0.05000000000000002,
          0.06020096111839235,
          0.05000000000000002,
          0.016306247269550017,
          0.021406727828746197,
          0.05200961118392311,
          0.046909130624726986,
          0.014296636085626924,
          0.024497597204019228,
          0.0010048055919615606,
          0.07751201397990387,
          0.029598077763215352,
          0.021406727828746197,
          0.0673110528615116,
          0.009196155526430771,
          0.0806028833551769,
          0.011205766710353893,
          0.046909130624726986,
          0.004095674967234619,
          0.019397116644823104,
          0.05510048055919614,
          0.0673110528615116,
          0.019397116644823104,
          0.09590432503276541,
          0.011205766710353893,
          0.03469855832241156,
          0.03469855832241156,
          0.10301441677588466,
          0.03469855832241156,
          0.036708169506334626,
          0.062210572302315414,
          0.0010048055919615606,
          0.011205766710353893,
          0.06020096111839235,
          0.07241153342070772,
          0.009196155526430771,
          0.016306247269550017,
          0.009196155526430771,
          0.009196155526430771,
          0.019397116644823104,
          0.03979903888160766,
          0.026507208387942294,
          0.05200961118392311,
          0.019397116644823104,
          0.036708169506334626,
          0.009196155526430771,
          0.019397116644823104,
          0.021406727828746197,
          0.016306247269550017,
          0.04180865006553075,
          0.014296636085626924,
          0.024497597204019228,
          0.06020096111839235,
          0.0061052861511577405,
          0.05200961118392311,
          0.03979903888160766,
          0.029598077763215352,
          0.024497597204019228,
          0.0061052861511577405,
          0.04180865006553075,
          0.014296636085626924,
          0.09281345565749238,
          0.0673110528615116,
          0.009196155526430771,
          0.011205766710353893,
          0.03469855832241156,
          0.016306247269550017,
          0.0061052861511577405,
          0.07241153342070772,
          0.05510048055919614,
          0.016306247269550017,
          0.031607688947138474,
          0.03469855832241156,
          0.05200961118392311,
          0.0673110528615116,
          0.016306247269550017,
          0.06530144167758845,
          0.016306247269550017,
          0.05711009174311929,
          0.07241153342070772,
          0.0061052861511577405,
          0.011205766710353893,
          0.011205766710353893,
          0.021406727828746197,
          0.05000000000000002,
          0.014296636085626924,
          0.019397116644823104,
          0.03979903888160766,
          0.03469855832241156,
          0.011205766710353893,
          0.0061052861511577405,
          0.009196155526430771,
          0.031607688947138474,
          0.021406727828746197,
          0.0061052861511577405,
          0.04489951944080384,
          0.014296636085626924,
          0.026507208387942294,
          0.036708169506334626,
          0.04180865006553075,
          0.06530144167758845,
          0.026507208387942294,
          0.05711009174311929,
          0.029598077763215352,
          0.05000000000000002,
          0.004095674967234619,
          0.0010048055919615606,
          0.026507208387942294,
          0.036708169506334626,
          0.036708169506334626,
          0.009196155526430771,
          0.0061052861511577405,
          0.11321537789427696,
          0.019397116644823104,
          0.05000000000000002,
          0.016306247269550017,
          0.011205766710353893,
          0.05711009174311929,
          0.05510048055919614,
          0.011205766710353893,
          0.024497597204019228,
          0.031607688947138474,
          0.031607688947138474,
          0.03469855832241156,
          0.026507208387942294,
          0.004095674967234619,
          0.0061052861511577405,
          0.0010048055919615606,
          0.0010048055919615606,
          0.05200961118392311,
          0.036708169506334626,
          0.06020096111839235,
          0.036708169506334626,
          0.03469855832241156,
          0.009196155526430771,
          0.029598077763215352,
          0.10301441677588466,
          0.0061052861511577405,
          0.05711009174311929,
          0.021406727828746197,
          0.036708169506334626,
          0.004095674967234619,
          0.03979903888160766,
          0.05510048055919614,
          0.004095674967234619,
          0.05000000000000002,
          0.031607688947138474,
          0.03469855832241156,
          0.0061052861511577405,
          0.03469855832241156,
          0.05000000000000002,
          0.029598077763215352,
          0.0010048055919615606,
          0.014296636085626924,
          0.016306247269550017,
          0.024497597204019228,
          0.014296636085626924,
          0.011205766710353893,
          0.016306247269550017,
          0.11630624726955,
          0.031607688947138474,
          0.019397116644823104,
          0.019397116644823104,
          0.05200961118392311,
          0.05711009174311929,
          0.046909130624726986,
          0.04180865006553075,
          0.021406727828746197,
          0.0061052861511577405,
          0.026507208387942294,
          0.0010048055919615606,
          0.024497597204019228,
          0.021406727828746197,
          0.016306247269550017,
          0.024497597204019228,
          0.07550240279598075,
          0.0061052861511577405,
          0.07241153342070772,
          0.021406727828746197,
          0.009196155526430771,
          0.024497597204019228,
          0.014296636085626924,
          0.021406727828746197,
          0.004095674967234619,
          0.13670816950633466,
          0.05200961118392311,
          0.0673110528615116,
          0.0061052861511577405,
          0.0010048055919615606,
          0.0061052861511577405,
          0.019397116644823104,
          0.031607688947138474,
          0.024497597204019228,
          0.009196155526430771,
          0.011205766710353893,
          0.029598077763215352,
          0.016306247269550017,
          0.05510048055919614,
          0.0673110528615116,
          0.12140672782874617,
          0.0010048055919615606,
          0.024497597204019228,
          0.029598077763215352,
          0.016306247269550017,
          0.011205766710353893,
          0.0010048055919615606,
          0.0010048055919615606,
          0.036708169506334626,
          0.036708169506334626,
          0.024497597204019228,
          0.019397116644823104,
          0.0010048055919615606,
          0.026507208387942294,
          0.026507208387942294,
          0.0061052861511577405,
          0.0010048055919615606,
          0.03469855832241156,
          0.004095674967234619,
          0.04180865006553075,
          0.06020096111839235,
          0.06020096111839235,
          0.0061052861511577405,
          0.0673110528615116,
          0.031607688947138474,
          0.05000000000000002,
          0.0061052861511577405,
          0.0010048055919615606,
          0.05200961118392311,
          0.011205766710353893,
          0.0010048055919615606,
          0.05510048055919614,
          0.009196155526430771,
          0.031607688947138474,
          0.03979903888160766,
          0.031607688947138474,
          0.04180865006553075,
          0.036708169506334626,
          0.0010048055919615606,
          0.019397116644823104,
          0.03979903888160766,
          0.0061052861511577405,
          0.0061052861511577405,
          0.05200961118392311,
          0.029598077763215352,
          0.016306247269550017,
          0.046909130624726986,
          0.05510048055919614,
          0.0061052861511577405,
          0.031607688947138474,
          0.009196155526430771,
          0.0061052861511577405,
          0.036708169506334626,
          0.004095674967234619,
          0.0010048055919615606,
          0.024497597204019228,
          0.06020096111839235,
          0.011205766710353893,
          0.016306247269550017,
          0.019397116644823104,
          0.04489951944080384,
          0.014296636085626924,
          0.011205766710353893,
          0.011205766710353893,
          0.009196155526430771,
          0.019397116644823104,
          0.12341633901266927,
          0.046909130624726986,
          0.021406727828746197,
          0.026507208387942294,
          0.011205766710353893,
          0.011205766710353893,
          0.019397116644823104,
          0.026507208387942294,
          0.004095674967234619,
          0.019397116644823104,
          0.06020096111839235,
          0.016306247269550017,
          0.036708169506334626,
          0.019397116644823104,
          0.019397116644823104,
          0.014296636085626924,
          0.024497597204019228,
          0.019397116644823104,
          0.026507208387942294,
          0.0061052861511577405,
          0.009196155526430771,
          0.09080384447356926,
          0.026507208387942294,
          0.029598077763215352,
          0.04180865006553075,
          0.031607688947138474,
          0.024497597204019228,
          0.04489951944080384,
          0.046909130624726986,
          0.0061052861511577405,
          0.004095674967234619,
          0.05200961118392311,
          0.031607688947138474,
          0.07751201397990387,
          0.0061052861511577405,
          0.009196155526430771,
          0.016306247269550017,
          0.04489951944080384,
          0.03469855832241156,
          0.016306247269550017,
          0.062210572302315414,
          0.004095674967234619,
          0.0010048055919615606,
          0.06530144167758845,
          0.014296636085626924,
          0.019397116644823104,
          0.016306247269550017,
          0.021406727828746197,
          0.036708169506334626,
          0.021406727828746197,
          0.021406727828746197,
          0.04180865006553075,
          0.04489951944080384,
          0.0010048055919615606,
          0.0061052861511577405,
          0.016306247269550017,
          0.004095674967234619,
          0.0061052861511577405,
          0.019397116644823104,
          0.03469855832241156,
          0.024497597204019228,
          0.0061052861511577405,
          0.021406727828746197,
          0.04180865006553075,
          0.05000000000000002,
          0.046909130624726986,
          0.05711009174311929,
          0.05711009174311929,
          0.019397116644823104,
          0.046909130624726986,
          0.009196155526430771,
          0.004095674967234619,
          0.0010048055919615606,
          0.016306247269550017,
          0.0061052861511577405,
          0.036708169506334626,
          0.026507208387942294,
          0.021406727828746197,
          0.011205766710353893,
          0.05200961118392311,
          0.016306247269550017,
          0.03469855832241156,
          0.014296636085626924,
          0.10610528615115775,
          0.05711009174311929,
          0.016306247269550017,
          0.011205766710353893,
          0.014296636085626924,
          0.004095674967234619,
          0.031607688947138474,
          0.019397116644823104,
          0.026507208387942294,
          0.014296636085626924,
          0.029598077763215352,
          0.014296636085626924,
          0.031607688947138474,
          0.021406727828746197,
          0.0010048055919615606,
          0.004095674967234619,
          0.046909130624726986,
          0.024497597204019228,
          0.014296636085626924,
          0.014296636085626924,
          0.004095674967234619,
          0.026507208387942294,
          0.04180865006553075,
          0.009196155526430771,
          0.04180865006553075,
          0.009196155526430771,
          0.05000000000000002,
          0.009196155526430771,
          0.03469855832241156,
          0.026507208387942294,
          0.011205766710353893,
          0.05200961118392311,
          0.05200961118392311,
          0.03469855832241156,
          0.0010048055919615606,
          0.011205766710353893,
          0.004095674967234619,
          0.03469855832241156,
          0.062210572302315414,
          0.009196155526430771,
          0.004095674967234619,
          0.031607688947138474,
          0.03979903888160766,
          0.011205766710353893,
          0.0010048055919615606,
          0.036708169506334626,
          0.062210572302315414,
          0.024497597204019228,
          0.06020096111839235,
          0.016306247269550017,
          0.021406727828746197,
          0.011205766710353893,
          0.05000000000000002,
          0.09281345565749238,
          0.0010048055919615606,
          0.019397116644823104,
          0.029598077763215352,
          0.10100480559196154,
          0.0010048055919615606,
          0.016306247269550017,
          0.03469855832241156,
          0.009196155526430771,
          0.029598077763215352,
          0.036708169506334626,
          0.014296636085626924,
          0.04180865006553075,
          0.019397116644823104,
          0.016306247269550017,
          0.0010048055919615606,
          0.046909130624726986,
          0.014296636085626924,
          0.024497597204019228,
          0.011205766710353893,
          0.004095674967234619,
          0.004095674967234619,
          0.016306247269550017,
          0.021406727828746197,
          0.019397116644823104,
          0.03979903888160766,
          0.05510048055919614,
          0.0061052861511577405,
          0.05510048055919614,
          0.019397116644823104,
          0.011205766710353893,
          0.016306247269550017,
          0.0010048055919615606,
          0.004095674967234619,
          0.019397116644823104,
          0.07040192223678463,
          0.036708169506334626,
          0.016306247269550017,
          0.026507208387942294,
          0.021406727828746197,
          0.004095674967234619,
          0.024497597204019228,
          0.029598077763215352,
          0.0673110528615116,
          0.026507208387942294,
          0.014296636085626924,
          0.10301441677588466,
          0.021406727828746197,
          0.004095674967234619,
          0.031607688947138474,
          0.009196155526430771,
          0.06020096111839235,
          0.0010048055919615606,
          0.004095674967234619,
          0.04180865006553075,
          0.031607688947138474,
          0.019397116644823104,
          0.026507208387942294,
          0.016306247269550017,
          0.011205766710353893,
          0.07241153342070772,
          0.0010048055919615606,
          0.046909130624726986,
          0.04489951944080384,
          0.05200961118392311,
          0.026507208387942294,
          0.06530144167758845,
          0.06530144167758845,
          0.011205766710353893,
          0.05000000000000002,
          0.04180865006553075,
          0.0010048055919615606,
          0.09281345565749238,
          0.019397116644823104,
          0.016306247269550017,
          0.04180865006553075,
          0.06530144167758845,
          0.014296636085626924,
          0.024497597204019228,
          0.031607688947138474,
          0.026507208387942294,
          0.0061052861511577405,
          0.03979903888160766,
          0.03979903888160766,
          0.03469855832241156,
          0.014296636085626924,
          0.019397116644823104,
          0.031607688947138474,
          0.062210572302315414,
          0.03469855832241156,
          0.04180865006553075,
          0.014296636085626924,
          0.021406727828746197,
          0.03979903888160766,
          0.062210572302315414,
          0.046909130624726986,
          0.011205766710353893,
          0.04180865006553075,
          0.016306247269550017,
          0.031607688947138474,
          0.036708169506334626,
          0.031607688947138474,
          0.004095674967234619,
          0.004095674967234619,
          0.014296636085626924,
          0.004095674967234619,
          0.004095674967234619,
          0.0061052861511577405,
          0.062210572302315414,
          0.0061052861511577405,
          0.029598077763215352,
          0.004095674967234619,
          0.05200961118392311,
          0.036708169506334626,
          0.031607688947138474,
          0.004095674967234619,
          0.036708169506334626,
          0.0010048055919615606,
          0.016306247269550017,
          0.03469855832241156,
          0.03469855832241156,
          0.062210572302315414,
          0.029598077763215352,
          0.009196155526430771,
          0.019397116644823104,
          0.05711009174311929,
          0.026507208387942294,
          0.09791393621668851,
          0.05200961118392311,
          0.016306247269550017,
          0.029598077763215352,
          0.03469855832241156,
          0.04180865006553075,
          0.046909130624726986,
          0.036708169506334626,
          0.03469855832241156,
          0.021406727828746197,
          0.08261249453910005,
          0.03979903888160766,
          0.021406727828746197,
          0.004095674967234619,
          0.029598077763215352,
          0.03979903888160766,
          0.011205766710353893,
          0.0061052861511577405,
          0.05711009174311929,
          0.08261249453910005,
          0.026507208387942294,
          0.026507208387942294,
          0.029598077763215352,
          0.0010048055919615606,
          0.026507208387942294,
          0.016306247269550017,
          0.009196155526430771,
          0.03469855832241156,
          0.062210572302315414,
          0.03469855832241156,
          0.021406727828746197,
          0.029598077763215352,
          0.019397116644823104,
          0.05510048055919614,
          0.04180865006553075,
          0.016306247269550017,
          0.0061052861511577405,
          0.004095674967234619,
          0.0061052861511577405,
          0.024497597204019228,
          0.09080384447356926,
          0.024497597204019228,
          0.05200961118392311,
          0.03469855832241156,
          0.0061052861511577405,
          0.04180865006553075,
          0.0010048055919615606,
          0.014296636085626924,
          0.05000000000000002,
          0.03469855832241156,
          0.0010048055919615606,
          0.024497597204019228,
          0.04180865006553075,
          0.05000000000000002,
          0.004095674967234619,
          0.029598077763215352,
          0.024497597204019228,
          0.029598077763215352,
          0.05510048055919614,
          0.024497597204019228,
          0.0010048055919615606,
          0.009196155526430771,
          0.011205766710353893,
          0.0806028833551769,
          0.05200961118392311,
          0.06530144167758845,
          0.05000000000000002,
          0.019397116644823104,
          0.021406727828746197,
          0.029598077763215352,
          0.0010048055919615606,
          0.019397116644823104,
          0.08771297509829615,
          0.004095674967234619,
          0.036708169506334626,
          0.0061052861511577405,
          0.014296636085626924,
          0.08261249453910005,
          0.05000000000000002,
          0.014296636085626924,
          0.014296636085626924,
          0.062210572302315414,
          0.024497597204019228,
          0.04489951944080384,
          0.021406727828746197,
          0.05510048055919614,
          0.0010048055919615606,
          0.024497597204019228,
          0.05200961118392311,
          0.04180865006553075,
          0.014296636085626924,
          0.011205766710353893,
          0.029598077763215352,
          0.0010048055919615606,
          0.016306247269550017,
          0.04180865006553075,
          0.046909130624726986,
          0.046909130624726986,
          0.04180865006553075,
          0.03979903888160766,
          0.0010048055919615606,
          0.0010048055919615606,
          0.0061052861511577405,
          0.03469855832241156,
          0.009196155526430771,
          0.06530144167758845,
          0.0010048055919615606,
          0.05000000000000002,
          0.04180865006553075,
          0.024497597204019228,
          0.004095674967234619,
          0.011205766710353893,
          0.004095674967234619,
          0.0061052861511577405,
          0.024497597204019228,
          0.016306247269550017,
          0.05510048055919614,
          0.04489951944080384,
          0.016306247269550017,
          0.031607688947138474,
          0.05711009174311929,
          0.011205766710353893,
          0.0673110528615116,
          0.021406727828746197,
          0.0010048055919615606,
          0.011205766710353893,
          0.021406727828746197,
          0.014296636085626924,
          0.031607688947138474,
          0.011205766710353893,
          0.024497597204019228,
          0.011205766710353893,
          0.05000000000000002,
          0.036708169506334626,
          0.07751201397990387,
          0.036708169506334626,
          0.03469855832241156,
          0.026507208387942294,
          0.026507208387942294,
          0.029598077763215352,
          0.026507208387942294,
          0.0061052861511577405,
          0.021406727828746197,
          0.026507208387942294,
          0.009196155526430771,
          0.016306247269550017,
          0.15401922236784624,
          0.026507208387942294,
          0.016306247269550017,
          0.029598077763215352,
          0.024497597204019228,
          0.029598077763215352,
          0.05200961118392311,
          0.0806028833551769,
          0.0010048055919615606,
          0.0010048055919615606,
          0.021406727828746197,
          0.014296636085626924,
          0.009196155526430771,
          0.0061052861511577405,
          0.046909130624726986,
          0.04180865006553075,
          0.016306247269550017,
          0.024497597204019228,
          0.024497597204019228,
          0.05510048055919614,
          0.031607688947138474,
          0.08771297509829615,
          0.0061052861511577405,
          0.0061052861511577405,
          0.021406727828746197,
          0.014296636085626924,
          0.03979903888160766,
          0.10301441677588466,
          0.07241153342070772,
          0.0010048055919615606,
          0.0061052861511577405,
          0.029598077763215352,
          0.024497597204019228,
          0.0010048055919615606,
          0.03469855832241156,
          0.016306247269550017,
          0.04180865006553075,
          0.046909130624726986,
          0.016306247269550017,
          0.026507208387942294,
          0.026507208387942294,
          0.011205766710353893,
          0.0061052861511577405,
          0.016306247269550017,
          0.021406727828746197,
          0.011205766710353893,
          0.0010048055919615606,
          0.0061052861511577405,
          0.05000000000000002,
          0.009196155526430771,
          0.05200961118392311,
          0.036708169506334626,
          0.07241153342070772,
          0.019397116644823104,
          0.004095674967234619,
          0.026507208387942294,
          0.016306247269550017,
          0.05000000000000002,
          0.04489951944080384,
          0.036708169506334626,
          0.08261249453910005,
          0.0061052861511577405,
          0.031607688947138474,
          0.021406727828746197,
          0.0061052861511577405,
          0.07751201397990387,
          0.0010048055919615606,
          0.016306247269550017,
          0.04180865006553075,
          0.016306247269550017,
          0.024497597204019228,
          0.014296636085626924,
          0.04489951944080384,
          0.014296636085626924,
          0.021406727828746197,
          0.019397116644823104,
          0.016306247269550017,
          0.04489951944080384,
          0.062210572302315414,
          0.019397116644823104,
          0.011205766710353893,
          0.029598077763215352,
          0.04180865006553075,
          0.014296636085626924,
          0.009196155526430771,
          0.04489951944080384,
          0.011205766710353893,
          0.021406727828746197,
          0.011205766710353893,
          0.0010048055919615606,
          0.009196155526430771,
          0.05711009174311929,
          0.036708169506334626,
          0.029598077763215352,
          0.011205766710353893,
          0.029598077763215352,
          0.016306247269550017,
          0.029598077763215352,
          0.009196155526430771,
          0.07550240279598075,
          0.04489951944080384,
          0.05200961118392311,
          0.021406727828746197,
          0.062210572302315414,
          0.014296636085626924,
          0.004095674967234619,
          0.03979903888160766,
          0.031607688947138474,
          0.03469855832241156,
          0.0010048055919615606,
          0.011205766710353893,
          0.03469855832241156,
          0.004095674967234619,
          0.0061052861511577405,
          0.011205766710353893,
          0.03979903888160766,
          0.026507208387942294,
          0.021406727828746197,
          0.05711009174311929,
          0.0806028833551769,
          0.04180865006553075,
          0.05200961118392311,
          0.03469855832241156,
          0.029598077763215352,
          0.062210572302315414,
          0.014296636085626924,
          0.016306247269550017,
          0.06020096111839235,
          0.031607688947138474,
          0.014296636085626924,
          0.029598077763215352,
          0.0061052861511577405,
          0.05000000000000002,
          0.019397116644823104,
          0.024497597204019228,
          0.021406727828746197,
          0.029598077763215352,
          0.062210572302315414,
          0.014296636085626924,
          0.0061052861511577405,
          0.019397116644823104,
          0.026507208387942294,
          0.046909130624726986,
          0.046909130624726986,
          0.014296636085626924,
          0.09590432503276541,
          0.03979903888160766,
          0.05000000000000002,
          0.021406727828746197,
          0.029598077763215352,
          0.0061052861511577405,
          0.021406727828746197,
          0.021406727828746197,
          0.036708169506334626,
          0.03979903888160766,
          0.046909130624726986,
          0.011205766710353893,
          0.0061052861511577405,
          0.029598077763215352,
          0.004095674967234619,
          0.021406727828746197,
          0.016306247269550017,
          0.014296636085626924,
          0.0010048055919615606,
          0.026507208387942294,
          0.004095674967234619
         ],
         "xaxis": "x",
         "yaxis": "y"
        }
       ],
       "layout": {
        "annotations": [
         {
          "showarrow": false,
          "text": "<span style=\"color:red\">Observed TVD = 0.01</span>",
          "x": 0.021151157710790774,
          "y": 0.16
         }
        ],
        "autosize": true,
        "barmode": "relative",
        "legend": {
         "tracegroupgap": 0
        },
        "shapes": [
         {
          "line": {
           "color": "red"
          },
          "type": "line",
          "x0": 0.009196155526430771,
          "x1": 0.009196155526430771,
          "xref": "x",
          "y0": 0,
          "y1": 1,
          "yref": "y domain"
         }
        ],
        "template": {
         "data": {
          "bar": [
           {
            "error_x": {
             "color": "rgb(36,36,36)"
            },
            "error_y": {
             "color": "rgb(36,36,36)"
            },
            "marker": {
             "line": {
              "color": "white",
              "width": 0.5
             },
             "pattern": {
              "fillmode": "overlay",
              "size": 10,
              "solidity": 0.2
             }
            },
            "type": "bar"
           }
          ],
          "barpolar": [
           {
            "marker": {
             "line": {
              "color": "white",
              "width": 0.5
             },
             "pattern": {
              "fillmode": "overlay",
              "size": 10,
              "solidity": 0.2
             }
            },
            "type": "barpolar"
           }
          ],
          "carpet": [
           {
            "aaxis": {
             "endlinecolor": "rgb(36,36,36)",
             "gridcolor": "white",
             "linecolor": "white",
             "minorgridcolor": "white",
             "startlinecolor": "rgb(36,36,36)"
            },
            "baxis": {
             "endlinecolor": "rgb(36,36,36)",
             "gridcolor": "white",
             "linecolor": "white",
             "minorgridcolor": "white",
             "startlinecolor": "rgb(36,36,36)"
            },
            "type": "carpet"
           }
          ],
          "choropleth": [
           {
            "colorbar": {
             "outlinewidth": 1,
             "tickcolor": "rgb(36,36,36)",
             "ticks": "outside"
            },
            "type": "choropleth"
           }
          ],
          "contour": [
           {
            "colorbar": {
             "outlinewidth": 1,
             "tickcolor": "rgb(36,36,36)",
             "ticks": "outside"
            },
            "colorscale": [
             [
              0,
              "#440154"
             ],
             [
              0.1111111111111111,
              "#482878"
             ],
             [
              0.2222222222222222,
              "#3e4989"
             ],
             [
              0.3333333333333333,
              "#31688e"
             ],
             [
              0.4444444444444444,
              "#26828e"
             ],
             [
              0.5555555555555556,
              "#1f9e89"
             ],
             [
              0.6666666666666666,
              "#35b779"
             ],
             [
              0.7777777777777778,
              "#6ece58"
             ],
             [
              0.8888888888888888,
              "#b5de2b"
             ],
             [
              1,
              "#fde725"
             ]
            ],
            "type": "contour"
           }
          ],
          "contourcarpet": [
           {
            "colorbar": {
             "outlinewidth": 1,
             "tickcolor": "rgb(36,36,36)",
             "ticks": "outside"
            },
            "type": "contourcarpet"
           }
          ],
          "heatmap": [
           {
            "colorbar": {
             "outlinewidth": 1,
             "tickcolor": "rgb(36,36,36)",
             "ticks": "outside"
            },
            "colorscale": [
             [
              0,
              "#440154"
             ],
             [
              0.1111111111111111,
              "#482878"
             ],
             [
              0.2222222222222222,
              "#3e4989"
             ],
             [
              0.3333333333333333,
              "#31688e"
             ],
             [
              0.4444444444444444,
              "#26828e"
             ],
             [
              0.5555555555555556,
              "#1f9e89"
             ],
             [
              0.6666666666666666,
              "#35b779"
             ],
             [
              0.7777777777777778,
              "#6ece58"
             ],
             [
              0.8888888888888888,
              "#b5de2b"
             ],
             [
              1,
              "#fde725"
             ]
            ],
            "type": "heatmap"
           }
          ],
          "heatmapgl": [
           {
            "colorbar": {
             "outlinewidth": 1,
             "tickcolor": "rgb(36,36,36)",
             "ticks": "outside"
            },
            "colorscale": [
             [
              0,
              "#440154"
             ],
             [
              0.1111111111111111,
              "#482878"
             ],
             [
              0.2222222222222222,
              "#3e4989"
             ],
             [
              0.3333333333333333,
              "#31688e"
             ],
             [
              0.4444444444444444,
              "#26828e"
             ],
             [
              0.5555555555555556,
              "#1f9e89"
             ],
             [
              0.6666666666666666,
              "#35b779"
             ],
             [
              0.7777777777777778,
              "#6ece58"
             ],
             [
              0.8888888888888888,
              "#b5de2b"
             ],
             [
              1,
              "#fde725"
             ]
            ],
            "type": "heatmapgl"
           }
          ],
          "histogram": [
           {
            "marker": {
             "line": {
              "color": "white",
              "width": 0.6
             }
            },
            "type": "histogram"
           }
          ],
          "histogram2d": [
           {
            "colorbar": {
             "outlinewidth": 1,
             "tickcolor": "rgb(36,36,36)",
             "ticks": "outside"
            },
            "colorscale": [
             [
              0,
              "#440154"
             ],
             [
              0.1111111111111111,
              "#482878"
             ],
             [
              0.2222222222222222,
              "#3e4989"
             ],
             [
              0.3333333333333333,
              "#31688e"
             ],
             [
              0.4444444444444444,
              "#26828e"
             ],
             [
              0.5555555555555556,
              "#1f9e89"
             ],
             [
              0.6666666666666666,
              "#35b779"
             ],
             [
              0.7777777777777778,
              "#6ece58"
             ],
             [
              0.8888888888888888,
              "#b5de2b"
             ],
             [
              1,
              "#fde725"
             ]
            ],
            "type": "histogram2d"
           }
          ],
          "histogram2dcontour": [
           {
            "colorbar": {
             "outlinewidth": 1,
             "tickcolor": "rgb(36,36,36)",
             "ticks": "outside"
            },
            "colorscale": [
             [
              0,
              "#440154"
             ],
             [
              0.1111111111111111,
              "#482878"
             ],
             [
              0.2222222222222222,
              "#3e4989"
             ],
             [
              0.3333333333333333,
              "#31688e"
             ],
             [
              0.4444444444444444,
              "#26828e"
             ],
             [
              0.5555555555555556,
              "#1f9e89"
             ],
             [
              0.6666666666666666,
              "#35b779"
             ],
             [
              0.7777777777777778,
              "#6ece58"
             ],
             [
              0.8888888888888888,
              "#b5de2b"
             ],
             [
              1,
              "#fde725"
             ]
            ],
            "type": "histogram2dcontour"
           }
          ],
          "mesh3d": [
           {
            "colorbar": {
             "outlinewidth": 1,
             "tickcolor": "rgb(36,36,36)",
             "ticks": "outside"
            },
            "type": "mesh3d"
           }
          ],
          "parcoords": [
           {
            "line": {
             "colorbar": {
              "outlinewidth": 1,
              "tickcolor": "rgb(36,36,36)",
              "ticks": "outside"
             }
            },
            "type": "parcoords"
           }
          ],
          "pie": [
           {
            "automargin": true,
            "type": "pie"
           }
          ],
          "scatter": [
           {
            "fillpattern": {
             "fillmode": "overlay",
             "size": 10,
             "solidity": 0.2
            },
            "type": "scatter"
           }
          ],
          "scatter3d": [
           {
            "line": {
             "colorbar": {
              "outlinewidth": 1,
              "tickcolor": "rgb(36,36,36)",
              "ticks": "outside"
             }
            },
            "marker": {
             "colorbar": {
              "outlinewidth": 1,
              "tickcolor": "rgb(36,36,36)",
              "ticks": "outside"
             }
            },
            "type": "scatter3d"
           }
          ],
          "scattercarpet": [
           {
            "marker": {
             "colorbar": {
              "outlinewidth": 1,
              "tickcolor": "rgb(36,36,36)",
              "ticks": "outside"
             }
            },
            "type": "scattercarpet"
           }
          ],
          "scattergeo": [
           {
            "marker": {
             "colorbar": {
              "outlinewidth": 1,
              "tickcolor": "rgb(36,36,36)",
              "ticks": "outside"
             }
            },
            "type": "scattergeo"
           }
          ],
          "scattergl": [
           {
            "marker": {
             "colorbar": {
              "outlinewidth": 1,
              "tickcolor": "rgb(36,36,36)",
              "ticks": "outside"
             }
            },
            "type": "scattergl"
           }
          ],
          "scattermapbox": [
           {
            "marker": {
             "colorbar": {
              "outlinewidth": 1,
              "tickcolor": "rgb(36,36,36)",
              "ticks": "outside"
             }
            },
            "type": "scattermapbox"
           }
          ],
          "scatterpolar": [
           {
            "marker": {
             "colorbar": {
              "outlinewidth": 1,
              "tickcolor": "rgb(36,36,36)",
              "ticks": "outside"
             }
            },
            "type": "scatterpolar"
           }
          ],
          "scatterpolargl": [
           {
            "marker": {
             "colorbar": {
              "outlinewidth": 1,
              "tickcolor": "rgb(36,36,36)",
              "ticks": "outside"
             }
            },
            "type": "scatterpolargl"
           }
          ],
          "scatterternary": [
           {
            "marker": {
             "colorbar": {
              "outlinewidth": 1,
              "tickcolor": "rgb(36,36,36)",
              "ticks": "outside"
             }
            },
            "type": "scatterternary"
           }
          ],
          "surface": [
           {
            "colorbar": {
             "outlinewidth": 1,
             "tickcolor": "rgb(36,36,36)",
             "ticks": "outside"
            },
            "colorscale": [
             [
              0,
              "#440154"
             ],
             [
              0.1111111111111111,
              "#482878"
             ],
             [
              0.2222222222222222,
              "#3e4989"
             ],
             [
              0.3333333333333333,
              "#31688e"
             ],
             [
              0.4444444444444444,
              "#26828e"
             ],
             [
              0.5555555555555556,
              "#1f9e89"
             ],
             [
              0.6666666666666666,
              "#35b779"
             ],
             [
              0.7777777777777778,
              "#6ece58"
             ],
             [
              0.8888888888888888,
              "#b5de2b"
             ],
             [
              1,
              "#fde725"
             ]
            ],
            "type": "surface"
           }
          ],
          "table": [
           {
            "cells": {
             "fill": {
              "color": "rgb(237,237,237)"
             },
             "line": {
              "color": "white"
             }
            },
            "header": {
             "fill": {
              "color": "rgb(217,217,217)"
             },
             "line": {
              "color": "white"
             }
            },
            "type": "table"
           }
          ]
         },
         "layout": {
          "annotationdefaults": {
           "arrowhead": 0,
           "arrowwidth": 1
          },
          "autosize": true,
          "autotypenumbers": "strict",
          "coloraxis": {
           "colorbar": {
            "outlinewidth": 1,
            "tickcolor": "rgb(36,36,36)",
            "ticks": "outside"
           }
          },
          "colorscale": {
           "diverging": [
            [
             0,
             "rgb(103,0,31)"
            ],
            [
             0.1,
             "rgb(178,24,43)"
            ],
            [
             0.2,
             "rgb(214,96,77)"
            ],
            [
             0.3,
             "rgb(244,165,130)"
            ],
            [
             0.4,
             "rgb(253,219,199)"
            ],
            [
             0.5,
             "rgb(247,247,247)"
            ],
            [
             0.6,
             "rgb(209,229,240)"
            ],
            [
             0.7,
             "rgb(146,197,222)"
            ],
            [
             0.8,
             "rgb(67,147,195)"
            ],
            [
             0.9,
             "rgb(33,102,172)"
            ],
            [
             1,
             "rgb(5,48,97)"
            ]
           ],
           "sequential": [
            [
             0,
             "#440154"
            ],
            [
             0.1111111111111111,
             "#482878"
            ],
            [
             0.2222222222222222,
             "#3e4989"
            ],
            [
             0.3333333333333333,
             "#31688e"
            ],
            [
             0.4444444444444444,
             "#26828e"
            ],
            [
             0.5555555555555556,
             "#1f9e89"
            ],
            [
             0.6666666666666666,
             "#35b779"
            ],
            [
             0.7777777777777778,
             "#6ece58"
            ],
            [
             0.8888888888888888,
             "#b5de2b"
            ],
            [
             1,
             "#fde725"
            ]
           ],
           "sequentialminus": [
            [
             0,
             "#440154"
            ],
            [
             0.1111111111111111,
             "#482878"
            ],
            [
             0.2222222222222222,
             "#3e4989"
            ],
            [
             0.3333333333333333,
             "#31688e"
            ],
            [
             0.4444444444444444,
             "#26828e"
            ],
            [
             0.5555555555555556,
             "#1f9e89"
            ],
            [
             0.6666666666666666,
             "#35b779"
            ],
            [
             0.7777777777777778,
             "#6ece58"
            ],
            [
             0.8888888888888888,
             "#b5de2b"
            ],
            [
             1,
             "#fde725"
            ]
           ]
          },
          "colorway": [
           "#1F77B4",
           "#FF7F0E",
           "#2CA02C",
           "#D62728",
           "#9467BD",
           "#8C564B",
           "#E377C2",
           "#7F7F7F",
           "#BCBD22",
           "#17BECF"
          ],
          "font": {
           "color": "rgb(36,36,36)"
          },
          "geo": {
           "bgcolor": "white",
           "lakecolor": "white",
           "landcolor": "white",
           "showlakes": true,
           "showland": true,
           "subunitcolor": "white"
          },
          "height": 400,
          "hoverlabel": {
           "align": "left"
          },
          "hovermode": "closest",
          "mapbox": {
           "style": "light"
          },
          "margin": {
           "b": 30,
           "l": 30,
           "r": 30,
           "t": 30
          },
          "paper_bgcolor": "white",
          "plot_bgcolor": "white",
          "polar": {
           "angularaxis": {
            "gridcolor": "rgb(232,232,232)",
            "linecolor": "rgb(36,36,36)",
            "showgrid": false,
            "showline": true,
            "ticks": "outside"
           },
           "bgcolor": "white",
           "radialaxis": {
            "gridcolor": "rgb(232,232,232)",
            "linecolor": "rgb(36,36,36)",
            "showgrid": false,
            "showline": true,
            "ticks": "outside"
           }
          },
          "scene": {
           "xaxis": {
            "backgroundcolor": "white",
            "gridcolor": "rgb(232,232,232)",
            "gridwidth": 2,
            "linecolor": "rgb(36,36,36)",
            "showbackground": true,
            "showgrid": false,
            "showline": true,
            "ticks": "outside",
            "zeroline": false,
            "zerolinecolor": "rgb(36,36,36)"
           },
           "yaxis": {
            "backgroundcolor": "white",
            "gridcolor": "rgb(232,232,232)",
            "gridwidth": 2,
            "linecolor": "rgb(36,36,36)",
            "showbackground": true,
            "showgrid": false,
            "showline": true,
            "ticks": "outside",
            "zeroline": false,
            "zerolinecolor": "rgb(36,36,36)"
           },
           "zaxis": {
            "backgroundcolor": "white",
            "gridcolor": "rgb(232,232,232)",
            "gridwidth": 2,
            "linecolor": "rgb(36,36,36)",
            "showbackground": true,
            "showgrid": false,
            "showline": true,
            "ticks": "outside",
            "zeroline": false,
            "zerolinecolor": "rgb(36,36,36)"
           }
          },
          "shapedefaults": {
           "fillcolor": "black",
           "line": {
            "width": 0
           },
           "opacity": 0.3
          },
          "ternary": {
           "aaxis": {
            "gridcolor": "rgb(232,232,232)",
            "linecolor": "rgb(36,36,36)",
            "showgrid": false,
            "showline": true,
            "ticks": "outside"
           },
           "baxis": {
            "gridcolor": "rgb(232,232,232)",
            "linecolor": "rgb(36,36,36)",
            "showgrid": false,
            "showline": true,
            "ticks": "outside"
           },
           "bgcolor": "white",
           "caxis": {
            "gridcolor": "rgb(232,232,232)",
            "linecolor": "rgb(36,36,36)",
            "showgrid": false,
            "showline": true,
            "ticks": "outside"
           }
          },
          "title": {
           "x": 0.5,
           "xanchor": "center"
          },
          "width": 600,
          "xaxis": {
           "automargin": true,
           "gridcolor": "rgb(232,232,232)",
           "linecolor": "rgb(36,36,36)",
           "showgrid": true,
           "showline": true,
           "ticks": "outside",
           "title": {
            "standoff": 15
           },
           "zeroline": false,
           "zerolinecolor": "rgb(36,36,36)"
          },
          "yaxis": {
           "automargin": true,
           "gridcolor": "rgb(232,232,232)",
           "linecolor": "rgb(36,36,36)",
           "showgrid": true,
           "showline": true,
           "ticks": "outside",
           "title": {
            "standoff": 15
           },
           "zeroline": false,
           "zerolinecolor": "rgb(36,36,36)"
          }
         }
        },
        "title": {
         "text": "Empirical Distribution of the TVD"
        },
        "xaxis": {
         "anchor": "y",
         "autorange": true,
         "domain": [
          0,
          1
         ],
         "range": [
          1.1709383462843448e-17,
          0.15499999999999997
         ],
         "title": {
          "text": "0"
         },
         "type": "linear"
        },
        "yaxis": {
         "anchor": "x",
         "domain": [
          0,
          1
         ],
         "range": [
          0,
          0.2
         ],
         "title": {
          "text": "probability"
         }
        }
       }
      },
      "image/png": "[encoded data removed]"
     },
     "metadata": {},
     "output_type": "display_data"
    }
   ],
   "source": [
    "fig = px.histogram(pd.DataFrame(tvds), x=0, nbins=50, histnorm='probability', \n",
    "                   title='Empirical Distribution of the TVD')\n",
    "fig.add_vline(x=observed_tvd, line_color='red')\n",
    "fig.add_annotation(text=f'<span style=\"color:red\">Observed TVD = {round(observed_tvd, 2)}</span>',\n",
    "                   x=2.3 * observed_tvd, showarrow=False, y=0.16)\n",
    "fig.update_layout(yaxis_range=[0, 0.2])"
   ]
  },
  {
   "cell_type": "code",
   "execution_count": 15,
   "id": "ce201999",
   "metadata": {},
   "outputs": [
    {
     "data": {
      "text/plain": [
       "np.float64(0.835)"
      ]
     },
     "execution_count": 15,
     "metadata": {},
     "output_type": "execute_result"
    }
   ],
   "source": [
    "(np.array(tvds) >= observed_tvd).mean()"
   ]
  },
  {
   "cell_type": "markdown",
   "id": "a2af6c73",
   "metadata": {},
   "source": [
    "- We fail to reject the null.\n",
    "- Recall, the null stated that the distribution of `'gender'` when `'child'` is missing is the same as the distribution of `'gender'` when `'child'` is not missing.\n",
    "- Hence, we conclude that the missingness in the `'child'` column is not dependent on `'gender'`."
   ]
  },
  {
   "cell_type": "markdown",
   "id": "222acc46",
   "metadata": {
    "slideshow": {
     "slide_type": "slide"
    }
   },
   "source": [
    "### Comparing null and non-null `'child'` distributions for `'father'`\n",
    "\n",
    "- We again must compare two distributions:\n",
    "    1. The distribution of `'father'` when `'child'` is missing.\n",
    "    2. The distribution of `'father'` when `'child'` is not missing.\n",
    "\n",
    "- If the distributions are similar, we conclude that the missingness of `'child'` is not dependent on the height of the `'father'`.\n",
    "\n",
    "- We can again use a permutation test."
   ]
  },
  {
   "cell_type": "code",
   "execution_count": 16,
   "id": "78287427",
   "metadata": {
    "slideshow": {
     "slide_type": "slide"
    }
   },
   "outputs": [
    {
     "data": {
      "application/vnd.plotly.v1+json": {
       "config": {
        "plotlyServerURL": "https://plot.ly"
       },
       "data": [
        {
         "alignmentgroup": "True",
         "bingroup": "x",
         "histnorm": "probability",
         "hovertemplate": "child_missing=False<br>father=%{x}<br>probability=%{y}<extra></extra>",
         "legendgroup": "False",
         "marker": {
          "color": "#1F77B4",
          "opacity": 0.7,
          "pattern": {
           "shape": ""
          }
         },
         "name": "False",
         "offsetgroup": "False",
         "orientation": "v",
         "showlegend": true,
         "type": "histogram",
         "x": [
          78.5,
          78.5,
          78.5,
          75.5,
          75.5,
          75,
          75,
          75,
          75,
          75,
          75,
          75,
          75,
          75,
          75,
          75,
          75,
          74,
          74,
          74,
          74,
          74,
          74,
          74,
          74,
          74,
          74,
          74,
          74,
          74,
          74,
          73,
          73,
          73,
          73,
          73,
          73,
          73,
          73,
          73,
          73,
          73,
          73,
          73,
          73,
          73,
          73,
          72.7,
          72.7,
          72.7,
          72.7,
          72.7,
          72.7,
          72,
          72,
          72,
          72,
          72,
          72,
          72,
          72,
          72,
          72,
          72,
          72,
          72,
          72,
          72,
          72,
          72,
          72,
          72,
          72.5,
          72.5,
          72.5,
          72.5,
          72.5,
          72.5,
          72.5,
          72,
          72,
          72,
          72,
          72,
          72,
          72,
          72,
          72,
          71,
          71,
          71,
          71,
          71,
          71,
          71,
          71,
          71,
          71,
          71,
          71,
          71,
          71,
          71,
          71,
          71,
          71,
          71,
          71,
          71,
          71.7,
          71,
          71,
          71,
          71,
          71.5,
          71.5,
          71.5,
          71.5,
          71,
          71,
          71,
          71,
          71,
          71,
          71,
          71,
          71.7,
          71.7,
          71.7,
          71.7,
          71,
          71,
          71,
          71.5,
          71.5,
          71.5,
          71.5,
          71.5,
          71.5,
          71.5,
          71,
          71,
          71.2,
          71,
          71,
          71,
          71,
          71,
          71,
          71,
          71,
          71,
          71,
          71,
          71,
          71,
          71,
          71,
          71,
          71,
          71,
          71,
          71,
          71,
          71,
          71,
          71,
          71,
          71,
          71,
          71,
          70,
          70,
          70,
          70,
          70,
          70,
          70,
          70,
          70,
          70,
          70,
          70,
          70,
          70,
          70,
          70,
          70,
          70,
          70,
          70,
          70.5,
          70.5,
          70.5,
          70.5,
          70.5,
          70.5,
          70.5,
          70,
          70,
          70,
          70,
          70,
          70,
          70,
          70,
          70,
          70,
          70,
          70,
          70,
          70,
          70,
          70,
          70,
          70,
          70,
          70,
          70,
          70,
          70,
          70,
          70,
          70,
          70,
          70,
          70,
          70.5,
          70.5,
          70.5,
          70.5,
          70,
          70,
          70,
          70,
          70,
          70,
          70,
          70,
          70,
          70,
          70,
          70,
          70,
          70,
          70,
          70.5,
          70.5,
          70.5,
          70.5,
          70.5,
          70,
          70,
          70,
          70,
          70,
          70,
          70,
          70,
          70,
          70.5,
          70.5,
          70.5,
          70.5,
          70.5,
          70.5,
          70.5,
          70.3,
          70.3,
          70.3,
          70.3,
          70.3,
          70.3,
          70.3,
          70.5,
          70.5,
          70,
          70,
          70,
          70,
          70,
          70,
          70,
          70,
          70,
          70,
          70,
          70,
          69,
          69,
          69,
          69,
          69,
          69,
          69,
          69,
          69,
          69,
          69,
          69,
          69,
          69,
          69,
          69,
          69,
          69,
          69,
          69,
          69,
          69,
          69,
          69,
          69,
          69.5,
          69.5,
          69.5,
          69.5,
          69,
          69,
          69,
          69,
          69,
          69.5,
          69.5,
          69.5,
          69,
          69,
          69,
          69,
          69,
          69,
          69,
          69,
          69,
          69,
          69,
          69.5,
          69.5,
          69.5,
          69.5,
          69.5,
          69.2,
          69.2,
          69,
          69,
          69,
          69,
          69,
          69,
          69,
          69,
          69,
          69,
          69,
          69,
          69,
          69,
          69,
          69,
          69,
          69,
          69.5,
          69.5,
          69.5,
          69,
          69,
          69,
          69,
          69.5,
          69.5,
          69.5,
          69.5,
          69,
          69,
          69,
          69,
          69,
          69,
          69,
          69.5,
          69.5,
          69.5,
          69,
          69,
          69,
          69,
          69,
          69,
          69,
          69,
          69,
          69,
          69,
          69,
          69,
          69,
          68.7,
          68.7,
          68.5,
          68.5,
          68.5,
          68.5,
          68.5,
          68.5,
          68.5,
          68.5,
          68.5,
          68,
          68,
          68,
          68,
          68,
          68,
          68,
          68,
          68,
          68.5,
          68.5,
          68.5,
          68.5,
          68.5,
          68.5,
          68.5,
          68.5,
          68.5,
          68.5,
          68.5,
          68.5,
          68,
          68,
          68,
          68,
          68,
          68,
          68,
          68,
          68,
          68,
          68,
          68,
          68,
          68,
          68,
          68,
          68,
          68,
          68,
          68,
          68,
          68,
          68,
          68,
          68,
          68,
          68,
          68,
          68,
          68,
          68,
          68,
          68.5,
          68.5,
          68.5,
          68,
          68,
          68,
          68,
          68,
          68,
          68,
          68,
          68,
          68,
          68,
          68,
          68.2,
          68.2,
          68.2,
          68.2,
          68,
          68.7,
          68.7,
          68,
          68,
          68,
          68,
          68,
          68,
          68,
          68,
          68,
          68,
          68,
          68,
          68,
          68,
          68.5,
          68,
          68,
          68,
          68,
          68,
          67,
          67,
          67,
          67,
          67,
          67,
          67,
          67,
          67,
          67,
          67,
          67,
          67,
          67,
          67,
          67,
          67,
          67,
          67,
          67,
          67,
          67,
          67,
          67,
          67,
          67,
          67,
          67.5,
          67.5,
          67.5,
          67.5,
          67.5,
          67.5,
          67.5,
          67,
          67,
          67,
          67,
          67,
          67,
          67,
          67,
          67.5,
          67.5,
          67.5,
          67.5,
          67,
          66,
          66,
          66,
          66,
          66,
          66,
          66,
          66,
          66,
          66,
          66,
          66,
          66,
          66,
          66,
          66,
          66,
          66,
          66,
          66,
          66,
          66.5,
          66.5,
          66.5,
          66.5,
          66.5,
          66,
          66,
          66,
          66,
          66,
          66,
          66.5,
          66.5,
          66.5,
          66.5,
          66.5,
          66.5,
          66.5,
          66.5,
          66.5,
          66.5,
          66.5,
          66,
          66,
          66,
          66,
          66,
          66,
          66,
          66,
          66,
          66,
          66,
          66,
          66,
          66,
          65,
          65,
          65,
          65,
          65,
          65,
          65,
          65,
          65,
          65,
          65,
          65,
          65,
          65,
          65,
          65,
          65,
          65,
          65,
          65,
          65,
          65,
          65,
          65,
          65,
          65,
          65,
          65.5,
          65.5,
          65.5,
          65.5,
          65.5,
          65.5,
          65.5,
          64,
          64,
          64,
          64,
          64,
          64,
          64,
          64,
          64,
          64,
          64,
          64,
          62,
          62.5
         ],
         "xaxis": "x",
         "yaxis": "y"
        },
        {
         "alignmentgroup": "True",
         "hovertemplate": "child_missing=False<br>father=%{x}<extra></extra>",
         "legendgroup": "False",
         "marker": {
          "color": "#1F77B4"
         },
         "name": "False",
         "notched": true,
         "offsetgroup": "False",
         "showlegend": false,
         "type": "box",
         "x": [
          78.5,
          78.5,
          78.5,
          75.5,
          75.5,
          75,
          75,
          75,
          75,
          75,
          75,
          75,
          75,
          75,
          75,
          75,
          75,
          74,
          74,
          74,
          74,
          74,
          74,
          74,
          74,
          74,
          74,
          74,
          74,
          74,
          74,
          73,
          73,
          73,
          73,
          73,
          73,
          73,
          73,
          73,
          73,
          73,
          73,
          73,
          73,
          73,
          73,
          72.7,
          72.7,
          72.7,
          72.7,
          72.7,
          72.7,
          72,
          72,
          72,
          72,
          72,
          72,
          72,
          72,
          72,
          72,
          72,
          72,
          72,
          72,
          72,
          72,
          72,
          72,
          72,
          72.5,
          72.5,
          72.5,
          72.5,
          72.5,
          72.5,
          72.5,
          72,
          72,
          72,
          72,
          72,
          72,
          72,
          72,
          72,
          71,
          71,
          71,
          71,
          71,
          71,
          71,
          71,
          71,
          71,
          71,
          71,
          71,
          71,
          71,
          71,
          71,
          71,
          71,
          71,
          71,
          71.7,
          71,
          71,
          71,
          71,
          71.5,
          71.5,
          71.5,
          71.5,
          71,
          71,
          71,
          71,
          71,
          71,
          71,
          71,
          71.7,
          71.7,
          71.7,
          71.7,
          71,
          71,
          71,
          71.5,
          71.5,
          71.5,
          71.5,
          71.5,
          71.5,
          71.5,
          71,
          71,
          71.2,
          71,
          71,
          71,
          71,
          71,
          71,
          71,
          71,
          71,
          71,
          71,
          71,
          71,
          71,
          71,
          71,
          71,
          71,
          71,
          71,
          71,
          71,
          71,
          71,
          71,
          71,
          71,
          71,
          70,
          70,
          70,
          70,
          70,
          70,
          70,
          70,
          70,
          70,
          70,
          70,
          70,
          70,
          70,
          70,
          70,
          70,
          70,
          70,
          70.5,
          70.5,
          70.5,
          70.5,
          70.5,
          70.5,
          70.5,
          70,
          70,
          70,
          70,
          70,
          70,
          70,
          70,
          70,
          70,
          70,
          70,
          70,
          70,
          70,
          70,
          70,
          70,
          70,
          70,
          70,
          70,
          70,
          70,
          70,
          70,
          70,
          70,
          70,
          70.5,
          70.5,
          70.5,
          70.5,
          70,
          70,
          70,
          70,
          70,
          70,
          70,
          70,
          70,
          70,
          70,
          70,
          70,
          70,
          70,
          70.5,
          70.5,
          70.5,
          70.5,
          70.5,
          70,
          70,
          70,
          70,
          70,
          70,
          70,
          70,
          70,
          70.5,
          70.5,
          70.5,
          70.5,
          70.5,
          70.5,
          70.5,
          70.3,
          70.3,
          70.3,
          70.3,
          70.3,
          70.3,
          70.3,
          70.5,
          70.5,
          70,
          70,
          70,
          70,
          70,
          70,
          70,
          70,
          70,
          70,
          70,
          70,
          69,
          69,
          69,
          69,
          69,
          69,
          69,
          69,
          69,
          69,
          69,
          69,
          69,
          69,
          69,
          69,
          69,
          69,
          69,
          69,
          69,
          69,
          69,
          69,
          69,
          69.5,
          69.5,
          69.5,
          69.5,
          69,
          69,
          69,
          69,
          69,
          69.5,
          69.5,
          69.5,
          69,
          69,
          69,
          69,
          69,
          69,
          69,
          69,
          69,
          69,
          69,
          69.5,
          69.5,
          69.5,
          69.5,
          69.5,
          69.2,
          69.2,
          69,
          69,
          69,
          69,
          69,
          69,
          69,
          69,
          69,
          69,
          69,
          69,
          69,
          69,
          69,
          69,
          69,
          69,
          69.5,
          69.5,
          69.5,
          69,
          69,
          69,
          69,
          69.5,
          69.5,
          69.5,
          69.5,
          69,
          69,
          69,
          69,
          69,
          69,
          69,
          69.5,
          69.5,
          69.5,
          69,
          69,
          69,
          69,
          69,
          69,
          69,
          69,
          69,
          69,
          69,
          69,
          69,
          69,
          68.7,
          68.7,
          68.5,
          68.5,
          68.5,
          68.5,
          68.5,
          68.5,
          68.5,
          68.5,
          68.5,
          68,
          68,
          68,
          68,
          68,
          68,
          68,
          68,
          68,
          68.5,
          68.5,
          68.5,
          68.5,
          68.5,
          68.5,
          68.5,
          68.5,
          68.5,
          68.5,
          68.5,
          68.5,
          68,
          68,
          68,
          68,
          68,
          68,
          68,
          68,
          68,
          68,
          68,
          68,
          68,
          68,
          68,
          68,
          68,
          68,
          68,
          68,
          68,
          68,
          68,
          68,
          68,
          68,
          68,
          68,
          68,
          68,
          68,
          68,
          68.5,
          68.5,
          68.5,
          68,
          68,
          68,
          68,
          68,
          68,
          68,
          68,
          68,
          68,
          68,
          68,
          68.2,
          68.2,
          68.2,
          68.2,
          68,
          68.7,
          68.7,
          68,
          68,
          68,
          68,
          68,
          68,
          68,
          68,
          68,
          68,
          68,
          68,
          68,
          68,
          68.5,
          68,
          68,
          68,
          68,
          68,
          67,
          67,
          67,
          67,
          67,
          67,
          67,
          67,
          67,
          67,
          67,
          67,
          67,
          67,
          67,
          67,
          67,
          67,
          67,
          67,
          67,
          67,
          67,
          67,
          67,
          67,
          67,
          67.5,
          67.5,
          67.5,
          67.5,
          67.5,
          67.5,
          67.5,
          67,
          67,
          67,
          67,
          67,
          67,
          67,
          67,
          67.5,
          67.5,
          67.5,
          67.5,
          67,
          66,
          66,
          66,
          66,
          66,
          66,
          66,
          66,
          66,
          66,
          66,
          66,
          66,
          66,
          66,
          66,
          66,
          66,
          66,
          66,
          66,
          66.5,
          66.5,
          66.5,
          66.5,
          66.5,
          66,
          66,
          66,
          66,
          66,
          66,
          66.5,
          66.5,
          66.5,
          66.5,
          66.5,
          66.5,
          66.5,
          66.5,
          66.5,
          66.5,
          66.5,
          66,
          66,
          66,
          66,
          66,
          66,
          66,
          66,
          66,
          66,
          66,
          66,
          66,
          66,
          65,
          65,
          65,
          65,
          65,
          65,
          65,
          65,
          65,
          65,
          65,
          65,
          65,
          65,
          65,
          65,
          65,
          65,
          65,
          65,
          65,
          65,
          65,
          65,
          65,
          65,
          65,
          65.5,
          65.5,
          65.5,
          65.5,
          65.5,
          65.5,
          65.5,
          64,
          64,
          64,
          64,
          64,
          64,
          64,
          64,
          64,
          64,
          64,
          64,
          62,
          62.5
         ],
         "xaxis": "x2",
         "yaxis": "y2"
        },
        {
         "alignmentgroup": "True",
         "bingroup": "x",
         "histnorm": "probability",
         "hovertemplate": "child_missing=True<br>father=%{x}<br>probability=%{y}<extra></extra>",
         "legendgroup": "True",
         "marker": {
          "color": "#FF7F0E",
          "opacity": 0.7,
          "pattern": {
           "shape": ""
          }
         },
         "name": "True",
         "offsetgroup": "True",
         "orientation": "v",
         "showlegend": true,
         "type": "histogram",
         "x": [
          78.5,
          75.5,
          75.5,
          75,
          74,
          74,
          74,
          74,
          74.5,
          74,
          74,
          73,
          73,
          73,
          73,
          73,
          73,
          73,
          73,
          73,
          73.2,
          72.7,
          72.7,
          72,
          72,
          72,
          72,
          72,
          72,
          72,
          72,
          72,
          72,
          72,
          72.5,
          72,
          72.5,
          72,
          72,
          71,
          71,
          71,
          71,
          71,
          71,
          71,
          71,
          71,
          71,
          71.2,
          71,
          71,
          71,
          71,
          71,
          71,
          71,
          71,
          71,
          71,
          71,
          71,
          71,
          71,
          71,
          70,
          70,
          70,
          70,
          70,
          70,
          70,
          70,
          70.5,
          70.5,
          70,
          70,
          70,
          70,
          70,
          70,
          70,
          70,
          70,
          70,
          70,
          70,
          70,
          70,
          70,
          70,
          70,
          70,
          70,
          70,
          70,
          70,
          70,
          70,
          70,
          70.5,
          70.5,
          70.5,
          70.5,
          70.5,
          70,
          70,
          70,
          70,
          70,
          70,
          70.5,
          70.5,
          70.5,
          70.5,
          70,
          70,
          70,
          70.5,
          70.5,
          70,
          70,
          70,
          70,
          69,
          69,
          69,
          69,
          69,
          69,
          69,
          69,
          69,
          69,
          69,
          69,
          69,
          69,
          69,
          69.5,
          69.5,
          69.5,
          69.5,
          69,
          69,
          69,
          69,
          69,
          69.5,
          69.5,
          69.2,
          69.2,
          69,
          69,
          69,
          69.7,
          69,
          69.5,
          69.5,
          69.5,
          69.5,
          69.5,
          69.5,
          69.5,
          69,
          69,
          69,
          69,
          69,
          69.5,
          69.5,
          69,
          69,
          69,
          68.5,
          68.5,
          68.5,
          68.5,
          68.5,
          68,
          68,
          68,
          68,
          68,
          68,
          68.5,
          68.5,
          68.5,
          68.5,
          68,
          68,
          68,
          68,
          68,
          68,
          68.5,
          68,
          68,
          68,
          68,
          68,
          68,
          68,
          68.5,
          68,
          68.2,
          68,
          68,
          68,
          68,
          68,
          68,
          68,
          68,
          68,
          67,
          67,
          67,
          67,
          67,
          67.5,
          67.5,
          67.5,
          67.5,
          67,
          67,
          67,
          67,
          67,
          67,
          67,
          67.5,
          66,
          66,
          66,
          66,
          66,
          66,
          66,
          66.5,
          66.5,
          66.5,
          66,
          66,
          66.5,
          66.5,
          66,
          66,
          66,
          66,
          66,
          66,
          66,
          65,
          65,
          65,
          65,
          65,
          65,
          65,
          65,
          65,
          65,
          65,
          65,
          65,
          65,
          65,
          65.5,
          65.5,
          64,
          64,
          64,
          64,
          64,
          63,
          63,
          62,
          62,
          62.5
         ],
         "xaxis": "x",
         "yaxis": "y"
        },
        {
         "alignmentgroup": "True",
         "hovertemplate": "child_missing=True<br>father=%{x}<extra></extra>",
         "legendgroup": "True",
         "marker": {
          "color": "#FF7F0E"
         },
         "name": "True",
         "notched": true,
         "offsetgroup": "True",
         "showlegend": false,
         "type": "box",
         "x": [
          78.5,
          75.5,
          75.5,
          75,
          74,
          74,
          74,
          74,
          74.5,
          74,
          74,
          73,
          73,
          73,
          73,
          73,
          73,
          73,
          73,
          73,
          73.2,
          72.7,
          72.7,
          72,
          72,
          72,
          72,
          72,
          72,
          72,
          72,
          72,
          72,
          72,
          72.5,
          72,
          72.5,
          72,
          72,
          71,
          71,
          71,
          71,
          71,
          71,
          71,
          71,
          71,
          71,
          71.2,
          71,
          71,
          71,
          71,
          71,
          71,
          71,
          71,
          71,
          71,
          71,
          71,
          71,
          71,
          71,
          70,
          70,
          70,
          70,
          70,
          70,
          70,
          70,
          70.5,
          70.5,
          70,
          70,
          70,
          70,
          70,
          70,
          70,
          70,
          70,
          70,
          70,
          70,
          70,
          70,
          70,
          70,
          70,
          70,
          70,
          70,
          70,
          70,
          70,
          70,
          70,
          70.5,
          70.5,
          70.5,
          70.5,
          70.5,
          70,
          70,
          70,
          70,
          70,
          70,
          70.5,
          70.5,
          70.5,
          70.5,
          70,
          70,
          70,
          70.5,
          70.5,
          70,
          70,
          70,
          70,
          69,
          69,
          69,
          69,
          69,
          69,
          69,
          69,
          69,
          69,
          69,
          69,
          69,
          69,
          69,
          69.5,
          69.5,
          69.5,
          69.5,
          69,
          69,
          69,
          69,
          69,
          69.5,
          69.5,
          69.2,
          69.2,
          69,
          69,
          69,
          69.7,
          69,
          69.5,
          69.5,
          69.5,
          69.5,
          69.5,
          69.5,
          69.5,
          69,
          69,
          69,
          69,
          69,
          69.5,
          69.5,
          69,
          69,
          69,
          68.5,
          68.5,
          68.5,
          68.5,
          68.5,
          68,
          68,
          68,
          68,
          68,
          68,
          68.5,
          68.5,
          68.5,
          68.5,
          68,
          68,
          68,
          68,
          68,
          68,
          68.5,
          68,
          68,
          68,
          68,
          68,
          68,
          68,
          68.5,
          68,
          68.2,
          68,
          68,
          68,
          68,
          68,
          68,
          68,
          68,
          68,
          67,
          67,
          67,
          67,
          67,
          67.5,
          67.5,
          67.5,
          67.5,
          67,
          67,
          67,
          67,
          67,
          67,
          67,
          67.5,
          66,
          66,
          66,
          66,
          66,
          66,
          66,
          66.5,
          66.5,
          66.5,
          66,
          66,
          66.5,
          66.5,
          66,
          66,
          66,
          66,
          66,
          66,
          66,
          65,
          65,
          65,
          65,
          65,
          65,
          65,
          65,
          65,
          65,
          65,
          65,
          65,
          65,
          65,
          65.5,
          65.5,
          64,
          64,
          64,
          64,
          64,
          63,
          63,
          62,
          62,
          62.5
         ],
         "xaxis": "x2",
         "yaxis": "y2"
        }
       ],
       "layout": {
        "autosize": true,
        "barmode": "overlay",
        "legend": {
         "title": {
          "text": "child_missing"
         },
         "tracegroupgap": 0
        },
        "template": {
         "data": {
          "bar": [
           {
            "error_x": {
             "color": "rgb(36,36,36)"
            },
            "error_y": {
             "color": "rgb(36,36,36)"
            },
            "marker": {
             "line": {
              "color": "white",
              "width": 0.5
             },
             "pattern": {
              "fillmode": "overlay",
              "size": 10,
              "solidity": 0.2
             }
            },
            "type": "bar"
           }
          ],
          "barpolar": [
           {
            "marker": {
             "line": {
              "color": "white",
              "width": 0.5
             },
             "pattern": {
              "fillmode": "overlay",
              "size": 10,
              "solidity": 0.2
             }
            },
            "type": "barpolar"
           }
          ],
          "carpet": [
           {
            "aaxis": {
             "endlinecolor": "rgb(36,36,36)",
             "gridcolor": "white",
             "linecolor": "white",
             "minorgridcolor": "white",
             "startlinecolor": "rgb(36,36,36)"
            },
            "baxis": {
             "endlinecolor": "rgb(36,36,36)",
             "gridcolor": "white",
             "linecolor": "white",
             "minorgridcolor": "white",
             "startlinecolor": "rgb(36,36,36)"
            },
            "type": "carpet"
           }
          ],
          "choropleth": [
           {
            "colorbar": {
             "outlinewidth": 1,
             "tickcolor": "rgb(36,36,36)",
             "ticks": "outside"
            },
            "type": "choropleth"
           }
          ],
          "contour": [
           {
            "colorbar": {
             "outlinewidth": 1,
             "tickcolor": "rgb(36,36,36)",
             "ticks": "outside"
            },
            "colorscale": [
             [
              0,
              "#440154"
             ],
             [
              0.1111111111111111,
              "#482878"
             ],
             [
              0.2222222222222222,
              "#3e4989"
             ],
             [
              0.3333333333333333,
              "#31688e"
             ],
             [
              0.4444444444444444,
              "#26828e"
             ],
             [
              0.5555555555555556,
              "#1f9e89"
             ],
             [
              0.6666666666666666,
              "#35b779"
             ],
             [
              0.7777777777777778,
              "#6ece58"
             ],
             [
              0.8888888888888888,
              "#b5de2b"
             ],
             [
              1,
              "#fde725"
             ]
            ],
            "type": "contour"
           }
          ],
          "contourcarpet": [
           {
            "colorbar": {
             "outlinewidth": 1,
             "tickcolor": "rgb(36,36,36)",
             "ticks": "outside"
            },
            "type": "contourcarpet"
           }
          ],
          "heatmap": [
           {
            "colorbar": {
             "outlinewidth": 1,
             "tickcolor": "rgb(36,36,36)",
             "ticks": "outside"
            },
            "colorscale": [
             [
              0,
              "#440154"
             ],
             [
              0.1111111111111111,
              "#482878"
             ],
             [
              0.2222222222222222,
              "#3e4989"
             ],
             [
              0.3333333333333333,
              "#31688e"
             ],
             [
              0.4444444444444444,
              "#26828e"
             ],
             [
              0.5555555555555556,
              "#1f9e89"
             ],
             [
              0.6666666666666666,
              "#35b779"
             ],
             [
              0.7777777777777778,
              "#6ece58"
             ],
             [
              0.8888888888888888,
              "#b5de2b"
             ],
             [
              1,
              "#fde725"
             ]
            ],
            "type": "heatmap"
           }
          ],
          "heatmapgl": [
           {
            "colorbar": {
             "outlinewidth": 1,
             "tickcolor": "rgb(36,36,36)",
             "ticks": "outside"
            },
            "colorscale": [
             [
              0,
              "#440154"
             ],
             [
              0.1111111111111111,
              "#482878"
             ],
             [
              0.2222222222222222,
              "#3e4989"
             ],
             [
              0.3333333333333333,
              "#31688e"
             ],
             [
              0.4444444444444444,
              "#26828e"
             ],
             [
              0.5555555555555556,
              "#1f9e89"
             ],
             [
              0.6666666666666666,
              "#35b779"
             ],
             [
              0.7777777777777778,
              "#6ece58"
             ],
             [
              0.8888888888888888,
              "#b5de2b"
             ],
             [
              1,
              "#fde725"
             ]
            ],
            "type": "heatmapgl"
           }
          ],
          "histogram": [
           {
            "marker": {
             "line": {
              "color": "white",
              "width": 0.6
             }
            },
            "type": "histogram"
           }
          ],
          "histogram2d": [
           {
            "colorbar": {
             "outlinewidth": 1,
             "tickcolor": "rgb(36,36,36)",
             "ticks": "outside"
            },
            "colorscale": [
             [
              0,
              "#440154"
             ],
             [
              0.1111111111111111,
              "#482878"
             ],
             [
              0.2222222222222222,
              "#3e4989"
             ],
             [
              0.3333333333333333,
              "#31688e"
             ],
             [
              0.4444444444444444,
              "#26828e"
             ],
             [
              0.5555555555555556,
              "#1f9e89"
             ],
             [
              0.6666666666666666,
              "#35b779"
             ],
             [
              0.7777777777777778,
              "#6ece58"
             ],
             [
              0.8888888888888888,
              "#b5de2b"
             ],
             [
              1,
              "#fde725"
             ]
            ],
            "type": "histogram2d"
           }
          ],
          "histogram2dcontour": [
           {
            "colorbar": {
             "outlinewidth": 1,
             "tickcolor": "rgb(36,36,36)",
             "ticks": "outside"
            },
            "colorscale": [
             [
              0,
              "#440154"
             ],
             [
              0.1111111111111111,
              "#482878"
             ],
             [
              0.2222222222222222,
              "#3e4989"
             ],
             [
              0.3333333333333333,
              "#31688e"
             ],
             [
              0.4444444444444444,
              "#26828e"
             ],
             [
              0.5555555555555556,
              "#1f9e89"
             ],
             [
              0.6666666666666666,
              "#35b779"
             ],
             [
              0.7777777777777778,
              "#6ece58"
             ],
             [
              0.8888888888888888,
              "#b5de2b"
             ],
             [
              1,
              "#fde725"
             ]
            ],
            "type": "histogram2dcontour"
           }
          ],
          "mesh3d": [
           {
            "colorbar": {
             "outlinewidth": 1,
             "tickcolor": "rgb(36,36,36)",
             "ticks": "outside"
            },
            "type": "mesh3d"
           }
          ],
          "parcoords": [
           {
            "line": {
             "colorbar": {
              "outlinewidth": 1,
              "tickcolor": "rgb(36,36,36)",
              "ticks": "outside"
             }
            },
            "type": "parcoords"
           }
          ],
          "pie": [
           {
            "automargin": true,
            "type": "pie"
           }
          ],
          "scatter": [
           {
            "fillpattern": {
             "fillmode": "overlay",
             "size": 10,
             "solidity": 0.2
            },
            "type": "scatter"
           }
          ],
          "scatter3d": [
           {
            "line": {
             "colorbar": {
              "outlinewidth": 1,
              "tickcolor": "rgb(36,36,36)",
              "ticks": "outside"
             }
            },
            "marker": {
             "colorbar": {
              "outlinewidth": 1,
              "tickcolor": "rgb(36,36,36)",
              "ticks": "outside"
             }
            },
            "type": "scatter3d"
           }
          ],
          "scattercarpet": [
           {
            "marker": {
             "colorbar": {
              "outlinewidth": 1,
              "tickcolor": "rgb(36,36,36)",
              "ticks": "outside"
             }
            },
            "type": "scattercarpet"
           }
          ],
          "scattergeo": [
           {
            "marker": {
             "colorbar": {
              "outlinewidth": 1,
              "tickcolor": "rgb(36,36,36)",
              "ticks": "outside"
             }
            },
            "type": "scattergeo"
           }
          ],
          "scattergl": [
           {
            "marker": {
             "colorbar": {
              "outlinewidth": 1,
              "tickcolor": "rgb(36,36,36)",
              "ticks": "outside"
             }
            },
            "type": "scattergl"
           }
          ],
          "scattermapbox": [
           {
            "marker": {
             "colorbar": {
              "outlinewidth": 1,
              "tickcolor": "rgb(36,36,36)",
              "ticks": "outside"
             }
            },
            "type": "scattermapbox"
           }
          ],
          "scatterpolar": [
           {
            "marker": {
             "colorbar": {
              "outlinewidth": 1,
              "tickcolor": "rgb(36,36,36)",
              "ticks": "outside"
             }
            },
            "type": "scatterpolar"
           }
          ],
          "scatterpolargl": [
           {
            "marker": {
             "colorbar": {
              "outlinewidth": 1,
              "tickcolor": "rgb(36,36,36)",
              "ticks": "outside"
             }
            },
            "type": "scatterpolargl"
           }
          ],
          "scatterternary": [
           {
            "marker": {
             "colorbar": {
              "outlinewidth": 1,
              "tickcolor": "rgb(36,36,36)",
              "ticks": "outside"
             }
            },
            "type": "scatterternary"
           }
          ],
          "surface": [
           {
            "colorbar": {
             "outlinewidth": 1,
             "tickcolor": "rgb(36,36,36)",
             "ticks": "outside"
            },
            "colorscale": [
             [
              0,
              "#440154"
             ],
             [
              0.1111111111111111,
              "#482878"
             ],
             [
              0.2222222222222222,
              "#3e4989"
             ],
             [
              0.3333333333333333,
              "#31688e"
             ],
             [
              0.4444444444444444,
              "#26828e"
             ],
             [
              0.5555555555555556,
              "#1f9e89"
             ],
             [
              0.6666666666666666,
              "#35b779"
             ],
             [
              0.7777777777777778,
              "#6ece58"
             ],
             [
              0.8888888888888888,
              "#b5de2b"
             ],
             [
              1,
              "#fde725"
             ]
            ],
            "type": "surface"
           }
          ],
          "table": [
           {
            "cells": {
             "fill": {
              "color": "rgb(237,237,237)"
             },
             "line": {
              "color": "white"
             }
            },
            "header": {
             "fill": {
              "color": "rgb(217,217,217)"
             },
             "line": {
              "color": "white"
             }
            },
            "type": "table"
           }
          ]
         },
         "layout": {
          "annotationdefaults": {
           "arrowhead": 0,
           "arrowwidth": 1
          },
          "autosize": true,
          "autotypenumbers": "strict",
          "coloraxis": {
           "colorbar": {
            "outlinewidth": 1,
            "tickcolor": "rgb(36,36,36)",
            "ticks": "outside"
           }
          },
          "colorscale": {
           "diverging": [
            [
             0,
             "rgb(103,0,31)"
            ],
            [
             0.1,
             "rgb(178,24,43)"
            ],
            [
             0.2,
             "rgb(214,96,77)"
            ],
            [
             0.3,
             "rgb(244,165,130)"
            ],
            [
             0.4,
             "rgb(253,219,199)"
            ],
            [
             0.5,
             "rgb(247,247,247)"
            ],
            [
             0.6,
             "rgb(209,229,240)"
            ],
            [
             0.7,
             "rgb(146,197,222)"
            ],
            [
             0.8,
             "rgb(67,147,195)"
            ],
            [
             0.9,
             "rgb(33,102,172)"
            ],
            [
             1,
             "rgb(5,48,97)"
            ]
           ],
           "sequential": [
            [
             0,
             "#440154"
            ],
            [
             0.1111111111111111,
             "#482878"
            ],
            [
             0.2222222222222222,
             "#3e4989"
            ],
            [
             0.3333333333333333,
             "#31688e"
            ],
            [
             0.4444444444444444,
             "#26828e"
            ],
            [
             0.5555555555555556,
             "#1f9e89"
            ],
            [
             0.6666666666666666,
             "#35b779"
            ],
            [
             0.7777777777777778,
             "#6ece58"
            ],
            [
             0.8888888888888888,
             "#b5de2b"
            ],
            [
             1,
             "#fde725"
            ]
           ],
           "sequentialminus": [
            [
             0,
             "#440154"
            ],
            [
             0.1111111111111111,
             "#482878"
            ],
            [
             0.2222222222222222,
             "#3e4989"
            ],
            [
             0.3333333333333333,
             "#31688e"
            ],
            [
             0.4444444444444444,
             "#26828e"
            ],
            [
             0.5555555555555556,
             "#1f9e89"
            ],
            [
             0.6666666666666666,
             "#35b779"
            ],
            [
             0.7777777777777778,
             "#6ece58"
            ],
            [
             0.8888888888888888,
             "#b5de2b"
            ],
            [
             1,
             "#fde725"
            ]
           ]
          },
          "colorway": [
           "#1F77B4",
           "#FF7F0E",
           "#2CA02C",
           "#D62728",
           "#9467BD",
           "#8C564B",
           "#E377C2",
           "#7F7F7F",
           "#BCBD22",
           "#17BECF"
          ],
          "font": {
           "color": "rgb(36,36,36)"
          },
          "geo": {
           "bgcolor": "white",
           "lakecolor": "white",
           "landcolor": "white",
           "showlakes": true,
           "showland": true,
           "subunitcolor": "white"
          },
          "height": 400,
          "hoverlabel": {
           "align": "left"
          },
          "hovermode": "closest",
          "mapbox": {
           "style": "light"
          },
          "margin": {
           "b": 30,
           "l": 30,
           "r": 30,
           "t": 30
          },
          "paper_bgcolor": "white",
          "plot_bgcolor": "white",
          "polar": {
           "angularaxis": {
            "gridcolor": "rgb(232,232,232)",
            "linecolor": "rgb(36,36,36)",
            "showgrid": false,
            "showline": true,
            "ticks": "outside"
           },
           "bgcolor": "white",
           "radialaxis": {
            "gridcolor": "rgb(232,232,232)",
            "linecolor": "rgb(36,36,36)",
            "showgrid": false,
            "showline": true,
            "ticks": "outside"
           }
          },
          "scene": {
           "xaxis": {
            "backgroundcolor": "white",
            "gridcolor": "rgb(232,232,232)",
            "gridwidth": 2,
            "linecolor": "rgb(36,36,36)",
            "showbackground": true,
            "showgrid": false,
            "showline": true,
            "ticks": "outside",
            "zeroline": false,
            "zerolinecolor": "rgb(36,36,36)"
           },
           "yaxis": {
            "backgroundcolor": "white",
            "gridcolor": "rgb(232,232,232)",
            "gridwidth": 2,
            "linecolor": "rgb(36,36,36)",
            "showbackground": true,
            "showgrid": false,
            "showline": true,
            "ticks": "outside",
            "zeroline": false,
            "zerolinecolor": "rgb(36,36,36)"
           },
           "zaxis": {
            "backgroundcolor": "white",
            "gridcolor": "rgb(232,232,232)",
            "gridwidth": 2,
            "linecolor": "rgb(36,36,36)",
            "showbackground": true,
            "showgrid": false,
            "showline": true,
            "ticks": "outside",
            "zeroline": false,
            "zerolinecolor": "rgb(36,36,36)"
           }
          },
          "shapedefaults": {
           "fillcolor": "black",
           "line": {
            "width": 0
           },
           "opacity": 0.3
          },
          "ternary": {
           "aaxis": {
            "gridcolor": "rgb(232,232,232)",
            "linecolor": "rgb(36,36,36)",
            "showgrid": false,
            "showline": true,
            "ticks": "outside"
           },
           "baxis": {
            "gridcolor": "rgb(232,232,232)",
            "linecolor": "rgb(36,36,36)",
            "showgrid": false,
            "showline": true,
            "ticks": "outside"
           },
           "bgcolor": "white",
           "caxis": {
            "gridcolor": "rgb(232,232,232)",
            "linecolor": "rgb(36,36,36)",
            "showgrid": false,
            "showline": true,
            "ticks": "outside"
           }
          },
          "title": {
           "x": 0.5,
           "xanchor": "center"
          },
          "width": 600,
          "xaxis": {
           "automargin": true,
           "gridcolor": "rgb(232,232,232)",
           "linecolor": "rgb(36,36,36)",
           "showgrid": true,
           "showline": true,
           "ticks": "outside",
           "title": {
            "standoff": 15
           },
           "zeroline": false,
           "zerolinecolor": "rgb(36,36,36)"
          },
          "yaxis": {
           "automargin": true,
           "gridcolor": "rgb(232,232,232)",
           "linecolor": "rgb(36,36,36)",
           "showgrid": true,
           "showline": true,
           "ticks": "outside",
           "title": {
            "standoff": 15
           },
           "zeroline": false,
           "zerolinecolor": "rgb(36,36,36)"
          }
         }
        },
        "title": {
         "text": "Father's Height by Missingness of Child Height"
        },
        "xaxis": {
         "anchor": "y",
         "autorange": true,
         "domain": [
          0,
          1
         ],
         "range": [
          61.083333333333336,
          79.41666666666667
         ],
         "title": {
          "text": "father"
         },
         "type": "linear"
        },
        "xaxis2": {
         "anchor": "y2",
         "autorange": true,
         "domain": [
          0,
          1
         ],
         "matches": "x",
         "range": [
          61.083333333333336,
          79.41666666666667
         ],
         "showticklabels": false,
         "type": "linear"
        },
        "yaxis": {
         "anchor": "x",
         "autorange": true,
         "domain": [
          0,
          0.7326
         ],
         "range": [
          0,
          0.17293233082706766
         ],
         "title": {
          "text": "probability"
         }
        },
        "yaxis2": {
         "anchor": "x2",
         "autorange": true,
         "domain": [
          0.7426,
          1
         ],
         "matches": "y2",
         "range": [
          -0.5,
          1.5
         ],
         "showline": false,
         "showticklabels": false,
         "ticks": "",
         "type": "category"
        }
       }
      },
      "image/png": "[encoded data removed]"
     },
     "metadata": {},
     "output_type": "display_data"
    }
   ],
   "source": [
    "px.histogram(heights_mcar, x='father', color='child_missing', histnorm='probability', marginal='box',\n",
    "             title=\"Father's Height by Missingness of Child Height\", barmode='overlay', opacity=0.7)"
   ]
  },
  {
   "cell_type": "markdown",
   "id": "a341fe2b",
   "metadata": {
    "slideshow": {
     "slide_type": "slide"
    }
   },
   "source": [
    "We can visualize numerical distributions with histograms, or with **kernel density estimates**. (See the definition of `create_kde_plotly` at the top of the notebook if you're curious as to how these are created.)"
   ]
  },
  {
   "cell_type": "code",
   "execution_count": 21,
   "id": "12d44c45",
   "metadata": {},
   "outputs": [
    {
     "data": {
      "application/vnd.plotly.v1+json": {
       "config": {
        "plotlyServerURL": "https://plot.ly"
       },
       "data": [
        {
         "legendgroup": "True",
         "marker": {
          "color": "#ef553b"
         },
         "mode": "lines",
         "name": "True",
         "showlegend": true,
         "type": "scatter",
         "x": [
          62,
          62.033,
          62.066,
          62.099,
          62.132,
          62.165,
          62.198,
          62.231,
          62.264,
          62.297,
          62.33,
          62.363,
          62.396,
          62.429,
          62.462,
          62.495,
          62.528,
          62.561,
          62.594,
          62.627,
          62.66,
          62.693,
          62.726,
          62.759,
          62.792,
          62.825,
          62.858,
          62.891,
          62.924,
          62.957,
          62.99,
          63.023,
          63.056,
          63.089,
          63.122,
          63.155,
          63.188,
          63.221000000000004,
          63.254,
          63.287,
          63.32,
          63.353,
          63.386,
          63.419,
          63.452,
          63.485,
          63.518,
          63.551,
          63.584,
          63.617,
          63.65,
          63.683,
          63.716,
          63.749,
          63.782,
          63.815,
          63.848,
          63.881,
          63.914,
          63.947,
          63.98,
          64.013,
          64.046,
          64.079,
          64.112,
          64.145,
          64.178,
          64.211,
          64.244,
          64.277,
          64.31,
          64.343,
          64.376,
          64.409,
          64.44200000000001,
          64.475,
          64.508,
          64.541,
          64.574,
          64.607,
          64.64,
          64.673,
          64.706,
          64.739,
          64.772,
          64.805,
          64.838,
          64.871,
          64.904,
          64.937,
          64.97,
          65.003,
          65.036,
          65.069,
          65.102,
          65.135,
          65.168,
          65.201,
          65.234,
          65.267,
          65.3,
          65.333,
          65.366,
          65.399,
          65.432,
          65.465,
          65.498,
          65.531,
          65.564,
          65.597,
          65.63,
          65.663,
          65.696,
          65.729,
          65.762,
          65.795,
          65.828,
          65.861,
          65.894,
          65.927,
          65.96,
          65.993,
          66.026,
          66.059,
          66.092,
          66.125,
          66.158,
          66.191,
          66.224,
          66.257,
          66.29,
          66.32300000000001,
          66.356,
          66.389,
          66.422,
          66.455,
          66.488,
          66.521,
          66.554,
          66.587,
          66.62,
          66.653,
          66.686,
          66.719,
          66.752,
          66.785,
          66.818,
          66.851,
          66.884,
          66.917,
          66.95,
          66.983,
          67.016,
          67.049,
          67.082,
          67.115,
          67.148,
          67.181,
          67.214,
          67.247,
          67.28,
          67.313,
          67.346,
          67.379,
          67.412,
          67.445,
          67.478,
          67.511,
          67.544,
          67.577,
          67.61,
          67.643,
          67.676,
          67.709,
          67.742,
          67.775,
          67.80799999999999,
          67.841,
          67.874,
          67.907,
          67.94,
          67.973,
          68.006,
          68.039,
          68.072,
          68.105,
          68.138,
          68.171,
          68.204,
          68.237,
          68.27,
          68.303,
          68.336,
          68.369,
          68.402,
          68.435,
          68.468,
          68.501,
          68.534,
          68.56700000000001,
          68.6,
          68.633,
          68.666,
          68.699,
          68.732,
          68.765,
          68.798,
          68.831,
          68.864,
          68.897,
          68.93,
          68.963,
          68.996,
          69.029,
          69.062,
          69.095,
          69.128,
          69.161,
          69.194,
          69.227,
          69.26,
          69.293,
          69.326,
          69.359,
          69.392,
          69.425,
          69.458,
          69.491,
          69.524,
          69.557,
          69.59,
          69.623,
          69.656,
          69.689,
          69.722,
          69.755,
          69.788,
          69.821,
          69.854,
          69.887,
          69.92,
          69.953,
          69.986,
          70.019,
          70.05199999999999,
          70.08500000000001,
          70.118,
          70.151,
          70.184,
          70.217,
          70.25,
          70.283,
          70.316,
          70.349,
          70.382,
          70.41499999999999,
          70.44800000000001,
          70.481,
          70.514,
          70.547,
          70.58,
          70.613,
          70.646,
          70.679,
          70.712,
          70.745,
          70.778,
          70.811,
          70.844,
          70.877,
          70.91,
          70.943,
          70.976,
          71.009,
          71.042,
          71.075,
          71.108,
          71.141,
          71.174,
          71.207,
          71.24,
          71.273,
          71.306,
          71.339,
          71.372,
          71.405,
          71.438,
          71.471,
          71.504,
          71.537,
          71.57,
          71.603,
          71.636,
          71.669,
          71.702,
          71.735,
          71.768,
          71.801,
          71.834,
          71.867,
          71.9,
          71.93299999999999,
          71.966,
          71.999,
          72.032,
          72.065,
          72.098,
          72.131,
          72.164,
          72.197,
          72.23,
          72.263,
          72.29599999999999,
          72.32900000000001,
          72.362,
          72.395,
          72.428,
          72.461,
          72.494,
          72.527,
          72.56,
          72.593,
          72.626,
          72.659,
          72.69200000000001,
          72.725,
          72.758,
          72.791,
          72.824,
          72.857,
          72.89,
          72.923,
          72.956,
          72.989,
          73.022,
          73.055,
          73.088,
          73.121,
          73.154,
          73.187,
          73.22,
          73.253,
          73.286,
          73.319,
          73.352,
          73.385,
          73.418,
          73.451,
          73.484,
          73.517,
          73.55,
          73.583,
          73.616,
          73.649,
          73.682,
          73.715,
          73.748,
          73.781,
          73.814,
          73.847,
          73.88,
          73.913,
          73.946,
          73.979,
          74.012,
          74.045,
          74.078,
          74.111,
          74.144,
          74.17699999999999,
          74.21000000000001,
          74.243,
          74.276,
          74.309,
          74.342,
          74.375,
          74.408,
          74.441,
          74.474,
          74.507,
          74.53999999999999,
          74.57300000000001,
          74.606,
          74.639,
          74.672,
          74.705,
          74.738,
          74.771,
          74.804,
          74.837,
          74.87,
          74.903,
          74.936,
          74.969,
          75.002,
          75.035,
          75.068,
          75.101,
          75.134,
          75.167,
          75.2,
          75.233,
          75.266,
          75.299,
          75.332,
          75.365,
          75.398,
          75.431,
          75.464,
          75.497,
          75.53,
          75.563,
          75.596,
          75.629,
          75.662,
          75.695,
          75.728,
          75.761,
          75.794,
          75.827,
          75.86,
          75.893,
          75.926,
          75.959,
          75.992,
          76.025,
          76.05799999999999,
          76.091,
          76.124,
          76.157,
          76.19,
          76.223,
          76.256,
          76.289,
          76.322,
          76.355,
          76.388,
          76.42099999999999,
          76.45400000000001,
          76.487,
          76.52,
          76.553,
          76.586,
          76.619,
          76.652,
          76.685,
          76.718,
          76.751,
          76.784,
          76.81700000000001,
          76.85,
          76.883,
          76.916,
          76.949,
          76.982,
          77.015,
          77.048,
          77.081,
          77.114,
          77.147,
          77.18,
          77.213,
          77.246,
          77.279,
          77.312,
          77.345,
          77.378,
          77.411,
          77.444,
          77.477,
          77.51,
          77.543,
          77.576,
          77.609,
          77.642,
          77.675,
          77.708,
          77.741,
          77.774,
          77.807,
          77.84,
          77.873,
          77.906,
          77.939,
          77.972,
          78.005,
          78.038,
          78.071,
          78.104,
          78.137,
          78.17,
          78.203,
          78.236,
          78.269,
          78.30199999999999,
          78.33500000000001,
          78.368,
          78.401,
          78.434,
          78.467
         ],
         "xaxis": "x",
         "y": [
          0.007048711142694965,
          0.0072128816852201965,
          0.007375402557977154,
          0.007536255831180471,
          0.0076954530443772585,
          0.00785303615214549,
          0.00800907829617766,
          0.008163684398275821,
          0.008316991570301661,
          0.00846916933864329,
          0.008620419682262122,
          0.008770976884846808,
          0.008921107203012904,
          0.009071108353822379,
          0.009221308826146822,
          0.009372067021543112,
          0.009523770231337452,
          0.00967683345751601,
          0.009831698085780329,
          0.009988830419747349,
          0.01014872008574176,
          0.01031187831794985,
          0.010478836133872646,
          0.010650142410042801,
          0.010826361867853162,
          0.011008072979101747,
          0.011195865800495657,
          0.011390339745892802,
          0.011592101304509767,
          0.011801761712712312,
          0.012019934586345352,
          0.01224723351988453,
          0.01248426965801796,
          0.012731649244629103,
          0.012989971153566145,
          0.013259824405081659,
          0.013541785671434232,
          0.013836416774875165,
          0.014144262181128993,
          0.014465846491526687,
          0.014801671937178044,
          0.015152215878991106,
          0.015517928317952446,
          0.01589922942088382,
          0.01629650706787251,
          0.016710114428720106,
          0.017140367577056958,
          0.017587543152186084,
          0.01805187608022897,
          0.018533557367711555,
          0.019032731982294826,
          0.019549496836887243,
          0.020083898894826698,
          0.020635933415120496,
          0.021205542357850903,
          0.021792612970725926,
          0.022396976578330945,
          0.023018407595884825,
          0.023656622789159733,
          0.024311280801677198,
          0.02498198196930149,
          0.025668268440908283,
          0.02636962462189373,
          0.02708547795493261,
          0.02781520004958219,
          0.028558108169109846,
          0.029313467079338816,
          0.030080491260390124,
          0.030858347478028722,
          0.0316461577069777,
          0.0324430023940961,
          0.03324792404484815,
          0.03405993111208934,
          0.034878002161967264,
          0.03570109028777194,
          0.03652812773895969,
          0.03735803072942658,
          0.03818970438646024,
          0.039022047799780815,
          0.03985395912869552,
          0.04068434072472771,
          0.04151210422714051,
          0.04233617558959634,
          0.04315549999774446,
          0.04396904663981876,
          0.044775813295291504,
          0.045574830710227006,
          0.046365166732130064,
          0.04714593018169094,
          0.04791627444382482,
          0.048675400765619804,
          0.04942256125418027,
          0.050157061572718875,
          0.05087826333849942,
          0.051585586231229615,
          0.052278509825127155,
          0.0529565751620281,
          0.05361938608644508,
          0.05426661036635504,
          0.054897980625589676,
          0.05551329511500415,
          0.05611241835001327,
          0.056695281641657796,
          0.0572618835470419,
          0.057812290262831974,
          0.05834663598255187,
          0.05886512323472399,
          0.059368023214576106,
          0.05985567611715457,
          0.06032849147438952,
          0.06078694849304371,
          0.06123159638472724,
          0.06166305467336378,
          0.06208201345985025,
          0.06248923361825615,
          0.06288554689294451,
          0.06327185586156207,
          0.06364913372508668,
          0.06401842388314034,
          0.06438083925066125,
          0.06473756127087175,
          0.06508983857933012,
          0.06543898527474538,
          0.0657863787542095,
          0.06613345707351738,
          0.06648171579732026,
          0.06683270430891917,
          0.06718802155549788,
          0.06754931121144231,
          0.06791825624999072,
          0.06829657292169439,
          0.06868600414691407,
          0.06908831233870831,
          0.06950527168182022,
          0.06993865990290371,
          0.07039024957649927,
          0.0708617990203915,
          0.07135504284273425,
          0.07187168221153965,
          0.07241337492465767,
          0.0729817253650949,
          0.07357827443228275,
          0.07420448954463084,
          0.07486175481224118,
          0.07555136148096785,
          0.07627449874999133,
          0.07703224506469408,
          0.07782555998482343,
          0.07865527672473248,
          0.07952209545785283,
          0.08042657747154991,
          0.08136914025115456,
          0.0823500535633433,
          0.0833694365992255,
          0.08442725622660771,
          0.08552332638906097,
          0.0866573086767633,
          0.08782871408079357,
          0.08903690592875732,
          0.09028110398555433,
          0.09156038968892209,
          0.09287371247529162,
          0.09421989713772823,
          0.0955976521444377,
          0.09700557883374442,
          0.09844218138977201,
          0.09990587749245686,
          0.10139500952616011,
          0.10290785622322914,
          0.10444264461241703,
          0.10599756213734088,
          0.10757076880712918,
          0.10916040924019954,
          0.11076462446273702,
          0.11238156332589262,
          0.11400939341003216,
          0.11564631129038247,
          0.11729055204619811,
          0.11894039790485368,
          0.12059418592307239,
          0.12225031461952822,
          0.12390724948628953,
          0.12556352732065887,
          0.12721775933384516,
          0.12886863300827953,
          0.1305149126910775,
          0.13215543892693904,
          0.13378912654943717,
          0.13541496156499544,
          0.13703199687867626,
          0.13863934692498628,
          0.14023618128020313,
          0.1418217173448726,
          0.1433952121962463,
          0.14495595372018577,
          0.1465032511405208,
          0.1480364250708475,
          0.1495547972193129,
          0.15105767988096408,
          0.15254436535477334,
          0.15401411542350724,
          0.15546615103413206,
          0.15689964231461317,
          0.15831369905964612,
          0.15970736181331363,
          0.16107959367076366,
          0.1624292729139814,
          0.163755186588562,
          0.16505602511923181,
          0.16633037805174922,
          0.16757673099784345,
          0.16879346384817484,
          0.16997885030590382,
          0.17113105878051638,
          0.17224815466821627,
          0.1733281040313731,
          0.1743687786755638,
          0.17536796260860849,
          0.1763233598517977,
          0.17723260355953407,
          0.17809326638967743,
          0.17890287205352984,
          0.17965890796132764,
          0.18035883886685267,
          0.18100012140315044,
          0.18158021939075547,
          0.18209661979021752,
          0.18254684916230335,
          0.18292849049221827,
          0.18323920022847295,
          0.18347672538296134,
          0.18363892053626127,
          0.1837237645913907,
          0.183729377120128,
          0.18365403414870068,
          0.1834961832340272,
          0.1832544576878667,
          0.18292768981397328,
          0.18251492303274824,
          0.182015422778697,
          0.18142868606812412,
          0.18075444964784132,
          0.17999269664989775,
          0.17914366169243512,
          0.17820783438236898,
          0.1771859611915537,
          0.17607904569416086,
          0.17488834716891602,
          0.173615377585475,
          0.1722618970092068,
          0.17082990747294946,
          0.1693216453776024,
          0.16773957249566365,
          0.16608636566272486,
          0.16436490525159547,
          0.16257826253186444,
          0.16072968602438503,
          0.1588225869653334,
          0.15686052399814604,
          0.15484718721386692,
          0.1527863816611732,
          0.15068201044686894,
          0.1485380575458941,
          0.14635857043703593,
          0.14414764267682134,
          0.14190939651939546,
          0.1396479656850246,
          0.13736747837401617,
          0.1350720406167723,
          0.13276572004423254,
          0.13045253015653688,
          0.12813641516116245,
          0.12582123544537996,
          0.12351075374164511,
          0.12120862203843108,
          0.11891836928328231,
          0.11664338991935029,
          0.11438693329145706,
          0.1121520939528194,
          0.10994180289890206,
          0.10775881975041628,
          0.10560572590325873,
          0.10348491865903904,
          0.10139860634585539,
          0.09934880443500654,
          0.09733733265533946,
          0.09536581310294699,
          0.09343566933981252,
          0.09154812647085822,
          0.08970421218453456,
          0.08790475873770119,
          0.08615040586103598,
          0.08444160455664423,
          0.08277862175484951,
          0.08116154579256343,
          0.07959029267094561,
          0.07806461304559005,
          0.07658409989807691,
          0.07514819683357378,
          0.07375620694529798,
          0.0724073021831271,
          0.07110053316049683,
          0.06983483933108812,
          0.06860905946465098,
          0.0674219423496965,
          0.06627215764982411,
          0.06515830684003998,
          0.06407893414968077,
          0.06303253743943399,
          0.062017578941474596,
          0.0610324957938569,
          0.060075710303048646,
          0.05914563987177431,
          0.05824070653315666,
          0.057359346036449696,
          0.05650001643436953,
          0.0556612061271498,
          0.05484144132384414,
          0.05403929288709052,
          0.05325338253341293,
          0.05248238836714983,
          0.05172504973217468,
          0.05098017137168236,
          0.05024662689236679,
          0.049523361535279614,
          0.048809394261485645,
          0.04810381916623155,
          0.04740580624073553,
          0.0467146015057659,
          0.04602952654595084,
          0.0453499774781121,
          0.0446754233909142,
          0.044005404296624244,
          0.043339528638863235,
          0.04267747040276836,
          0.042018965876054803,
          0.04136381011095221,
          0.040711853137962085,
          0.040062995982772506,
          0.03941718653749807,
          0.03877441533669346,
          0.038134711287297306,
          0.037498137399864406,
          0.036864786566101,
          0.036234777424916896,
          0.03560825035594721,
          0.03498536363584195,
          0.034366289788604044,
          0.03375121215696668,
          0.033140321717264117,
          0.03253381415555427,
          0.03193188721797431,
          0.0313347383435101,
          0.030742562582625487,
          0.030155550800590535,
          0.029573888159959063,
          0.028997752872535476,
          0.02842731520740295,
          0.027862736738228755,
          0.02730416981015936,
          0.026751757204225048,
          0.02620563197530803,
          0.02566591743842899,
          0.025132727277376324,
          0.024606165749541383,
          0.024086327961225236,
          0.023573300188622685,
          0.023067160221122495,
          0.02256797770547323,
          0.022075814471655474,
          0.02159072482395935,
          0.021112755783680326,
          0.020641947272966775,
          0.02017833223260909,
          0.01972193666983849,
          0.019272779635470052,
          0.01883087313287296,
          0.01839622196421565,
          0.0179688235221586,
          0.017548667537575627,
          0.017135735795933697,
          0.01673000183661503,
          0.016331430650681256,
          0.01593997839332358,
          0.015555592127554979,
          0.015178209615509308,
          0.014807759173091446,
          0.014444159602664638,
          0.014087320216995818,
          0.013737140965868337,
          0.013393512674638052,
          0.01305631740162875,
          0.012725428918679525,
          0.01240071331645009,
          0.012082029733305827,
          0.011769231203828754,
          0.011462165620277126,
          0.011160676797731372,
          0.010864605631241945,
          0.01057379133113082,
          0.010288072720688685,
          0.010007289578946938,
          0.009731284009966286,
          0.009459901819240989,
          0.009192993877344489,
          0.008930417450873812,
          0.00867203748106437,
          0.008417727791137065,
          0.008167372204488814,
          0.007920865557219346,
          0.007678114590155292,
          0.007439038707472684,
          0.007203570591161266,
          0.0069716566628894,
          0.00674325738726364,
          0.006518347412977528,
          0.006296915550865639,
          0.006078964590371243,
          0.005864510958346678,
          0.005653584226399405,
          0.00544622647512845,
          0.0052424915255279685,
          0.0050424440495427485,
          0.0048461585732138155,
          0.004653718387035488,
          0.004465214379042562,
          0.004280743806755195,
          0.004100409024420742,
          0.003924316182023848,
          0.0037525739122821174,
          0.0035852920213383013,
          0.003422580198106341,
          0.0032645467562610396,
          0.003111297421701323,
          0.002962934176999551,
          0.0028195541729026615,
          0.002681248715408509,
          0.0025481023353385304,
          0.002420191945695437,
          0.0022975860904696985,
          0.0021803442869631055,
          0.0020685164621752775,
          0.0019621424823574297,
          0.0018612517735187243,
          0.0017658630294804427,
          0.0016759840030377347,
          0.0015916113749141817,
          0.0015127306944961406,
          0.0014393163858110877,
          0.0013713318118729508,
          0.0013087293903521445,
          0.0012514507535350287,
          0.0011994269457068156,
          0.0011525786514098317,
          0.0011108164484847716,
          0.001074041080374629,
          0.0010421437428428087,
          0.0010150063810089038,
          0.0009925019934140331,
          0.0009744949406728614,
          0.0009608412571286396,
          0.0009513889647790072,
          0.0009459783895635093,
          0.0009444424808789073,
          0.0009466071358970766,
          0.0009522915308862434,
          0.0009613084622653259,
          0.0009734647005408619,
          0.0009885613605773644,
          0.001006394291827768,
          0.0010267544921970352,
          0.0010494285491278574,
          0.0010741991112835007,
          0.001100845393864903,
          0.0011291437201417615,
          0.0011588681012126118,
          0.0011897908553454145,
          0.001221683267504233,
          0.0012543162888521326,
          0.001287461275154475,
          0.0013208907621058525,
          0.0013543792746889655,
          0.0013877041667616787,
          0.0014206464861803378,
          0.0014529918599201935,
          0.0014845313928663411,
          0.0015150625732387717,
          0.0015443901769962376,
          0.001572327163052221,
          0.0015986955507426316,
          0.001623327270719825,
          0.0016460649803176203,
          0.0016667628344437433,
          0.0016852872032100976,
          0.0017015173278089328,
          0.0017153459065804419,
          0.0017266796037893445,
          0.0017354394743274754,
          0.0017415612983743298,
          0.0017449958209679838
         ],
         "yaxis": "y"
        },
        {
         "legendgroup": "False",
         "marker": {
          "color": "#636efb"
         },
         "mode": "lines",
         "name": "False",
         "showlegend": true,
         "type": "scatter",
         "x": [
          62,
          62.033,
          62.066,
          62.099,
          62.132,
          62.165,
          62.198,
          62.231,
          62.264,
          62.297,
          62.33,
          62.363,
          62.396,
          62.429,
          62.462,
          62.495,
          62.528,
          62.561,
          62.594,
          62.627,
          62.66,
          62.693,
          62.726,
          62.759,
          62.792,
          62.825,
          62.858,
          62.891,
          62.924,
          62.957,
          62.99,
          63.023,
          63.056,
          63.089,
          63.122,
          63.155,
          63.188,
          63.221000000000004,
          63.254,
          63.287,
          63.32,
          63.353,
          63.386,
          63.419,
          63.452,
          63.485,
          63.518,
          63.551,
          63.584,
          63.617,
          63.65,
          63.683,
          63.716,
          63.749,
          63.782,
          63.815,
          63.848,
          63.881,
          63.914,
          63.947,
          63.98,
          64.013,
          64.046,
          64.079,
          64.112,
          64.145,
          64.178,
          64.211,
          64.244,
          64.277,
          64.31,
          64.343,
          64.376,
          64.409,
          64.44200000000001,
          64.475,
          64.508,
          64.541,
          64.574,
          64.607,
          64.64,
          64.673,
          64.706,
          64.739,
          64.772,
          64.805,
          64.838,
          64.871,
          64.904,
          64.937,
          64.97,
          65.003,
          65.036,
          65.069,
          65.102,
          65.135,
          65.168,
          65.201,
          65.234,
          65.267,
          65.3,
          65.333,
          65.366,
          65.399,
          65.432,
          65.465,
          65.498,
          65.531,
          65.564,
          65.597,
          65.63,
          65.663,
          65.696,
          65.729,
          65.762,
          65.795,
          65.828,
          65.861,
          65.894,
          65.927,
          65.96,
          65.993,
          66.026,
          66.059,
          66.092,
          66.125,
          66.158,
          66.191,
          66.224,
          66.257,
          66.29,
          66.32300000000001,
          66.356,
          66.389,
          66.422,
          66.455,
          66.488,
          66.521,
          66.554,
          66.587,
          66.62,
          66.653,
          66.686,
          66.719,
          66.752,
          66.785,
          66.818,
          66.851,
          66.884,
          66.917,
          66.95,
          66.983,
          67.016,
          67.049,
          67.082,
          67.115,
          67.148,
          67.181,
          67.214,
          67.247,
          67.28,
          67.313,
          67.346,
          67.379,
          67.412,
          67.445,
          67.478,
          67.511,
          67.544,
          67.577,
          67.61,
          67.643,
          67.676,
          67.709,
          67.742,
          67.775,
          67.80799999999999,
          67.841,
          67.874,
          67.907,
          67.94,
          67.973,
          68.006,
          68.039,
          68.072,
          68.105,
          68.138,
          68.171,
          68.204,
          68.237,
          68.27,
          68.303,
          68.336,
          68.369,
          68.402,
          68.435,
          68.468,
          68.501,
          68.534,
          68.56700000000001,
          68.6,
          68.633,
          68.666,
          68.699,
          68.732,
          68.765,
          68.798,
          68.831,
          68.864,
          68.897,
          68.93,
          68.963,
          68.996,
          69.029,
          69.062,
          69.095,
          69.128,
          69.161,
          69.194,
          69.227,
          69.26,
          69.293,
          69.326,
          69.359,
          69.392,
          69.425,
          69.458,
          69.491,
          69.524,
          69.557,
          69.59,
          69.623,
          69.656,
          69.689,
          69.722,
          69.755,
          69.788,
          69.821,
          69.854,
          69.887,
          69.92,
          69.953,
          69.986,
          70.019,
          70.05199999999999,
          70.08500000000001,
          70.118,
          70.151,
          70.184,
          70.217,
          70.25,
          70.283,
          70.316,
          70.349,
          70.382,
          70.41499999999999,
          70.44800000000001,
          70.481,
          70.514,
          70.547,
          70.58,
          70.613,
          70.646,
          70.679,
          70.712,
          70.745,
          70.778,
          70.811,
          70.844,
          70.877,
          70.91,
          70.943,
          70.976,
          71.009,
          71.042,
          71.075,
          71.108,
          71.141,
          71.174,
          71.207,
          71.24,
          71.273,
          71.306,
          71.339,
          71.372,
          71.405,
          71.438,
          71.471,
          71.504,
          71.537,
          71.57,
          71.603,
          71.636,
          71.669,
          71.702,
          71.735,
          71.768,
          71.801,
          71.834,
          71.867,
          71.9,
          71.93299999999999,
          71.966,
          71.999,
          72.032,
          72.065,
          72.098,
          72.131,
          72.164,
          72.197,
          72.23,
          72.263,
          72.29599999999999,
          72.32900000000001,
          72.362,
          72.395,
          72.428,
          72.461,
          72.494,
          72.527,
          72.56,
          72.593,
          72.626,
          72.659,
          72.69200000000001,
          72.725,
          72.758,
          72.791,
          72.824,
          72.857,
          72.89,
          72.923,
          72.956,
          72.989,
          73.022,
          73.055,
          73.088,
          73.121,
          73.154,
          73.187,
          73.22,
          73.253,
          73.286,
          73.319,
          73.352,
          73.385,
          73.418,
          73.451,
          73.484,
          73.517,
          73.55,
          73.583,
          73.616,
          73.649,
          73.682,
          73.715,
          73.748,
          73.781,
          73.814,
          73.847,
          73.88,
          73.913,
          73.946,
          73.979,
          74.012,
          74.045,
          74.078,
          74.111,
          74.144,
          74.17699999999999,
          74.21000000000001,
          74.243,
          74.276,
          74.309,
          74.342,
          74.375,
          74.408,
          74.441,
          74.474,
          74.507,
          74.53999999999999,
          74.57300000000001,
          74.606,
          74.639,
          74.672,
          74.705,
          74.738,
          74.771,
          74.804,
          74.837,
          74.87,
          74.903,
          74.936,
          74.969,
          75.002,
          75.035,
          75.068,
          75.101,
          75.134,
          75.167,
          75.2,
          75.233,
          75.266,
          75.299,
          75.332,
          75.365,
          75.398,
          75.431,
          75.464,
          75.497,
          75.53,
          75.563,
          75.596,
          75.629,
          75.662,
          75.695,
          75.728,
          75.761,
          75.794,
          75.827,
          75.86,
          75.893,
          75.926,
          75.959,
          75.992,
          76.025,
          76.05799999999999,
          76.091,
          76.124,
          76.157,
          76.19,
          76.223,
          76.256,
          76.289,
          76.322,
          76.355,
          76.388,
          76.42099999999999,
          76.45400000000001,
          76.487,
          76.52,
          76.553,
          76.586,
          76.619,
          76.652,
          76.685,
          76.718,
          76.751,
          76.784,
          76.81700000000001,
          76.85,
          76.883,
          76.916,
          76.949,
          76.982,
          77.015,
          77.048,
          77.081,
          77.114,
          77.147,
          77.18,
          77.213,
          77.246,
          77.279,
          77.312,
          77.345,
          77.378,
          77.411,
          77.444,
          77.477,
          77.51,
          77.543,
          77.576,
          77.609,
          77.642,
          77.675,
          77.708,
          77.741,
          77.774,
          77.807,
          77.84,
          77.873,
          77.906,
          77.939,
          77.972,
          78.005,
          78.038,
          78.071,
          78.104,
          78.137,
          78.17,
          78.203,
          78.236,
          78.269,
          78.30199999999999,
          78.33500000000001,
          78.368,
          78.401,
          78.434,
          78.467
         ],
         "xaxis": "x",
         "y": [
          0.0017271502408260973,
          0.0017713373249892536,
          0.0018152575990133472,
          0.001859102413333278,
          0.0019031061649922626,
          0.0019475477629968653,
          0.001992751687483555,
          0.0020390886011181406,
          0.002086975474479243,
          0.0021368751913940697,
          0.0021892956053223586,
          0.002244788023927643,
          0.0023039451059244757,
          0.0023673981621111723,
          0.0024358138611391307,
          0.0025098903499493784,
          0.0025903528088204336,
          0.00267794847148352,
          0.0027734411516122264,
          0.002877605327989586,
          0.0029912198515858078,
          0.003115061348400277,
          0.003249897401973697,
          0.0033964796086862746,
          0.003555536607038752,
          0.0037277671887784108,
          0.003913833604702916,
          0.004114355180981118,
          0.004329902362630186,
          0.004560991299176704,
          0.004808079083336913,
          0.005071559746668115,
          0.005351761106523784,
          0.0056489425463052,
          0.005963293796041751,
          0.006294934762932523,
          0.006643916441898623,
          0.007010222914774595,
          0.007393774423936515,
          0.007794431482412386,
          0.008211999958410583,
          0.008646237048351546,
          0.009096858029537245,
          0.009563543662213014,
          0.010045948091643792,
          0.010543707084570806,
          0.011056446421659531,
          0.011583790258809833,
          0.012125369265946486,
          0.01268082835246019,
          0.013249833794065259,
          0.013832079586527594,
          0.014427292867442912,
          0.015035238267744517,
          0.015655721079521127,
          0.016288589155446606,
          0.0169337334869828,
          0.017591087442673698,
          0.018260624683350962,
          0.018942355806904874,
          0.01963632381035234,
          0.02034259849014612,
          0.021061269931945452,
          0.02179244126738063,
          0.022536220896729523,
          0.023292714392113452,
          0.024062016305145095,
          0.02484420210546379,
          0.02563932047205486,
          0.02644738614764396,
          0.027268373548025613,
          0.02810221129339568,
          0.02894877779832617,
          0.02980789802184628,
          0.030679341440319138,
          0.03156282126466497,
          0.03245799488138346,
          0.03336446545520556,
          0.03428178459155536,
          0.03520945592072939,
          0.03614693943418809,
          0.037093656377801404,
          0.03804899448832295,
          0.03901231334859665,
          0.039982949634560144,
          0.040960222033232525,
          0.041943435625536804,
          0.042931885550610636,
          0.04392485979853964,
          0.04492164101527119,
          0.04592150724558147,
          0.046923731585979525,
          0.04792758076772198,
          0.04893231273897114,
          0.049937173362805336,
          0.050941392392506786,
          0.051944178925677216,
          0.05294471657266537,
          0.05394215860127143,
          0.05493562333754658,
          0.05592419011103329,
          0.05690689603139723,
          0.057882733872079706,
          0.058850651315477065,
          0.05980955178384681,
          0.06075829704152764,
          0.06169571170833025,
          0.06262058977255198,
          0.06353170313663488,
          0.0644278121707882,
          0.06530767819179727,
          0.06617007772761388,
          0.06701381837491502,
          0.06783775600834283,
          0.06864081305804792,
          0.06942199753768871,
          0.0701804224791344,
          0.07091532541342124,
          0.07162608753031559,
          0.07231225215109473,
          0.07297354216052115,
          0.07360987606375341,
          0.07422138236118671,
          0.07480841196777488,
          0.07537154844187724,
          0.0759116158306775,
          0.07642968398323476,
          0.07692707122670607,
          0.07740534434490523,
          0.07786631583978644,
          0.07831203849462443,
          0.07874479729176388,
          0.07916709876719655,
          0.07958165790864742,
          0.07999138272320917,
          0.08039935661517679,
          0.08080881872502454,
          0.0812231423871623,
          0.08164581186811147,
          0.08208039754896014,
          0.0825305297175087,
          0.08299987113735469,
          0.08349208856429975,
          0.08401082338565949,
          0.08455966156599205,
          0.08514210309378809,
          0.08576153113794655,
          0.08642118114023394,
          0.08712411008990101,
          0.08787316624853071,
          0.08867095961594303,
          0.08951983345042627,
          0.09042183717723132,
          0.09137870103668616,
          0.09239181283590138,
          0.09346219717429992,
          0.09459049751173687,
          0.09577696143754887,
          0.09702142947856686,
          0.09832332775326805,
          0.09968166473764964,
          0.10109503235625328,
          0.10256161154961647,
          0.10407918239843891,
          0.10564513880633083,
          0.1072565076591047,
          0.10890997229134645,
          0.11060190000300427,
          0.11232837328259583,
          0.11408522431208272,
          0.11586807225432477,
          0.11767236275979276,
          0.11949340907736938,
          0.1213264341165508,
          0.12316661278688469,
          0.12500911393604697,
          0.12684914122123278,
          0.1286819722793752,
          0.130502995609446,
          0.13230774464355782,
          0.13409192856070667,
          0.13585145948564714,
          0.13758247581252542,
          0.1392813614954534,
          0.140944761252792,
          0.14256959173493444,
          0.14415304880343266,
          0.14569261115900797,
          0.1471860406343521,
          0.14863137953193467,
          0.15002694543527495,
          0.15137132395277103,
          0.1526633598652799,
          0.15390214714230543,
          0.15508701826715324,
          0.15621753327039042,
          0.1572934688151174,
          0.15831480760955385,
          0.15928172834537355,
          0.16019459627733018,
          0.1610539544748657,
          0.1618605156931587,
          0.16261515473316643,
          0.16331890109131794,
          0.16397293164239155,
          0.16457856305683916,
          0.16513724362803558,
          0.165650544177459,
          0.16612014771683134,
          0.1665478375759624,
          0.16693548375237244,
          0.16728502730204384,
          0.16759846266753875,
          0.16787781792722936,
          0.16812513304406995,
          0.16834243629039664,
          0.16853171912258202,
          0.1686949098720974,
          0.16883384670353255,
          0.16895025036174696,
          0.1690456972865686,
          0.1691215937112193,
          0.16917915137831896,
          0.1692193655034448,
          0.16924299559026731,
          0.1692505496540044,
          0.16924227234200417,
          0.16921813735428393,
          0.16917784446500125,
          0.16912082133187126,
          0.16904623015798917,
          0.16895297914371055,
          0.16883973853942172,
          0.1687049609877077,
          0.16854690572959272,
          0.16836366614838075,
          0.16815320003931303,
          0.16791336192710213,
          0.16764193670790667,
          0.16733667386981183,
          0.166995321545979,
          0.1666156596779707,
          0.16619553161165282,
          0.16573287351299018,
          0.1652257410735078,
          0.1646723330716695,
          0.16407101146394135,
          0.16342031779321803,
          0.16271898581911928,
          0.16196595038980413,
          0.16116035268474913,
          0.16030154205828792,
          0.15938907480183642,
          0.15842271021528984,
          0.1574024044334037,
          0.1563283024894043,
          0.15520072911486366,
          0.15402017877236762,
          0.1527873053961039,
          0.1515029122769994,
          0.1501679424752937,
          0.14878347007729023,
          0.1473506925371597,
          0.14587092426277354,
          0.14434559151965456,
          0.14277622864300613,
          0.1411644754675538,
          0.1395120758117617,
          0.13782087678951593,
          0.13609282867089778,
          0.134329984976099,
          0.1325345024633339,
          0.13070864066451318,
          0.12885476062992468,
          0.12697532256595884,
          0.12507288208551753,
          0.12315008483865746,
          0.12120965934809765,
          0.11925440793882627,
          0.11728719572014448,
          0.11531093764947567,
          0.11332858377766229,
          0.11134310284223242,
          0.10935746443650042,
          0.10737462003562342,
          0.10539748320481275,
          0.10342890934788779,
          0.10147167537590479,
          0.09952845968498784,
          0.09760182282988779,
          0.09569418926571475,
          0.09380783050557771,
          0.09194485000770805,
          0.09010717006360833,
          0.0882965209105085,
          0.08651443223872374,
          0.08476222720934679,
          0.08304101904187382,
          0.081351710176604,
          0.07969499396458907,
          0.07807135878998847,
          0.07648109448689916,
          0.07492430087614983,
          0.07340089821757137,
          0.0719106393502591,
          0.07045312327738072,
          0.069027809942729,
          0.06763403594321639,
          0.06627103092407567,
          0.06493793441086218,
          0.06363381284362522,
          0.062357676592939455,
          0.06110849675377662,
          0.05988522153080788,
          0.05868679204674502,
          0.05751215742312429,
          0.05636028900002477,
          0.05523019357723392,
          0.05412092557409642,
          0.053031598018693955,
          0.05196139228922259,
          0.050909566541600317,
          0.04987546276786396,
          0.04885851244012371,
          0.047858240705099794,
          0.04687426910509838,
          0.04590631681291641,
          0.04495420038099873,
          0.044017832019345,
          0.04309721643233679,
          0.042192446261707546,
          0.04130369620124092,
          0.040431215868045586,
          0.03957532153510498,
          0.03873638684962679,
          0.03791483268088282,
          0.03711111625920504,
          0.036325719783630354,
          0.03555913868894865,
          0.03481186977266963,
          0.034084399388361705,
          0.0333771919131666,
          0.03269067869399877,
          0.032025247668544685,
          0.031381233843826926,
          0.030758910796873994,
          0.03015848333930039,
          0.029580081460860823,
          0.0290237556369563,
          0.02848947355250506,
          0.027977118260423203,
          0.027486487758244558,
          0.02701729593219749,
          0.026569174785413475,
          0.026141677836921066,
          0.025734284551619996,
          0.02534640563944081,
          0.024977389045038566,
          0.024626526438231693,
          0.02429306001033861,
          0.02397618938270379,
          0.023675078441022214,
          0.023388861922259214,
          0.023116651599570888,
          0.022857541933957615,
          0.022610615088646414,
          0.02237494523237857,
          0.022149602089864225,
          0.021933653730472433,
          0.021726168618662455,
          0.02152621698053784,
          0.021332871569199024,
          0.02114520793627072,
          0.020962304337255922,
          0.02078324141354743,
          0.020607101803471285,
          0.020432969838389135,
          0.02025993147750135,
          0.020087074626741357,
          0.019913489973281635,
          0.01973827244827468,
          0.01956052340710664,
          0.019379353589561138,
          0.019193886892753618,
          0.019003264958520276,
          0.018806652545227488,
          0.018603243622721272,
          0.018392268099450337,
          0.018172999063597834,
          0.01794476039626213,
          0.017706934595064734,
          0.017458970631662952,
          0.017200391656931227,
          0.01693080236335667,
          0.016649895815520097,
          0.016357459566366167,
          0.0160533808890287,
          0.015737650970860096,
          0.0154103679374881,
          0.015071738599498844,
          0.014722078841987023,
          0.014361812606874191,
          0.013991469448734509,
          0.013611680675998172,
          0.01322317411997472,
          0.012826767603338595,
          0.012423361206824057,
          0.012013928457183161,
          0.011599506580473665,
          0.011181185981966288,
          0.010760099127122485,
          0.010337409006966922,
          0.009914297375720407,
          0.009491952948820274,
          0.009071559745590523,
          0.008654285753127969,
          0.008241272076774922,
          0.007833622728309533,
          0.007432395186163112,
          0.0070385918431245436,
          0.006653152436634423,
          0.006276947535474994,
          0.005910773134961138,
          0.005555346391146608,
          0.005211302503553813,
          0.004879192735947811,
          0.0045594835460720665,
          0.004252556778358271,
          0.003958710858655498,
          0.00367816291717824,
          0.0034110517552497967,
          0.003157441563077746,
          0.002917326289718577,
          0.0026906345625117172,
          0.0024772350514822147,
          0.0022769421743655204,
          0.002089522039831392,
          0.0019146985299644816,
          0.0017521594278825166,
          0.001601562502317108,
          0.001462541467813949,
          0.0013347117467233354,
          0.00121767596712321,
          0.0011110291390710033,
          0.0010143634599322543,
          0.0009272727078392821,
          0.0008493561904637109,
          0.0007802222241368988,
          0.0007194911258459035,
          0.0006667977077088745,
          0.0006217932701588721,
          0.0005841470962183135,
          0.000553547454927823,
          0.0005297021272102058,
          0.0005123384722254563,
          0.000501203056629673,
          0.0004960608731199437,
          0.0004966941782573953,
          0.000502900982838796,
          0.0005144932310549023,
          0.0005312947073464949,
          0.0005531387122539556,
          0.0005798655506508542,
          0.0006113198775450566,
          0.0006473479481020356,
          0.000687794819664571,
          0.0007325015542748346,
          0.0007813024705074344,
          0.0008340224932487816,
          0.0008904746493639057,
          0.0009504577559307843,
          0.0010137543458534192,
          0.0010801288731558806,
          0.0011493262370851818,
          0.0012210706603000814,
          0.0012950649518999483,
          0.0013709901808701824,
          0.0014485057797274806,
          0.0015272500917952198,
          0.0016068413687003776,
          0.0016868792174533646,
          0.001766946488960768,
          0.0018466115921552393,
          0.0019254312102445499,
          0.00200295338803529,
          0.002078720952027853,
          0.0021522752181727016,
          0.0022231599359725527,
          0.002290925412170871,
          0.0023551327527168687,
          0.0024153581581712502,
          0.002471197205320178,
          0.002522269046580934,
          0.0025682204588706897,
          0.0026087296749994085,
          0.0026435099333380484,
          0.002672312685474362,
          0.002694930406739445,
          0.0027111989607737953,
          0.0027209994765873082
         ],
         "yaxis": "y"
        }
       ],
       "layout": {
        "autosize": true,
        "barmode": "overlay",
        "hovermode": "closest",
        "legend": {
         "traceorder": "reversed"
        },
        "template": {
         "data": {
          "bar": [
           {
            "error_x": {
             "color": "rgb(36,36,36)"
            },
            "error_y": {
             "color": "rgb(36,36,36)"
            },
            "marker": {
             "line": {
              "color": "white",
              "width": 0.5
             },
             "pattern": {
              "fillmode": "overlay",
              "size": 10,
              "solidity": 0.2
             }
            },
            "type": "bar"
           }
          ],
          "barpolar": [
           {
            "marker": {
             "line": {
              "color": "white",
              "width": 0.5
             },
             "pattern": {
              "fillmode": "overlay",
              "size": 10,
              "solidity": 0.2
             }
            },
            "type": "barpolar"
           }
          ],
          "carpet": [
           {
            "aaxis": {
             "endlinecolor": "rgb(36,36,36)",
             "gridcolor": "white",
             "linecolor": "white",
             "minorgridcolor": "white",
             "startlinecolor": "rgb(36,36,36)"
            },
            "baxis": {
             "endlinecolor": "rgb(36,36,36)",
             "gridcolor": "white",
             "linecolor": "white",
             "minorgridcolor": "white",
             "startlinecolor": "rgb(36,36,36)"
            },
            "type": "carpet"
           }
          ],
          "choropleth": [
           {
            "colorbar": {
             "outlinewidth": 1,
             "tickcolor": "rgb(36,36,36)",
             "ticks": "outside"
            },
            "type": "choropleth"
           }
          ],
          "contour": [
           {
            "colorbar": {
             "outlinewidth": 1,
             "tickcolor": "rgb(36,36,36)",
             "ticks": "outside"
            },
            "colorscale": [
             [
              0,
              "#440154"
             ],
             [
              0.1111111111111111,
              "#482878"
             ],
             [
              0.2222222222222222,
              "#3e4989"
             ],
             [
              0.3333333333333333,
              "#31688e"
             ],
             [
              0.4444444444444444,
              "#26828e"
             ],
             [
              0.5555555555555556,
              "#1f9e89"
             ],
             [
              0.6666666666666666,
              "#35b779"
             ],
             [
              0.7777777777777778,
              "#6ece58"
             ],
             [
              0.8888888888888888,
              "#b5de2b"
             ],
             [
              1,
              "#fde725"
             ]
            ],
            "type": "contour"
           }
          ],
          "contourcarpet": [
           {
            "colorbar": {
             "outlinewidth": 1,
             "tickcolor": "rgb(36,36,36)",
             "ticks": "outside"
            },
            "type": "contourcarpet"
           }
          ],
          "heatmap": [
           {
            "colorbar": {
             "outlinewidth": 1,
             "tickcolor": "rgb(36,36,36)",
             "ticks": "outside"
            },
            "colorscale": [
             [
              0,
              "#440154"
             ],
             [
              0.1111111111111111,
              "#482878"
             ],
             [
              0.2222222222222222,
              "#3e4989"
             ],
             [
              0.3333333333333333,
              "#31688e"
             ],
             [
              0.4444444444444444,
              "#26828e"
             ],
             [
              0.5555555555555556,
              "#1f9e89"
             ],
             [
              0.6666666666666666,
              "#35b779"
             ],
             [
              0.7777777777777778,
              "#6ece58"
             ],
             [
              0.8888888888888888,
              "#b5de2b"
             ],
             [
              1,
              "#fde725"
             ]
            ],
            "type": "heatmap"
           }
          ],
          "heatmapgl": [
           {
            "colorbar": {
             "outlinewidth": 1,
             "tickcolor": "rgb(36,36,36)",
             "ticks": "outside"
            },
            "colorscale": [
             [
              0,
              "#440154"
             ],
             [
              0.1111111111111111,
              "#482878"
             ],
             [
              0.2222222222222222,
              "#3e4989"
             ],
             [
              0.3333333333333333,
              "#31688e"
             ],
             [
              0.4444444444444444,
              "#26828e"
             ],
             [
              0.5555555555555556,
              "#1f9e89"
             ],
             [
              0.6666666666666666,
              "#35b779"
             ],
             [
              0.7777777777777778,
              "#6ece58"
             ],
             [
              0.8888888888888888,
              "#b5de2b"
             ],
             [
              1,
              "#fde725"
             ]
            ],
            "type": "heatmapgl"
           }
          ],
          "histogram": [
           {
            "marker": {
             "line": {
              "color": "white",
              "width": 0.6
             }
            },
            "type": "histogram"
           }
          ],
          "histogram2d": [
           {
            "colorbar": {
             "outlinewidth": 1,
             "tickcolor": "rgb(36,36,36)",
             "ticks": "outside"
            },
            "colorscale": [
             [
              0,
              "#440154"
             ],
             [
              0.1111111111111111,
              "#482878"
             ],
             [
              0.2222222222222222,
              "#3e4989"
             ],
             [
              0.3333333333333333,
              "#31688e"
             ],
             [
              0.4444444444444444,
              "#26828e"
             ],
             [
              0.5555555555555556,
              "#1f9e89"
             ],
             [
              0.6666666666666666,
              "#35b779"
             ],
             [
              0.7777777777777778,
              "#6ece58"
             ],
             [
              0.8888888888888888,
              "#b5de2b"
             ],
             [
              1,
              "#fde725"
             ]
            ],
            "type": "histogram2d"
           }
          ],
          "histogram2dcontour": [
           {
            "colorbar": {
             "outlinewidth": 1,
             "tickcolor": "rgb(36,36,36)",
             "ticks": "outside"
            },
            "colorscale": [
             [
              0,
              "#440154"
             ],
             [
              0.1111111111111111,
              "#482878"
             ],
             [
              0.2222222222222222,
              "#3e4989"
             ],
             [
              0.3333333333333333,
              "#31688e"
             ],
             [
              0.4444444444444444,
              "#26828e"
             ],
             [
              0.5555555555555556,
              "#1f9e89"
             ],
             [
              0.6666666666666666,
              "#35b779"
             ],
             [
              0.7777777777777778,
              "#6ece58"
             ],
             [
              0.8888888888888888,
              "#b5de2b"
             ],
             [
              1,
              "#fde725"
             ]
            ],
            "type": "histogram2dcontour"
           }
          ],
          "mesh3d": [
           {
            "colorbar": {
             "outlinewidth": 1,
             "tickcolor": "rgb(36,36,36)",
             "ticks": "outside"
            },
            "type": "mesh3d"
           }
          ],
          "parcoords": [
           {
            "line": {
             "colorbar": {
              "outlinewidth": 1,
              "tickcolor": "rgb(36,36,36)",
              "ticks": "outside"
             }
            },
            "type": "parcoords"
           }
          ],
          "pie": [
           {
            "automargin": true,
            "type": "pie"
           }
          ],
          "scatter": [
           {
            "fillpattern": {
             "fillmode": "overlay",
             "size": 10,
             "solidity": 0.2
            },
            "type": "scatter"
           }
          ],
          "scatter3d": [
           {
            "line": {
             "colorbar": {
              "outlinewidth": 1,
              "tickcolor": "rgb(36,36,36)",
              "ticks": "outside"
             }
            },
            "marker": {
             "colorbar": {
              "outlinewidth": 1,
              "tickcolor": "rgb(36,36,36)",
              "ticks": "outside"
             }
            },
            "type": "scatter3d"
           }
          ],
          "scattercarpet": [
           {
            "marker": {
             "colorbar": {
              "outlinewidth": 1,
              "tickcolor": "rgb(36,36,36)",
              "ticks": "outside"
             }
            },
            "type": "scattercarpet"
           }
          ],
          "scattergeo": [
           {
            "marker": {
             "colorbar": {
              "outlinewidth": 1,
              "tickcolor": "rgb(36,36,36)",
              "ticks": "outside"
             }
            },
            "type": "scattergeo"
           }
          ],
          "scattergl": [
           {
            "marker": {
             "colorbar": {
              "outlinewidth": 1,
              "tickcolor": "rgb(36,36,36)",
              "ticks": "outside"
             }
            },
            "type": "scattergl"
           }
          ],
          "scattermapbox": [
           {
            "marker": {
             "colorbar": {
              "outlinewidth": 1,
              "tickcolor": "rgb(36,36,36)",
              "ticks": "outside"
             }
            },
            "type": "scattermapbox"
           }
          ],
          "scatterpolar": [
           {
            "marker": {
             "colorbar": {
              "outlinewidth": 1,
              "tickcolor": "rgb(36,36,36)",
              "ticks": "outside"
             }
            },
            "type": "scatterpolar"
           }
          ],
          "scatterpolargl": [
           {
            "marker": {
             "colorbar": {
              "outlinewidth": 1,
              "tickcolor": "rgb(36,36,36)",
              "ticks": "outside"
             }
            },
            "type": "scatterpolargl"
           }
          ],
          "scatterternary": [
           {
            "marker": {
             "colorbar": {
              "outlinewidth": 1,
              "tickcolor": "rgb(36,36,36)",
              "ticks": "outside"
             }
            },
            "type": "scatterternary"
           }
          ],
          "surface": [
           {
            "colorbar": {
             "outlinewidth": 1,
             "tickcolor": "rgb(36,36,36)",
             "ticks": "outside"
            },
            "colorscale": [
             [
              0,
              "#440154"
             ],
             [
              0.1111111111111111,
              "#482878"
             ],
             [
              0.2222222222222222,
              "#3e4989"
             ],
             [
              0.3333333333333333,
              "#31688e"
             ],
             [
              0.4444444444444444,
              "#26828e"
             ],
             [
              0.5555555555555556,
              "#1f9e89"
             ],
             [
              0.6666666666666666,
              "#35b779"
             ],
             [
              0.7777777777777778,
              "#6ece58"
             ],
             [
              0.8888888888888888,
              "#b5de2b"
             ],
             [
              1,
              "#fde725"
             ]
            ],
            "type": "surface"
           }
          ],
          "table": [
           {
            "cells": {
             "fill": {
              "color": "rgb(237,237,237)"
             },
             "line": {
              "color": "white"
             }
            },
            "header": {
             "fill": {
              "color": "rgb(217,217,217)"
             },
             "line": {
              "color": "white"
             }
            },
            "type": "table"
           }
          ]
         },
         "layout": {
          "annotationdefaults": {
           "arrowhead": 0,
           "arrowwidth": 1
          },
          "autosize": true,
          "autotypenumbers": "strict",
          "coloraxis": {
           "colorbar": {
            "outlinewidth": 1,
            "tickcolor": "rgb(36,36,36)",
            "ticks": "outside"
           }
          },
          "colorscale": {
           "diverging": [
            [
             0,
             "rgb(103,0,31)"
            ],
            [
             0.1,
             "rgb(178,24,43)"
            ],
            [
             0.2,
             "rgb(214,96,77)"
            ],
            [
             0.3,
             "rgb(244,165,130)"
            ],
            [
             0.4,
             "rgb(253,219,199)"
            ],
            [
             0.5,
             "rgb(247,247,247)"
            ],
            [
             0.6,
             "rgb(209,229,240)"
            ],
            [
             0.7,
             "rgb(146,197,222)"
            ],
            [
             0.8,
             "rgb(67,147,195)"
            ],
            [
             0.9,
             "rgb(33,102,172)"
            ],
            [
             1,
             "rgb(5,48,97)"
            ]
           ],
           "sequential": [
            [
             0,
             "#440154"
            ],
            [
             0.1111111111111111,
             "#482878"
            ],
            [
             0.2222222222222222,
             "#3e4989"
            ],
            [
             0.3333333333333333,
             "#31688e"
            ],
            [
             0.4444444444444444,
             "#26828e"
            ],
            [
             0.5555555555555556,
             "#1f9e89"
            ],
            [
             0.6666666666666666,
             "#35b779"
            ],
            [
             0.7777777777777778,
             "#6ece58"
            ],
            [
             0.8888888888888888,
             "#b5de2b"
            ],
            [
             1,
             "#fde725"
            ]
           ],
           "sequentialminus": [
            [
             0,
             "#440154"
            ],
            [
             0.1111111111111111,
             "#482878"
            ],
            [
             0.2222222222222222,
             "#3e4989"
            ],
            [
             0.3333333333333333,
             "#31688e"
            ],
            [
             0.4444444444444444,
             "#26828e"
            ],
            [
             0.5555555555555556,
             "#1f9e89"
            ],
            [
             0.6666666666666666,
             "#35b779"
            ],
            [
             0.7777777777777778,
             "#6ece58"
            ],
            [
             0.8888888888888888,
             "#b5de2b"
            ],
            [
             1,
             "#fde725"
            ]
           ]
          },
          "colorway": [
           "#1F77B4",
           "#FF7F0E",
           "#2CA02C",
           "#D62728",
           "#9467BD",
           "#8C564B",
           "#E377C2",
           "#7F7F7F",
           "#BCBD22",
           "#17BECF"
          ],
          "font": {
           "color": "rgb(36,36,36)"
          },
          "geo": {
           "bgcolor": "white",
           "lakecolor": "white",
           "landcolor": "white",
           "showlakes": true,
           "showland": true,
           "subunitcolor": "white"
          },
          "height": 400,
          "hoverlabel": {
           "align": "left"
          },
          "hovermode": "closest",
          "mapbox": {
           "style": "light"
          },
          "margin": {
           "b": 30,
           "l": 30,
           "r": 30,
           "t": 30
          },
          "paper_bgcolor": "white",
          "plot_bgcolor": "white",
          "polar": {
           "angularaxis": {
            "gridcolor": "rgb(232,232,232)",
            "linecolor": "rgb(36,36,36)",
            "showgrid": false,
            "showline": true,
            "ticks": "outside"
           },
           "bgcolor": "white",
           "radialaxis": {
            "gridcolor": "rgb(232,232,232)",
            "linecolor": "rgb(36,36,36)",
            "showgrid": false,
            "showline": true,
            "ticks": "outside"
           }
          },
          "scene": {
           "xaxis": {
            "backgroundcolor": "white",
            "gridcolor": "rgb(232,232,232)",
            "gridwidth": 2,
            "linecolor": "rgb(36,36,36)",
            "showbackground": true,
            "showgrid": false,
            "showline": true,
            "ticks": "outside",
            "zeroline": false,
            "zerolinecolor": "rgb(36,36,36)"
           },
           "yaxis": {
            "backgroundcolor": "white",
            "gridcolor": "rgb(232,232,232)",
            "gridwidth": 2,
            "linecolor": "rgb(36,36,36)",
            "showbackground": true,
            "showgrid": false,
            "showline": true,
            "ticks": "outside",
            "zeroline": false,
            "zerolinecolor": "rgb(36,36,36)"
           },
           "zaxis": {
            "backgroundcolor": "white",
            "gridcolor": "rgb(232,232,232)",
            "gridwidth": 2,
            "linecolor": "rgb(36,36,36)",
            "showbackground": true,
            "showgrid": false,
            "showline": true,
            "ticks": "outside",
            "zeroline": false,
            "zerolinecolor": "rgb(36,36,36)"
           }
          },
          "shapedefaults": {
           "fillcolor": "black",
           "line": {
            "width": 0
           },
           "opacity": 0.3
          },
          "ternary": {
           "aaxis": {
            "gridcolor": "rgb(232,232,232)",
            "linecolor": "rgb(36,36,36)",
            "showgrid": false,
            "showline": true,
            "ticks": "outside"
           },
           "baxis": {
            "gridcolor": "rgb(232,232,232)",
            "linecolor": "rgb(36,36,36)",
            "showgrid": false,
            "showline": true,
            "ticks": "outside"
           },
           "bgcolor": "white",
           "caxis": {
            "gridcolor": "rgb(232,232,232)",
            "linecolor": "rgb(36,36,36)",
            "showgrid": false,
            "showline": true,
            "ticks": "outside"
           }
          },
          "title": {
           "x": 0.5,
           "xanchor": "center"
          },
          "width": 600,
          "xaxis": {
           "automargin": true,
           "gridcolor": "rgb(232,232,232)",
           "linecolor": "rgb(36,36,36)",
           "showgrid": true,
           "showline": true,
           "ticks": "outside",
           "title": {
            "standoff": 15
           },
           "zeroline": false,
           "zerolinecolor": "rgb(36,36,36)"
          },
          "yaxis": {
           "automargin": true,
           "gridcolor": "rgb(232,232,232)",
           "linecolor": "rgb(36,36,36)",
           "showgrid": true,
           "showline": true,
           "ticks": "outside",
           "title": {
            "standoff": 15
           },
           "zeroline": false,
           "zerolinecolor": "rgb(36,36,36)"
          }
         }
        },
        "title": {
         "text": "Father's Height by Missingness of Child Height"
        },
        "xaxis": {
         "anchor": "y2",
         "autorange": true,
         "domain": [
          0,
          1
         ],
         "range": [
          62,
          78.467
         ],
         "type": "linear",
         "zeroline": false
        },
        "yaxis": {
         "anchor": "free",
         "autorange": true,
         "domain": [
          0,
          1
         ],
         "position": 0,
         "range": [
          -0.009683567807269393,
          0.19390900580051731
         ],
         "type": "linear"
        }
       }
      },
      "image/png": "[encoded data removed]"
     },
     "metadata": {},
     "output_type": "display_data"
    }
   ],
   "source": [
    "create_kde_plotly(heights_mcar, 'child_missing', True, False, 'father', \n",
    "                  \"Father's Height by Missingness of Child Height\")"
   ]
  },
  {
   "cell_type": "markdown",
   "id": "b4938cd1",
   "metadata": {
    "slideshow": {
     "slide_type": "slide"
    }
   },
   "source": [
    "### Concluding that `'child'` is MCAR\n",
    "\n",
    "- We need to run three permutation tests – one for each column in `heights_mcar` other than `'child'`.\n",
    "\n",
    "- For every other column, if we **fail to reject the null** that the distribution of the column when `'child'` is missing is the same as the distribution of the column when `'child'` is not missing, then we can conclude `'child'` is MCAR.\n",
    "    - In such a case, its missingness is not tied to any other columns.\n",
    "    - For instance, children with shorter fathers are not any more likely to have missing heights than children with taller fathers."
   ]
  },
  {
   "cell_type": "markdown",
   "id": "c832b8bb",
   "metadata": {
    "slideshow": {
     "slide_type": "slide"
    }
   },
   "source": [
    "## Summary, next time"
   ]
  },
  {
   "cell_type": "markdown",
   "id": "df6339af",
   "metadata": {
    "slideshow": {
     "slide_type": "slide"
    }
   },
   "source": [
    "### Summary\n",
    "\n",
    "- Refer to the [Flowchart](#Flowchart) for an overview of the four missingness mechanisms.\n",
    "- We can use permutation tests to verify if a column is MAR vs. MCAR.\n",
    "    - Create two groups: one where values in a column are missing, and another where values in a column aren't missing.\n",
    "    - To test the missingness of column X:\n",
    "        - For every other column, test the null hypothesis \"the distribution of (other column) is the same when column X is missing and when column X is not missing.\"\n",
    "        - If you fail to reject the null, then column X's missingness does not depend on (other column).\n",
    "        - If you reject the null, then column X is MAR dependent on (other column).\n",
    "        - If you fail to reject the null for all other columns, then column X is MCAR!"
   ]
  },
  {
   "cell_type": "markdown",
   "id": "94911ce0",
   "metadata": {
    "slideshow": {
     "slide_type": "slide"
    }
   },
   "source": [
    "### Next time\n",
    "\n",
    "- More examples of deciding between MCAR and MAR using permutation tests.\n",
    "    - For instance, we'll simulate MAR data and see if we can detect whether it is MAR.\n",
    "    - We'll also learn about a new test statistic for measuring the similarity between two categorical distributions.\n",
    "- Imputation: given that we know a column's missingness mechanism, how do we fill in its missing values?"
   ]
  },
  {
   "cell_type": "code",
   "execution_count": null,
   "id": "18c96c73-a7d9-42ac-9fe0-4cd5773e5d72",
   "metadata": {},
   "outputs": [],
   "source": []
  },
  {
   "cell_type": "code",
   "execution_count": null,
   "id": "d1d6ed4b-aa66-49e4-9255-f9bca4f37bdd",
   "metadata": {},
   "outputs": [],
   "source": []
  }
 ],
 "metadata": {
  "kernelspec": {
   "display_name": "Python 3 (ipykernel)",
   "language": "python",
   "name": "python3"
  },
  "language_info": {
   "codemirror_mode": {
    "name": "ipython",
    "version": 3
   },
   "file_extension": ".py",
   "mimetype": "text/x-python",
   "name": "python",
   "nbconvert_exporter": "python",
   "pygments_lexer": "ipython3",
   "version": "3.12.11"
  },
  "livereveal": {
   "scroll": true
  },
  "rise": {
   "transition": "none"
  }
 },
 "nbformat": 4,
 "nbformat_minor": 5
}
